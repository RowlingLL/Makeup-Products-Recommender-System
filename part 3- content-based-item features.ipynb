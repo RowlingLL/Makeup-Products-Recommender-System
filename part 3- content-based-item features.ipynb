{
 "cells": [
  {
   "cell_type": "markdown",
   "metadata": {},
   "source": [
    "# Makeup Products Recommender System"
   ]
  },
  {
   "cell_type": "markdown",
   "metadata": {},
   "source": [
    "## Goals\n",
    "\n",
    "To build several recommender systems for current users and potential users with different approaches: \n",
    "\n",
    "__Demographic filtering:__ based purely on overall ratings of products  \n",
    "\n",
    "__Collaborative filtering:__ based on user-item interaction history\n",
    "\n",
    "__Content based filtering:__ based on product features and user features __in this file__\n",
    "\n",
    "__Hybrid model:__ based on user feature, item feature, and interaction, potentially recommending products to new users according to user input "
   ]
  },
  {
   "cell_type": "markdown",
   "metadata": {},
   "source": [
    "## Dataset overview\n",
    "\n",
    "This system used a private dataset scrapped from https://www.sephora.com containing product details and user reviews history, including 13K products, 210K users, 325K reviews. I've put them into 2 csv files:\n",
    "\n",
    "> __'all_primary_products.csv':__\n",
    "\n",
    "__product_id:__       product identifier<br>\n",
    "__sku_id:__           identifier for different colors within one product<br>\n",
    "__category:__         category this product belongs to, i.e. eye, face, lip...<br>\n",
    "__name:__ prodcut name<br>\n",
    "__brand:__ product brand<br>\n",
    "__price:__ product price at the time of webcrawling<br>\n",
    "__product_url:__ product url<br>\n",
    "__image_url:__ url of the main product image<br>\n",
    "__rating:__ overall average rating<br>\n",
    "__reviews_count:__ number of reviews on this product<br>\n",
    "__loves_count:__ number of 'love' clicked on this product<br>\n",
    "__color_count:__ color counts of the product, if any. e.g. accessories normally have 0 colors, but foundations could have several different\tcolours<br>\n",
    "__details:__ detailed product discription<br>\n",
    "__sku_group:__ different colors within one product<br>\n",
    "__similar_products:__ similar products defined by merchant<br>\n",
    "__bought_together:__ products that usually bought together<br>\n",
    "__is_listed:__ whether the product is available at the time of webcrawling\n"
   ]
  },
  {
   "cell_type": "markdown",
   "metadata": {},
   "source": [
    "> __'all_users_reviews.csv':__\n",
    "\n",
    "__product_id:__       product identifier<br>\n",
    "__product_name:__ prodcut name<br>\tproduct_url: product url<br>\n",
    "__user_nickname:__ \tuser nickname<br>\n",
    "__author_id:__ user identifier\t<br>\n",
    "__location:__ user location<br>\n",
    "__eye_color:__ user eye color on file\t<br>\n",
    "__hair_color:__ user hair color on file<br>\n",
    "__skin_tone:__ user skin tone on file<br>\n",
    "__skin_type:__ user skin type on file<br>\n",
    "__age_range:__ user age range on file<br>\n",
    "__rating:__ rating this user gave to this product, on scale 1-5<br>\n",
    "__review_title:__ title of user review<br>\n",
    "__review_text:__ text of this review<br>\n",
    "__is_recommended:__ whether this user recommend this product, '1' recommend, '0' not recommend<br>\n",
    "__submission_time:__ time of the review submission<br>\n",
    "__helpful_count:__ number of people who think this review is helpful<br>\n",
    "__not_helpful_count:__ number of people who think this review is not helpful<br>\n",
    "__helpfulness:__ helpful_count/(helpful_count+not_helpful_count)<br>"
   ]
  },
  {
   "cell_type": "markdown",
   "metadata": {},
   "source": [
    "## Data preparation"
   ]
  },
  {
   "cell_type": "markdown",
   "metadata": {},
   "source": [
    "Import all libs we need"
   ]
  },
  {
   "cell_type": "code",
   "execution_count": 1,
   "metadata": {},
   "outputs": [],
   "source": [
    "%matplotlib inline\n",
    "import warnings; warnings.simplefilter('ignore')\n",
    "import numpy as np\n",
    "import pandas as pd\n",
    "import seaborn as sns\n",
    "import matplotlib.pyplot as plt\n",
    "from sklearn.preprocessing import MultiLabelBinarizer\n",
    "sns.set_style(\"darkgrid\")\n",
    "plt.rcParams['figure.figsize'] = [13, 8]"
   ]
  },
  {
   "cell_type": "markdown",
   "metadata": {},
   "source": [
    "First we have a look at the overall ratings of products"
   ]
  },
  {
   "cell_type": "code",
   "execution_count": 2,
   "metadata": {},
   "outputs": [
    {
     "data": {
      "text/html": [
       "<div>\n",
       "<style scoped>\n",
       "    .dataframe tbody tr th:only-of-type {\n",
       "        vertical-align: middle;\n",
       "    }\n",
       "\n",
       "    .dataframe tbody tr th {\n",
       "        vertical-align: top;\n",
       "    }\n",
       "\n",
       "    .dataframe thead th {\n",
       "        text-align: right;\n",
       "    }\n",
       "</style>\n",
       "<table border=\"1\" class=\"dataframe\">\n",
       "  <thead>\n",
       "    <tr style=\"text-align: right;\">\n",
       "      <th></th>\n",
       "      <th>product_id</th>\n",
       "      <th>sku_id</th>\n",
       "      <th>category</th>\n",
       "      <th>name</th>\n",
       "      <th>brand</th>\n",
       "      <th>price</th>\n",
       "      <th>product_url</th>\n",
       "      <th>image_url</th>\n",
       "      <th>rating</th>\n",
       "      <th>reviews_count</th>\n",
       "      <th>loves_count</th>\n",
       "      <th>color_count</th>\n",
       "      <th>details</th>\n",
       "      <th>sku_group</th>\n",
       "      <th>similar_products</th>\n",
       "      <th>bought_together</th>\n",
       "      <th>is_listed</th>\n",
       "    </tr>\n",
       "  </thead>\n",
       "  <tbody>\n",
       "    <tr>\n",
       "      <th>0</th>\n",
       "      <td>P432235</td>\n",
       "      <td>2058733.0</td>\n",
       "      <td>eye</td>\n",
       "      <td>Superhero Liner</td>\n",
       "      <td>IT Cosmetics</td>\n",
       "      <td>32.0</td>\n",
       "      <td>https://www.sephora.com/product/superhero-line...</td>\n",
       "      <td>https://www.sephora.com/productimages/sku/s205...</td>\n",
       "      <td>4.2308</td>\n",
       "      <td>0</td>\n",
       "      <td>0</td>\n",
       "      <td>0</td>\n",
       "      <td>NaN</td>\n",
       "      <td>[]</td>\n",
       "      <td>[]</td>\n",
       "      <td>[]</td>\n",
       "      <td>no</td>\n",
       "    </tr>\n",
       "    <tr>\n",
       "      <th>1</th>\n",
       "      <td>P411833</td>\n",
       "      <td>1875038.0</td>\n",
       "      <td>eye</td>\n",
       "      <td>Blackest Black Eyeshadow Gold Rush</td>\n",
       "      <td>Natasha Denona</td>\n",
       "      <td>37.0</td>\n",
       "      <td>https://www.sephora.com/product/blackest-black...</td>\n",
       "      <td>https://www.sephora.com/productimages/sku/s187...</td>\n",
       "      <td>3.9000</td>\n",
       "      <td>10</td>\n",
       "      <td>2319</td>\n",
       "      <td>1</td>\n",
       "      <td>What it is:\\n A full-coverage, highly pigmente...</td>\n",
       "      <td>['1875038']</td>\n",
       "      <td>['P404832', 'P63087293', 'P424001', 'P309813',...</td>\n",
       "      <td>['P437713', 'P384060', 'P313025', 'P421738', '...</td>\n",
       "      <td>yes</td>\n",
       "    </tr>\n",
       "    <tr>\n",
       "      <th>2</th>\n",
       "      <td>P411302</td>\n",
       "      <td>1865245.0</td>\n",
       "      <td>eye</td>\n",
       "      <td>Precision Felt Eyeliner</td>\n",
       "      <td>Guerlain</td>\n",
       "      <td>49.0</td>\n",
       "      <td>https://www.sephora.com/product/precision-felt...</td>\n",
       "      <td>https://www.sephora.com/productimages/sku/s186...</td>\n",
       "      <td>3.7500</td>\n",
       "      <td>8</td>\n",
       "      <td>795</td>\n",
       "      <td>1</td>\n",
       "      <td>What it is:\\nAn eyeliner with a long felt tip ...</td>\n",
       "      <td>['1865245']</td>\n",
       "      <td>['P403324', 'P230234', 'P253818', 'P245205', '...</td>\n",
       "      <td>['P17876556', 'P429720', 'P313034', 'P416204',...</td>\n",
       "      <td>yes</td>\n",
       "    </tr>\n",
       "    <tr>\n",
       "      <th>3</th>\n",
       "      <td>P406816</td>\n",
       "      <td>1811918.0</td>\n",
       "      <td>eye</td>\n",
       "      <td>X-Rated Mascara</td>\n",
       "      <td>Smashbox</td>\n",
       "      <td>28.0</td>\n",
       "      <td>https://www.sephora.com/product/x-rated-mascar...</td>\n",
       "      <td>https://www.sephora.com/productimages/sku/s181...</td>\n",
       "      <td>3.5732</td>\n",
       "      <td>0</td>\n",
       "      <td>0</td>\n",
       "      <td>0</td>\n",
       "      <td>NaN</td>\n",
       "      <td>[]</td>\n",
       "      <td>[]</td>\n",
       "      <td>[]</td>\n",
       "      <td>no</td>\n",
       "    </tr>\n",
       "    <tr>\n",
       "      <th>4</th>\n",
       "      <td>P433486</td>\n",
       "      <td>2089423.0</td>\n",
       "      <td>eye</td>\n",
       "      <td>MASCARA VOLUME EFFET FAUX CILS Flash Primer</td>\n",
       "      <td>Yves Saint Laurent</td>\n",
       "      <td>41.0</td>\n",
       "      <td>https://www.sephora.com/product/mascara-volume...</td>\n",
       "      <td>https://www.sephora.com/productimages/sku/s208...</td>\n",
       "      <td>5.0000</td>\n",
       "      <td>0</td>\n",
       "      <td>0</td>\n",
       "      <td>0</td>\n",
       "      <td>NaN</td>\n",
       "      <td>[]</td>\n",
       "      <td>[]</td>\n",
       "      <td>[]</td>\n",
       "      <td>no</td>\n",
       "    </tr>\n",
       "  </tbody>\n",
       "</table>\n",
       "</div>"
      ],
      "text/plain": [
       "  product_id     sku_id category                                         name  \\\n",
       "0    P432235  2058733.0      eye                              Superhero Liner   \n",
       "1    P411833  1875038.0      eye           Blackest Black Eyeshadow Gold Rush   \n",
       "2    P411302  1865245.0      eye                      Precision Felt Eyeliner   \n",
       "3    P406816  1811918.0      eye                              X-Rated Mascara   \n",
       "4    P433486  2089423.0      eye  MASCARA VOLUME EFFET FAUX CILS Flash Primer   \n",
       "\n",
       "                brand  price  \\\n",
       "0        IT Cosmetics   32.0   \n",
       "1      Natasha Denona   37.0   \n",
       "2            Guerlain   49.0   \n",
       "3            Smashbox   28.0   \n",
       "4  Yves Saint Laurent   41.0   \n",
       "\n",
       "                                         product_url  \\\n",
       "0  https://www.sephora.com/product/superhero-line...   \n",
       "1  https://www.sephora.com/product/blackest-black...   \n",
       "2  https://www.sephora.com/product/precision-felt...   \n",
       "3  https://www.sephora.com/product/x-rated-mascar...   \n",
       "4  https://www.sephora.com/product/mascara-volume...   \n",
       "\n",
       "                                           image_url  rating  reviews_count  \\\n",
       "0  https://www.sephora.com/productimages/sku/s205...  4.2308              0   \n",
       "1  https://www.sephora.com/productimages/sku/s187...  3.9000             10   \n",
       "2  https://www.sephora.com/productimages/sku/s186...  3.7500              8   \n",
       "3  https://www.sephora.com/productimages/sku/s181...  3.5732              0   \n",
       "4  https://www.sephora.com/productimages/sku/s208...  5.0000              0   \n",
       "\n",
       "   loves_count  color_count  \\\n",
       "0            0            0   \n",
       "1         2319            1   \n",
       "2          795            1   \n",
       "3            0            0   \n",
       "4            0            0   \n",
       "\n",
       "                                             details    sku_group  \\\n",
       "0                                                NaN           []   \n",
       "1  What it is:\\n A full-coverage, highly pigmente...  ['1875038']   \n",
       "2  What it is:\\nAn eyeliner with a long felt tip ...  ['1865245']   \n",
       "3                                                NaN           []   \n",
       "4                                                NaN           []   \n",
       "\n",
       "                                    similar_products  \\\n",
       "0                                                 []   \n",
       "1  ['P404832', 'P63087293', 'P424001', 'P309813',...   \n",
       "2  ['P403324', 'P230234', 'P253818', 'P245205', '...   \n",
       "3                                                 []   \n",
       "4                                                 []   \n",
       "\n",
       "                                     bought_together is_listed  \n",
       "0                                                 []        no  \n",
       "1  ['P437713', 'P384060', 'P313025', 'P421738', '...       yes  \n",
       "2  ['P17876556', 'P429720', 'P313034', 'P416204',...       yes  \n",
       "3                                                 []        no  \n",
       "4                                                 []        no  "
      ]
     },
     "execution_count": 2,
     "metadata": {},
     "output_type": "execute_result"
    }
   ],
   "source": [
    "prod=pd.read_csv('all_primary_products.csv')\n",
    "prod.head()"
   ]
  },
  {
   "cell_type": "code",
   "execution_count": 3,
   "metadata": {},
   "outputs": [
    {
     "data": {
      "text/html": [
       "<div>\n",
       "<style scoped>\n",
       "    .dataframe tbody tr th:only-of-type {\n",
       "        vertical-align: middle;\n",
       "    }\n",
       "\n",
       "    .dataframe tbody tr th {\n",
       "        vertical-align: top;\n",
       "    }\n",
       "\n",
       "    .dataframe thead th {\n",
       "        text-align: right;\n",
       "    }\n",
       "</style>\n",
       "<table border=\"1\" class=\"dataframe\">\n",
       "  <thead>\n",
       "    <tr style=\"text-align: right;\">\n",
       "      <th></th>\n",
       "      <th>count</th>\n",
       "      <th>unique</th>\n",
       "      <th>top</th>\n",
       "      <th>freq</th>\n",
       "      <th>mean</th>\n",
       "      <th>std</th>\n",
       "      <th>min</th>\n",
       "      <th>25%</th>\n",
       "      <th>50%</th>\n",
       "      <th>75%</th>\n",
       "      <th>max</th>\n",
       "    </tr>\n",
       "  </thead>\n",
       "  <tbody>\n",
       "    <tr>\n",
       "      <th>product_id</th>\n",
       "      <td>3925</td>\n",
       "      <td>3387</td>\n",
       "      <td>P427344</td>\n",
       "      <td>4</td>\n",
       "      <td>NaN</td>\n",
       "      <td>NaN</td>\n",
       "      <td>NaN</td>\n",
       "      <td>NaN</td>\n",
       "      <td>NaN</td>\n",
       "      <td>NaN</td>\n",
       "      <td>NaN</td>\n",
       "    </tr>\n",
       "    <tr>\n",
       "      <th>sku_id</th>\n",
       "      <td>3924</td>\n",
       "      <td>NaN</td>\n",
       "      <td>NaN</td>\n",
       "      <td>NaN</td>\n",
       "      <td>1.87534e+06</td>\n",
       "      <td>307214</td>\n",
       "      <td>48041</td>\n",
       "      <td>1.75423e+06</td>\n",
       "      <td>1.95008e+06</td>\n",
       "      <td>2.0938e+06</td>\n",
       "      <td>2.22557e+06</td>\n",
       "    </tr>\n",
       "    <tr>\n",
       "      <th>category</th>\n",
       "      <td>3925</td>\n",
       "      <td>7</td>\n",
       "      <td>eye</td>\n",
       "      <td>1083</td>\n",
       "      <td>NaN</td>\n",
       "      <td>NaN</td>\n",
       "      <td>NaN</td>\n",
       "      <td>NaN</td>\n",
       "      <td>NaN</td>\n",
       "      <td>NaN</td>\n",
       "      <td>NaN</td>\n",
       "    </tr>\n",
       "    <tr>\n",
       "      <th>name</th>\n",
       "      <td>3925</td>\n",
       "      <td>3341</td>\n",
       "      <td>Lipstick</td>\n",
       "      <td>5</td>\n",
       "      <td>NaN</td>\n",
       "      <td>NaN</td>\n",
       "      <td>NaN</td>\n",
       "      <td>NaN</td>\n",
       "      <td>NaN</td>\n",
       "      <td>NaN</td>\n",
       "      <td>NaN</td>\n",
       "    </tr>\n",
       "    <tr>\n",
       "      <th>brand</th>\n",
       "      <td>3925</td>\n",
       "      <td>144</td>\n",
       "      <td>SEPHORA COLLECTION</td>\n",
       "      <td>330</td>\n",
       "      <td>NaN</td>\n",
       "      <td>NaN</td>\n",
       "      <td>NaN</td>\n",
       "      <td>NaN</td>\n",
       "      <td>NaN</td>\n",
       "      <td>NaN</td>\n",
       "      <td>NaN</td>\n",
       "    </tr>\n",
       "    <tr>\n",
       "      <th>price</th>\n",
       "      <td>3925</td>\n",
       "      <td>NaN</td>\n",
       "      <td>NaN</td>\n",
       "      <td>NaN</td>\n",
       "      <td>41.0424</td>\n",
       "      <td>28.6192</td>\n",
       "      <td>2</td>\n",
       "      <td>26</td>\n",
       "      <td>35</td>\n",
       "      <td>49</td>\n",
       "      <td>526</td>\n",
       "    </tr>\n",
       "    <tr>\n",
       "      <th>product_url</th>\n",
       "      <td>3925</td>\n",
       "      <td>3387</td>\n",
       "      <td>https://www.sephora.com/product/prismatic-mult...</td>\n",
       "      <td>4</td>\n",
       "      <td>NaN</td>\n",
       "      <td>NaN</td>\n",
       "      <td>NaN</td>\n",
       "      <td>NaN</td>\n",
       "      <td>NaN</td>\n",
       "      <td>NaN</td>\n",
       "      <td>NaN</td>\n",
       "    </tr>\n",
       "    <tr>\n",
       "      <th>image_url</th>\n",
       "      <td>3925</td>\n",
       "      <td>3377</td>\n",
       "      <td>https://www.sephora.com/productimages/sku/s202...</td>\n",
       "      <td>4</td>\n",
       "      <td>NaN</td>\n",
       "      <td>NaN</td>\n",
       "      <td>NaN</td>\n",
       "      <td>NaN</td>\n",
       "      <td>NaN</td>\n",
       "      <td>NaN</td>\n",
       "      <td>NaN</td>\n",
       "    </tr>\n",
       "    <tr>\n",
       "      <th>rating</th>\n",
       "      <td>3925</td>\n",
       "      <td>NaN</td>\n",
       "      <td>NaN</td>\n",
       "      <td>NaN</td>\n",
       "      <td>4.04721</td>\n",
       "      <td>0.83468</td>\n",
       "      <td>0</td>\n",
       "      <td>3.8776</td>\n",
       "      <td>4.2289</td>\n",
       "      <td>4.5</td>\n",
       "      <td>5</td>\n",
       "    </tr>\n",
       "    <tr>\n",
       "      <th>reviews_count</th>\n",
       "      <td>3925</td>\n",
       "      <td>NaN</td>\n",
       "      <td>NaN</td>\n",
       "      <td>NaN</td>\n",
       "      <td>370.905</td>\n",
       "      <td>1098.22</td>\n",
       "      <td>0</td>\n",
       "      <td>1</td>\n",
       "      <td>42</td>\n",
       "      <td>275</td>\n",
       "      <td>17000</td>\n",
       "    </tr>\n",
       "    <tr>\n",
       "      <th>loves_count</th>\n",
       "      <td>3925</td>\n",
       "      <td>NaN</td>\n",
       "      <td>NaN</td>\n",
       "      <td>NaN</td>\n",
       "      <td>23654</td>\n",
       "      <td>56801.3</td>\n",
       "      <td>0</td>\n",
       "      <td>511</td>\n",
       "      <td>6341</td>\n",
       "      <td>21365</td>\n",
       "      <td>1.17586e+06</td>\n",
       "    </tr>\n",
       "    <tr>\n",
       "      <th>color_count</th>\n",
       "      <td>3925</td>\n",
       "      <td>NaN</td>\n",
       "      <td>NaN</td>\n",
       "      <td>NaN</td>\n",
       "      <td>3.38675</td>\n",
       "      <td>7.8574</td>\n",
       "      <td>0</td>\n",
       "      <td>0</td>\n",
       "      <td>0</td>\n",
       "      <td>3</td>\n",
       "      <td>121</td>\n",
       "    </tr>\n",
       "    <tr>\n",
       "      <th>details</th>\n",
       "      <td>3008</td>\n",
       "      <td>2568</td>\n",
       "      <td>To redeem your set:1. SELECT the Customizable ...</td>\n",
       "      <td>6</td>\n",
       "      <td>NaN</td>\n",
       "      <td>NaN</td>\n",
       "      <td>NaN</td>\n",
       "      <td>NaN</td>\n",
       "      <td>NaN</td>\n",
       "      <td>NaN</td>\n",
       "      <td>NaN</td>\n",
       "    </tr>\n",
       "    <tr>\n",
       "      <th>sku_group</th>\n",
       "      <td>3925</td>\n",
       "      <td>1355</td>\n",
       "      <td>[]</td>\n",
       "      <td>2299</td>\n",
       "      <td>NaN</td>\n",
       "      <td>NaN</td>\n",
       "      <td>NaN</td>\n",
       "      <td>NaN</td>\n",
       "      <td>NaN</td>\n",
       "      <td>NaN</td>\n",
       "      <td>NaN</td>\n",
       "    </tr>\n",
       "    <tr>\n",
       "      <th>similar_products</th>\n",
       "      <td>3925</td>\n",
       "      <td>2543</td>\n",
       "      <td>[]</td>\n",
       "      <td>938</td>\n",
       "      <td>NaN</td>\n",
       "      <td>NaN</td>\n",
       "      <td>NaN</td>\n",
       "      <td>NaN</td>\n",
       "      <td>NaN</td>\n",
       "      <td>NaN</td>\n",
       "      <td>NaN</td>\n",
       "    </tr>\n",
       "    <tr>\n",
       "      <th>bought_together</th>\n",
       "      <td>3925</td>\n",
       "      <td>2524</td>\n",
       "      <td>[]</td>\n",
       "      <td>937</td>\n",
       "      <td>NaN</td>\n",
       "      <td>NaN</td>\n",
       "      <td>NaN</td>\n",
       "      <td>NaN</td>\n",
       "      <td>NaN</td>\n",
       "      <td>NaN</td>\n",
       "      <td>NaN</td>\n",
       "    </tr>\n",
       "    <tr>\n",
       "      <th>is_listed</th>\n",
       "      <td>3925</td>\n",
       "      <td>2</td>\n",
       "      <td>yes</td>\n",
       "      <td>3008</td>\n",
       "      <td>NaN</td>\n",
       "      <td>NaN</td>\n",
       "      <td>NaN</td>\n",
       "      <td>NaN</td>\n",
       "      <td>NaN</td>\n",
       "      <td>NaN</td>\n",
       "      <td>NaN</td>\n",
       "    </tr>\n",
       "  </tbody>\n",
       "</table>\n",
       "</div>"
      ],
      "text/plain": [
       "                 count unique  \\\n",
       "product_id        3925   3387   \n",
       "sku_id            3924    NaN   \n",
       "category          3925      7   \n",
       "name              3925   3341   \n",
       "brand             3925    144   \n",
       "price             3925    NaN   \n",
       "product_url       3925   3387   \n",
       "image_url         3925   3377   \n",
       "rating            3925    NaN   \n",
       "reviews_count     3925    NaN   \n",
       "loves_count       3925    NaN   \n",
       "color_count       3925    NaN   \n",
       "details           3008   2568   \n",
       "sku_group         3925   1355   \n",
       "similar_products  3925   2543   \n",
       "bought_together   3925   2524   \n",
       "is_listed         3925      2   \n",
       "\n",
       "                                                                top  freq  \\\n",
       "product_id                                                  P427344     4   \n",
       "sku_id                                                          NaN   NaN   \n",
       "category                                                        eye  1083   \n",
       "name                                                       Lipstick     5   \n",
       "brand                                            SEPHORA COLLECTION   330   \n",
       "price                                                           NaN   NaN   \n",
       "product_url       https://www.sephora.com/product/prismatic-mult...     4   \n",
       "image_url         https://www.sephora.com/productimages/sku/s202...     4   \n",
       "rating                                                          NaN   NaN   \n",
       "reviews_count                                                   NaN   NaN   \n",
       "loves_count                                                     NaN   NaN   \n",
       "color_count                                                     NaN   NaN   \n",
       "details           To redeem your set:1. SELECT the Customizable ...     6   \n",
       "sku_group                                                        []  2299   \n",
       "similar_products                                                 []   938   \n",
       "bought_together                                                  []   937   \n",
       "is_listed                                                       yes  3008   \n",
       "\n",
       "                         mean      std    min          25%          50%  \\\n",
       "product_id                NaN      NaN    NaN          NaN          NaN   \n",
       "sku_id            1.87534e+06   307214  48041  1.75423e+06  1.95008e+06   \n",
       "category                  NaN      NaN    NaN          NaN          NaN   \n",
       "name                      NaN      NaN    NaN          NaN          NaN   \n",
       "brand                     NaN      NaN    NaN          NaN          NaN   \n",
       "price                 41.0424  28.6192      2           26           35   \n",
       "product_url               NaN      NaN    NaN          NaN          NaN   \n",
       "image_url                 NaN      NaN    NaN          NaN          NaN   \n",
       "rating                4.04721  0.83468      0       3.8776       4.2289   \n",
       "reviews_count         370.905  1098.22      0            1           42   \n",
       "loves_count             23654  56801.3      0          511         6341   \n",
       "color_count           3.38675   7.8574      0            0            0   \n",
       "details                   NaN      NaN    NaN          NaN          NaN   \n",
       "sku_group                 NaN      NaN    NaN          NaN          NaN   \n",
       "similar_products          NaN      NaN    NaN          NaN          NaN   \n",
       "bought_together           NaN      NaN    NaN          NaN          NaN   \n",
       "is_listed                 NaN      NaN    NaN          NaN          NaN   \n",
       "\n",
       "                         75%          max  \n",
       "product_id               NaN          NaN  \n",
       "sku_id            2.0938e+06  2.22557e+06  \n",
       "category                 NaN          NaN  \n",
       "name                     NaN          NaN  \n",
       "brand                    NaN          NaN  \n",
       "price                     49          526  \n",
       "product_url              NaN          NaN  \n",
       "image_url                NaN          NaN  \n",
       "rating                   4.5            5  \n",
       "reviews_count            275        17000  \n",
       "loves_count            21365  1.17586e+06  \n",
       "color_count                3          121  \n",
       "details                  NaN          NaN  \n",
       "sku_group                NaN          NaN  \n",
       "similar_products         NaN          NaN  \n",
       "bought_together          NaN          NaN  \n",
       "is_listed                NaN          NaN  "
      ]
     },
     "execution_count": 3,
     "metadata": {},
     "output_type": "execute_result"
    }
   ],
   "source": [
    "prod.describe(include='all').T"
   ]
  },
  {
   "cell_type": "markdown",
   "metadata": {},
   "source": [
    "Sereval observations on the raw data:\n",
    "\n",
    "1, sku_id indicates different colors within the same product. But since all the ratings/reviews/loves are based on products, this additional infomation will be discarded. \n",
    "\n",
    "2, is_listed=no means the product is discontinued right now, thus should not appear in our recommendation system.\n",
    "\n",
    "3, The product details are useful for a content based filtering system, but are currently beyond the scope. The same applies to sku_group, similar_products and bought_together.\n"
   ]
  },
  {
   "cell_type": "code",
   "execution_count": 4,
   "metadata": {},
   "outputs": [
    {
     "data": {
      "text/html": [
       "<div>\n",
       "<style scoped>\n",
       "    .dataframe tbody tr th:only-of-type {\n",
       "        vertical-align: middle;\n",
       "    }\n",
       "\n",
       "    .dataframe tbody tr th {\n",
       "        vertical-align: top;\n",
       "    }\n",
       "\n",
       "    .dataframe thead th {\n",
       "        text-align: right;\n",
       "    }\n",
       "</style>\n",
       "<table border=\"1\" class=\"dataframe\">\n",
       "  <thead>\n",
       "    <tr style=\"text-align: right;\">\n",
       "      <th></th>\n",
       "      <th>count</th>\n",
       "      <th>unique</th>\n",
       "      <th>top</th>\n",
       "      <th>freq</th>\n",
       "      <th>mean</th>\n",
       "      <th>std</th>\n",
       "      <th>min</th>\n",
       "      <th>25%</th>\n",
       "      <th>50%</th>\n",
       "      <th>75%</th>\n",
       "      <th>max</th>\n",
       "    </tr>\n",
       "  </thead>\n",
       "  <tbody>\n",
       "    <tr>\n",
       "      <th>product_id</th>\n",
       "      <td>2962</td>\n",
       "      <td>2539</td>\n",
       "      <td>P427344</td>\n",
       "      <td>4</td>\n",
       "      <td>NaN</td>\n",
       "      <td>NaN</td>\n",
       "      <td>NaN</td>\n",
       "      <td>NaN</td>\n",
       "      <td>NaN</td>\n",
       "      <td>NaN</td>\n",
       "      <td>NaN</td>\n",
       "    </tr>\n",
       "    <tr>\n",
       "      <th>category</th>\n",
       "      <td>2962</td>\n",
       "      <td>7</td>\n",
       "      <td>eye</td>\n",
       "      <td>816</td>\n",
       "      <td>NaN</td>\n",
       "      <td>NaN</td>\n",
       "      <td>NaN</td>\n",
       "      <td>NaN</td>\n",
       "      <td>NaN</td>\n",
       "      <td>NaN</td>\n",
       "      <td>NaN</td>\n",
       "    </tr>\n",
       "    <tr>\n",
       "      <th>name</th>\n",
       "      <td>2962</td>\n",
       "      <td>2515</td>\n",
       "      <td>Concealer Pencil</td>\n",
       "      <td>4</td>\n",
       "      <td>NaN</td>\n",
       "      <td>NaN</td>\n",
       "      <td>NaN</td>\n",
       "      <td>NaN</td>\n",
       "      <td>NaN</td>\n",
       "      <td>NaN</td>\n",
       "      <td>NaN</td>\n",
       "    </tr>\n",
       "    <tr>\n",
       "      <th>brand</th>\n",
       "      <td>2962</td>\n",
       "      <td>124</td>\n",
       "      <td>SEPHORA COLLECTION</td>\n",
       "      <td>302</td>\n",
       "      <td>NaN</td>\n",
       "      <td>NaN</td>\n",
       "      <td>NaN</td>\n",
       "      <td>NaN</td>\n",
       "      <td>NaN</td>\n",
       "      <td>NaN</td>\n",
       "      <td>NaN</td>\n",
       "    </tr>\n",
       "    <tr>\n",
       "      <th>price</th>\n",
       "      <td>2962</td>\n",
       "      <td>NaN</td>\n",
       "      <td>NaN</td>\n",
       "      <td>NaN</td>\n",
       "      <td>40.1456</td>\n",
       "      <td>28.3333</td>\n",
       "      <td>2</td>\n",
       "      <td>25</td>\n",
       "      <td>35</td>\n",
       "      <td>48</td>\n",
       "      <td>526</td>\n",
       "    </tr>\n",
       "    <tr>\n",
       "      <th>product_url</th>\n",
       "      <td>2962</td>\n",
       "      <td>2539</td>\n",
       "      <td>https://www.sephora.com/product/prismatic-mult...</td>\n",
       "      <td>4</td>\n",
       "      <td>NaN</td>\n",
       "      <td>NaN</td>\n",
       "      <td>NaN</td>\n",
       "      <td>NaN</td>\n",
       "      <td>NaN</td>\n",
       "      <td>NaN</td>\n",
       "      <td>NaN</td>\n",
       "    </tr>\n",
       "    <tr>\n",
       "      <th>image_url</th>\n",
       "      <td>2962</td>\n",
       "      <td>2532</td>\n",
       "      <td>https://www.sephora.com/productimages/sku/s202...</td>\n",
       "      <td>4</td>\n",
       "      <td>NaN</td>\n",
       "      <td>NaN</td>\n",
       "      <td>NaN</td>\n",
       "      <td>NaN</td>\n",
       "      <td>NaN</td>\n",
       "      <td>NaN</td>\n",
       "      <td>NaN</td>\n",
       "    </tr>\n",
       "    <tr>\n",
       "      <th>rating</th>\n",
       "      <td>2962</td>\n",
       "      <td>NaN</td>\n",
       "      <td>NaN</td>\n",
       "      <td>NaN</td>\n",
       "      <td>4.17017</td>\n",
       "      <td>0.47743</td>\n",
       "      <td>1</td>\n",
       "      <td>3.93843</td>\n",
       "      <td>4.25</td>\n",
       "      <td>4.5</td>\n",
       "      <td>5</td>\n",
       "    </tr>\n",
       "    <tr>\n",
       "      <th>reviews_count</th>\n",
       "      <td>2962</td>\n",
       "      <td>NaN</td>\n",
       "      <td>NaN</td>\n",
       "      <td>NaN</td>\n",
       "      <td>491.484</td>\n",
       "      <td>1240.58</td>\n",
       "      <td>0</td>\n",
       "      <td>25</td>\n",
       "      <td>107</td>\n",
       "      <td>450.25</td>\n",
       "      <td>17000</td>\n",
       "    </tr>\n",
       "    <tr>\n",
       "      <th>loves_count</th>\n",
       "      <td>2962</td>\n",
       "      <td>NaN</td>\n",
       "      <td>NaN</td>\n",
       "      <td>NaN</td>\n",
       "      <td>31328.4</td>\n",
       "      <td>63525.8</td>\n",
       "      <td>0</td>\n",
       "      <td>4356</td>\n",
       "      <td>11448</td>\n",
       "      <td>30574</td>\n",
       "      <td>1.17586e+06</td>\n",
       "    </tr>\n",
       "  </tbody>\n",
       "</table>\n",
       "</div>"
      ],
      "text/plain": [
       "              count unique                                                top  \\\n",
       "product_id     2962   2539                                            P427344   \n",
       "category       2962      7                                                eye   \n",
       "name           2962   2515                                   Concealer Pencil   \n",
       "brand          2962    124                                 SEPHORA COLLECTION   \n",
       "price          2962    NaN                                                NaN   \n",
       "product_url    2962   2539  https://www.sephora.com/product/prismatic-mult...   \n",
       "image_url      2962   2532  https://www.sephora.com/productimages/sku/s202...   \n",
       "rating         2962    NaN                                                NaN   \n",
       "reviews_count  2962    NaN                                                NaN   \n",
       "loves_count    2962    NaN                                                NaN   \n",
       "\n",
       "              freq     mean      std  min      25%    50%     75%          max  \n",
       "product_id       4      NaN      NaN  NaN      NaN    NaN     NaN          NaN  \n",
       "category       816      NaN      NaN  NaN      NaN    NaN     NaN          NaN  \n",
       "name             4      NaN      NaN  NaN      NaN    NaN     NaN          NaN  \n",
       "brand          302      NaN      NaN  NaN      NaN    NaN     NaN          NaN  \n",
       "price          NaN  40.1456  28.3333    2       25     35      48          526  \n",
       "product_url      4      NaN      NaN  NaN      NaN    NaN     NaN          NaN  \n",
       "image_url        4      NaN      NaN  NaN      NaN    NaN     NaN          NaN  \n",
       "rating         NaN  4.17017  0.47743    1  3.93843   4.25     4.5            5  \n",
       "reviews_count  NaN  491.484  1240.58    0       25    107  450.25        17000  \n",
       "loves_count    NaN  31328.4  63525.8    0     4356  11448   30574  1.17586e+06  "
      ]
     },
     "execution_count": 4,
     "metadata": {},
     "output_type": "execute_result"
    }
   ],
   "source": [
    "prod=prod[prod['is_listed']=='yes']\n",
    "prod=prod[prod['rating']!=0]\n",
    "columns_to_drop=['sku_group','similar_products','bought_together','details','sku_id','color_count','is_listed']\n",
    "prod=prod.drop(columns_to_drop, axis=1)\n",
    "prod.describe(include='all').T"
   ]
  },
  {
   "cell_type": "markdown",
   "metadata": {},
   "source": [
    "## Collaborative filtering"
   ]
  },
  {
   "cell_type": "markdown",
   "metadata": {},
   "source": [
    "Let's take a look at next data file, with product-user interaction."
   ]
  },
  {
   "cell_type": "code",
   "execution_count": 5,
   "metadata": {},
   "outputs": [],
   "source": [
    "ratings=pd.read_csv('all_users_reviews.csv')"
   ]
  },
  {
   "cell_type": "code",
   "execution_count": 6,
   "metadata": {},
   "outputs": [],
   "source": [
    "prod=prod[prod['product_id'].isin(ratings['product_id'])]\n",
    "ratings=ratings[ratings['product_id'].isin(prod['product_id'])]"
   ]
  },
  {
   "cell_type": "code",
   "execution_count": 7,
   "metadata": {},
   "outputs": [
    {
     "name": "stdout",
     "output_type": "stream",
     "text": [
      "<class 'pandas.core.frame.DataFrame'>\n",
      "Int64Index: 323957 entries, 0 to 324110\n",
      "Data columns (total 19 columns):\n",
      "product_id           323957 non-null object\n",
      "product_name         323957 non-null object\n",
      "product_url          323894 non-null object\n",
      "user_nickname        321985 non-null object\n",
      "author_id            323957 non-null object\n",
      "location             48530 non-null object\n",
      "eye_color            262973 non-null object\n",
      "hair_color           223266 non-null object\n",
      "skin_tone            239441 non-null object\n",
      "skin_type            239441 non-null object\n",
      "age_range            78746 non-null object\n",
      "rating               323957 non-null int64\n",
      "review_title         236168 non-null object\n",
      "review_text          323957 non-null object\n",
      "is_recommended       323957 non-null int64\n",
      "submission_time      323957 non-null object\n",
      "helpful_count        323957 non-null int64\n",
      "not_helpful_count    323957 non-null int64\n",
      "helpfulness          151748 non-null float64\n",
      "dtypes: float64(1), int64(4), object(14)\n",
      "memory usage: 49.4+ MB\n"
     ]
    }
   ],
   "source": [
    "ratings.info()"
   ]
  },
  {
   "cell_type": "code",
   "execution_count": 8,
   "metadata": {},
   "outputs": [
    {
     "data": {
      "text/plain": [
       "(209895, 2410)"
      ]
     },
     "execution_count": 8,
     "metadata": {},
     "output_type": "execute_result"
    }
   ],
   "source": [
    "n_users=len(ratings['author_id'].unique())\n",
    "n_items=len(ratings['product_id'].unique())\n",
    "n_users, n_items"
   ]
  },
  {
   "cell_type": "code",
   "execution_count": 9,
   "metadata": {},
   "outputs": [
    {
     "data": {
      "text/plain": [
       "2410"
      ]
     },
     "execution_count": 9,
     "metadata": {},
     "output_type": "execute_result"
    }
   ],
   "source": [
    "len(prod['product_id'].unique())"
   ]
  },
  {
   "cell_type": "markdown",
   "metadata": {},
   "source": [
    "### Matrix factorization using TensorRec"
   ]
  },
  {
   "cell_type": "markdown",
   "metadata": {},
   "source": [
    "Now let's try another Matrix factorization method: TensorRec.\n",
    "\n",
    "TensorRec is a Python package for building recommender systems. A TensorRec recommender system consumes three pieces of input data: user features, item features, and interactions. Based on the user/item features, the system will predict which items to recommend. The interactions are used when fitting the model: predictions are compared to the interactions and a loss/penalty is calculated, which the system learns to decrease."
   ]
  },
  {
   "cell_type": "code",
   "execution_count": 10,
   "metadata": {},
   "outputs": [],
   "source": [
    "import tensorrec"
   ]
  },
  {
   "cell_type": "code",
   "execution_count": 11,
   "metadata": {},
   "outputs": [],
   "source": [
    "#Create internal index in order to create sparse matrices\n",
    "user_id_internal=range(n_users)\n",
    "prod_id_internal=range(n_items)\n",
    "user_id_dict=dict(zip(ratings['author_id'].unique().tolist(),user_id_internal))\n",
    "prod_id_dict=dict(zip(ratings['product_id'].unique().tolist(),prod_id_internal))"
   ]
  },
  {
   "cell_type": "code",
   "execution_count": 12,
   "metadata": {},
   "outputs": [],
   "source": [
    "ratings['user_id']=ratings['author_id'].map(user_id_dict)"
   ]
  },
  {
   "cell_type": "code",
   "execution_count": 13,
   "metadata": {},
   "outputs": [],
   "source": [
    "ratings['item_id']=ratings['product_id'].map(prod_id_dict)"
   ]
  },
  {
   "cell_type": "code",
   "execution_count": 14,
   "metadata": {},
   "outputs": [],
   "source": [
    "ratings.sample(frac=1).reset_index(drop=True)  # Shuffles the rows in-place\n",
    "cutoff = int(0.8 * len(ratings))\n",
    "train_ratings = ratings[:cutoff]\n",
    "test_ratings = ratings[cutoff:]"
   ]
  },
  {
   "cell_type": "code",
   "execution_count": 15,
   "metadata": {},
   "outputs": [],
   "source": [
    "from scipy import sparse\n",
    "def interactions_to_sparse_matrix(interactions):\n",
    "    return sparse.coo_matrix((interactions['rating'].values, (interactions['user_id'].values, interactions['item_id'].values)),\n",
    "                             shape=(n_users, n_items))\n",
    "\n",
    "# Create sparse matrices of interaction data\n",
    "sparse_train_ratings = interactions_to_sparse_matrix(train_ratings)\n",
    "sparse_test_ratings = interactions_to_sparse_matrix(test_ratings)"
   ]
  },
  {
   "cell_type": "code",
   "execution_count": 16,
   "metadata": {},
   "outputs": [],
   "source": [
    "# Create sets of train/test interactions that are only ratings 4 or 5\n",
    "sparse_train_ratings_4plus = sparse_train_ratings.multiply(sparse_train_ratings >= 4.0)\n",
    "sparse_test_ratings_4plus = sparse_test_ratings.multiply(sparse_test_ratings >= 4.0)"
   ]
  },
  {
   "cell_type": "markdown",
   "metadata": {},
   "source": [
    "Fit the model with a loss function: WMRB "
   ]
  },
  {
   "cell_type": "code",
   "execution_count": 17,
   "metadata": {},
   "outputs": [],
   "source": [
    "user_indicator_features = sparse.identity(n_users)\n",
    "item_indicator_features = sparse.identity(n_items)"
   ]
  },
  {
   "cell_type": "code",
   "execution_count": 18,
   "metadata": {
    "scrolled": true
   },
   "outputs": [],
   "source": [
    "def train_and_save_collaborative():\n",
    "    print(\"Training collaborative filter\")\n",
    "\n",
    "    ranking_cf_model = tensorrec.TensorRec(n_components=5)\n",
    "    ranking_cf_model.fit(interactions=sparse_train_ratings_4plus,\n",
    "                     user_features=user_indicator_features,\n",
    "                     item_features=item_indicator_features,\n",
    "                     n_sampled_items=int(n_items * .01))\n",
    "    # Save the trained model to disk\n",
    "    ranking_cf_model.save_model(\"trained_model_interaction\")\n",
    "    "
   ]
  },
  {
   "cell_type": "code",
   "execution_count": 19,
   "metadata": {},
   "outputs": [],
   "source": [
    "#train_and_save_collaborative()"
   ]
  },
  {
   "cell_type": "code",
   "execution_count": 20,
   "metadata": {},
   "outputs": [],
   "source": [
    "# Load trained model from disk\n",
    "#saved_model_interaction = tensorrec.TensorRec.load_model(\"trained_model_interaction\")"
   ]
  },
  {
   "cell_type": "markdown",
   "metadata": {},
   "source": [
    "Let's check the result using a metric called “recall at K.” Recall@K says, for the average user, what percentage of their test items made it in to the top K in the predicted rankings. In other words, if we get a recall@10 value of .06, then there is a 6% chance that a particular product I should like will make it in to my top 10 recommendations."
   ]
  },
  {
   "cell_type": "code",
   "execution_count": 21,
   "metadata": {},
   "outputs": [],
   "source": [
    "# This method consumes item ranks for each user and prints out recall@10 train/test metrics\n",
    "def check_results(ranks):\n",
    "    train_recall_at_10 = tensorrec.eval.recall_at_k(\n",
    "        test_interactions=sparse_train_ratings_4plus,\n",
    "        predicted_ranks=ranks,\n",
    "        k=10\n",
    "    ).mean()\n",
    "    test_recall_at_10 = tensorrec.eval.recall_at_k(\n",
    "        test_interactions=sparse_test_ratings_4plus,\n",
    "        predicted_ranks=ranks,\n",
    "        k=10\n",
    "    ).mean()\n",
    "    print(\"Recall at 10: Train: {:.4f} Test: {:.4f}\".format(train_recall_at_10,\n",
    "                                                            test_recall_at_10))"
   ]
  },
  {
   "cell_type": "code",
   "execution_count": 22,
   "metadata": {},
   "outputs": [],
   "source": [
    "#predicted_ranks_interaction = saved_model_interaction.predict_rank(user_features=user_indicator_features,item_features=item_indicator_features)\n",
    "#check_results(predicted_ranks_interaction)"
   ]
  },
  {
   "cell_type": "markdown",
   "metadata": {},
   "source": [
    "Looks pretty good! This means given any product that I would like, there's a 10% chance it will show up on my screen if the website suggests 7 products. Given the total number of products, I think this is not bad."
   ]
  },
  {
   "cell_type": "markdown",
   "metadata": {},
   "source": [
    "## Content based filtering\n",
    "\n",
    "One difference between the nature of a makeup product recommender on a shopping website and a movie recommender is that a lot of users only bought/rated a very small number of products, so the interaction history may not be very useful for generalization. Additionally, movie websites face frequent users, while a shopping website for makeup products could have a lot of new users as potential customers. To attract these users by providing matching recommendations based on minimal user input is key for business. \n",
    "\n",
    "Thus I will now try to make a new model intergrating detailed product features and user features, then build a final hybrid model combining collaborative and content based approaches."
   ]
  },
  {
   "cell_type": "markdown",
   "metadata": {},
   "source": [
    "First let's look at the metadata we have:"
   ]
  },
  {
   "cell_type": "code",
   "execution_count": 23,
   "metadata": {},
   "outputs": [
    {
     "data": {
      "text/html": [
       "<div>\n",
       "<style scoped>\n",
       "    .dataframe tbody tr th:only-of-type {\n",
       "        vertical-align: middle;\n",
       "    }\n",
       "\n",
       "    .dataframe tbody tr th {\n",
       "        vertical-align: top;\n",
       "    }\n",
       "\n",
       "    .dataframe thead th {\n",
       "        text-align: right;\n",
       "    }\n",
       "</style>\n",
       "<table border=\"1\" class=\"dataframe\">\n",
       "  <thead>\n",
       "    <tr style=\"text-align: right;\">\n",
       "      <th></th>\n",
       "      <th>product_id</th>\n",
       "      <th>category</th>\n",
       "      <th>name</th>\n",
       "      <th>brand</th>\n",
       "      <th>price</th>\n",
       "      <th>product_url</th>\n",
       "      <th>image_url</th>\n",
       "      <th>rating</th>\n",
       "      <th>reviews_count</th>\n",
       "      <th>loves_count</th>\n",
       "    </tr>\n",
       "  </thead>\n",
       "  <tbody>\n",
       "    <tr>\n",
       "      <th>1</th>\n",
       "      <td>P411833</td>\n",
       "      <td>eye</td>\n",
       "      <td>Blackest Black Eyeshadow Gold Rush</td>\n",
       "      <td>Natasha Denona</td>\n",
       "      <td>37.0</td>\n",
       "      <td>https://www.sephora.com/product/blackest-black...</td>\n",
       "      <td>https://www.sephora.com/productimages/sku/s187...</td>\n",
       "      <td>3.900</td>\n",
       "      <td>10</td>\n",
       "      <td>2319</td>\n",
       "    </tr>\n",
       "    <tr>\n",
       "      <th>2</th>\n",
       "      <td>P411302</td>\n",
       "      <td>eye</td>\n",
       "      <td>Precision Felt Eyeliner</td>\n",
       "      <td>Guerlain</td>\n",
       "      <td>49.0</td>\n",
       "      <td>https://www.sephora.com/product/precision-felt...</td>\n",
       "      <td>https://www.sephora.com/productimages/sku/s186...</td>\n",
       "      <td>3.750</td>\n",
       "      <td>8</td>\n",
       "      <td>795</td>\n",
       "    </tr>\n",
       "    <tr>\n",
       "      <th>13</th>\n",
       "      <td>P422622</td>\n",
       "      <td>eye</td>\n",
       "      <td>Essential Shadow Palette Luna</td>\n",
       "      <td>ILIA</td>\n",
       "      <td>53.0</td>\n",
       "      <td>https://www.sephora.com/product/essential-shad...</td>\n",
       "      <td>https://www.sephora.com/productimages/sku/s197...</td>\n",
       "      <td>4.500</td>\n",
       "      <td>4</td>\n",
       "      <td>1219</td>\n",
       "    </tr>\n",
       "    <tr>\n",
       "      <th>15</th>\n",
       "      <td>P393946</td>\n",
       "      <td>eye</td>\n",
       "      <td>Double Lines Eyeliner</td>\n",
       "      <td>Ciaté London</td>\n",
       "      <td>24.0</td>\n",
       "      <td>https://www.sephora.com/product/double-lines-P...</td>\n",
       "      <td>https://www.sephora.com/productimages/sku/s166...</td>\n",
       "      <td>2.975</td>\n",
       "      <td>40</td>\n",
       "      <td>1666</td>\n",
       "    </tr>\n",
       "    <tr>\n",
       "      <th>17</th>\n",
       "      <td>P419279</td>\n",
       "      <td>eye</td>\n",
       "      <td>High Standards Eyebrow Brush</td>\n",
       "      <td>Pretty Vulgar</td>\n",
       "      <td>24.5</td>\n",
       "      <td>https://www.sephora.com/product/high-standards...</td>\n",
       "      <td>https://www.sephora.com/productimages/sku/s194...</td>\n",
       "      <td>4.500</td>\n",
       "      <td>12</td>\n",
       "      <td>3383</td>\n",
       "    </tr>\n",
       "  </tbody>\n",
       "</table>\n",
       "</div>"
      ],
      "text/plain": [
       "   product_id category                                name           brand  \\\n",
       "1     P411833      eye  Blackest Black Eyeshadow Gold Rush  Natasha Denona   \n",
       "2     P411302      eye             Precision Felt Eyeliner        Guerlain   \n",
       "13    P422622      eye       Essential Shadow Palette Luna            ILIA   \n",
       "15    P393946      eye               Double Lines Eyeliner    Ciaté London   \n",
       "17    P419279      eye        High Standards Eyebrow Brush   Pretty Vulgar   \n",
       "\n",
       "    price                                        product_url  \\\n",
       "1    37.0  https://www.sephora.com/product/blackest-black...   \n",
       "2    49.0  https://www.sephora.com/product/precision-felt...   \n",
       "13   53.0  https://www.sephora.com/product/essential-shad...   \n",
       "15   24.0  https://www.sephora.com/product/double-lines-P...   \n",
       "17   24.5  https://www.sephora.com/product/high-standards...   \n",
       "\n",
       "                                            image_url  rating  reviews_count  \\\n",
       "1   https://www.sephora.com/productimages/sku/s187...   3.900             10   \n",
       "2   https://www.sephora.com/productimages/sku/s186...   3.750              8   \n",
       "13  https://www.sephora.com/productimages/sku/s197...   4.500              4   \n",
       "15  https://www.sephora.com/productimages/sku/s166...   2.975             40   \n",
       "17  https://www.sephora.com/productimages/sku/s194...   4.500             12   \n",
       "\n",
       "    loves_count  \n",
       "1          2319  \n",
       "2           795  \n",
       "13         1219  \n",
       "15         1666  \n",
       "17         3383  "
      ]
     },
     "execution_count": 23,
     "metadata": {},
     "output_type": "execute_result"
    }
   ],
   "source": [
    "prod.head()"
   ]
  },
  {
   "cell_type": "markdown",
   "metadata": {},
   "source": [
    "Brand, price and overall weighted score could serve as product features."
   ]
  },
  {
   "cell_type": "code",
   "execution_count": 24,
   "metadata": {},
   "outputs": [],
   "source": [
    "#map product feature to internal item id\n",
    "prod['item_id']=prod['product_id'].map(prod_id_dict)"
   ]
  },
  {
   "cell_type": "markdown",
   "metadata": {},
   "source": [
    "Now put brand feature to matrix"
   ]
  },
  {
   "cell_type": "code",
   "execution_count": 25,
   "metadata": {},
   "outputs": [],
   "source": [
    "# Transfer users features to sparse binary matrix\n",
    "def features_to_binary_matrix(input_values, index, ids):\n",
    "    value_by_id = pd.Series(input_values, index=index).to_dict()\n",
    "    values = [{value_by_id[id]} for id in ids]\n",
    "    mlb = MultiLabelBinarizer()\n",
    "    features = mlb.fit_transform(values)\n",
    "    print(mlb.classes_)\n",
    "    matrix = sparse.coo_matrix(features)\n",
    "    return matrix"
   ]
  },
  {
   "cell_type": "code",
   "execution_count": 26,
   "metadata": {},
   "outputs": [
    {
     "name": "stdout",
     "output_type": "stream",
     "text": [
      "Product brand classes: \n",
      "['AERIN' 'AMOREPACIFIC' 'Aether Beauty' 'Algenist' 'Amazing Cosmetics'\n",
      " 'Anastasia Beverly Hills' 'Antonym' 'Artis' 'Artist Couture' 'BECCA'\n",
      " 'Benefit Cosmetics' 'Bite Beauty' 'Black Up' 'Blinc' 'Blinking Beauté'\n",
      " 'Bobbi Brown' 'Buxom' 'Bésame Cosmetics' 'CLINIQUE' 'COVER FX' 'Caudalie'\n",
      " 'Charlotte Tilbury' 'Ciaté London' 'Cinema Secrets' 'Clarins'\n",
      " 'DOMINIQUE COSMETICS' 'DUO' 'Deborah Lippmann' 'Dermalogica' 'Diamancel'\n",
      " 'Dior' 'Dr. Brandt Skincare' 'Dr. Dennis Gross Skincare' 'Dr. Jart+'\n",
      " 'Drunk Elephant' 'Drybar' 'Estée Lauder' 'Eve Lom' 'FARSÁLI'\n",
      " 'FENTY BEAUTY by Rihanna' 'Farmacy' 'First Aid Beauty' 'Fresh' 'GLAMGLOW'\n",
      " 'GLO Science' 'Giorgio Armani Beauty' 'Givenchy' 'Grande Cosmetics'\n",
      " 'Guerlain' 'HUDA BEAUTY' 'Hourglass' 'ILIA' 'INC.redible' 'IT Cosmetics'\n",
      " 'Jack Black' 'Josie Maran' 'Jouer Cosmetics' 'KEVYN AUCOIN'\n",
      " 'KORA Organics' 'KOSAS' 'Kaja' 'Kat Von D' \"Kiehl's Since 1851\"\n",
      " 'Koh Gen Do' 'Kopari' \"L'Occitane\" 'LANEIGE' 'LASHFOOD' 'LAWLESS' 'LXMI'\n",
      " 'La Mer' 'Lancer' 'Lancôme' 'Laura Mercier' 'Lilly Lashes'\n",
      " 'MAKE UP FOR EVER' 'MILK MAKEUP' 'Makeup Eraser' 'Marc Jacobs Beauty'\n",
      " 'Murad' 'NAILS INC.' 'NARS' 'NUDESTIX' 'Natasha Denona' 'No Mo-stache'\n",
      " 'NuFACE' 'OLEHENRIKSEN' 'PAT McGRATH LABS' 'PMD' 'Perricone MD'\n",
      " 'Pretty Vulgar' 'Rosebud Perfume Co.' 'SEPHORA COLLECTION' 'STELLAR'\n",
      " 'Sephora Favorites' 'Shiseido' 'Skinfix' 'Smashbox' 'Sol de Janeiro'\n",
      " 'TOM FORD' 'Tata Harper' 'Tatcha' 'The Ordinary' 'Too Faced'\n",
      " 'Touch In Sol' 'Tweezerman' 'Urban Decay' 'Velour Lashes' 'Violet Voss'\n",
      " 'Viseart' 'Wander Beauty' 'Winky Lux' 'Yves Saint Laurent' 'bareMinerals'\n",
      " 'beautyblender' 'bkr' 'boscia' 'lilah b.' 'philosophy' 'rms beauty'\n",
      " 'stila' 'surratt beauty' 'tarte' 'trèStiQue']\n"
     ]
    }
   ],
   "source": [
    "print(\"Product brand classes: \")\n",
    "product_brand_features = features_to_binary_matrix(prod.brand.values,prod.item_id,prod_id_internal)"
   ]
  },
  {
   "cell_type": "markdown",
   "metadata": {},
   "source": [
    "Price feature is a little different, it makes more sense to price in bins and binarize them than use price as floats."
   ]
  },
  {
   "cell_type": "code",
   "execution_count": 27,
   "metadata": {},
   "outputs": [
    {
     "data": {
      "text/plain": [
       "2.0"
      ]
     },
     "execution_count": 27,
     "metadata": {},
     "output_type": "execute_result"
    }
   ],
   "source": [
    "minprice=min(prod['price'])\n",
    "minprice"
   ]
  },
  {
   "cell_type": "code",
   "execution_count": 28,
   "metadata": {},
   "outputs": [
    {
     "data": {
      "text/plain": [
       "526.0"
      ]
     },
     "execution_count": 28,
     "metadata": {},
     "output_type": "execute_result"
    }
   ],
   "source": [
    "maxprice=max(prod['price'])\n",
    "maxprice"
   ]
  },
  {
   "cell_type": "code",
   "execution_count": 29,
   "metadata": {},
   "outputs": [
    {
     "data": {
      "text/plain": [
       "<matplotlib.axes._subplots.AxesSubplot at 0x250f8223278>"
      ]
     },
     "execution_count": 29,
     "metadata": {},
     "output_type": "execute_result"
    },
    {
     "data": {
      "image/png": "[encoded data removed]",
      "text/plain": [
       "<Figure size 432x288 with 1 Axes>"
      ]
     },
     "metadata": {
      "needs_background": "light"
     },
     "output_type": "display_data"
    }
   ],
   "source": [
    "sns.distplot(prod['price'])"
   ]
  },
  {
   "cell_type": "code",
   "execution_count": 30,
   "metadata": {},
   "outputs": [],
   "source": [
    "bins = [0, 10, 20, 30,50,75,100,150,200,300,400,550]\n",
    "labels = ['bin0-10','bin10-20','bin20-30','bin30-40','bin50-75','bin75-100','bin100-150','bin150-200','bin200-300','bin300-400','bin400-550']\n",
    "prod['binned_price'] = pd.cut(prod['price'], bins=bins, labels=labels)"
   ]
  },
  {
   "cell_type": "code",
   "execution_count": 31,
   "metadata": {},
   "outputs": [
    {
     "name": "stdout",
     "output_type": "stream",
     "text": [
      "Product price bins classes: \n",
      "['bin0-10' 'bin10-20' 'bin100-150' 'bin150-200' 'bin20-30' 'bin200-300'\n",
      " 'bin30-40' 'bin300-400' 'bin400-550' 'bin50-75' 'bin75-100']\n"
     ]
    }
   ],
   "source": [
    "print(\"Product price bins classes: \")\n",
    "product_price_features = features_to_binary_matrix(prod.binned_price.values,prod.item_id,prod_id_internal)"
   ]
  },
  {
   "cell_type": "code",
   "execution_count": 32,
   "metadata": {},
   "outputs": [],
   "source": [
    "item_features=sparse.hstack([product_brand_features, product_price_features])"
   ]
  },
  {
   "cell_type": "code",
   "execution_count": 33,
   "metadata": {},
   "outputs": [],
   "source": [
    "def train_and_save_item_feature():\n",
    "    print(\"Training content-based filter with item features\")\n",
    "\n",
    "    ranking_cf_model_item_feature = tensorrec.TensorRec(n_components=11)\n",
    "    ranking_cf_model_item_feature.fit(interactions=sparse_train_ratings_4plus,\n",
    "                     user_features=user_indicator_features,\n",
    "                     item_features=item_features,\n",
    "                     n_sampled_items=int(n_items * .01))\n",
    "    ranking_cf_model_item_feature.save_model(\"trained_model_item_feature\")"
   ]
  },
  {
   "cell_type": "code",
   "execution_count": 34,
   "metadata": {},
   "outputs": [
    {
     "name": "stderr",
     "output_type": "stream",
     "text": [
      "WARNING: Logging before flag parsing goes to stderr.\n",
      "W0703 22:55:56.245675  9880 tensorrec.py:580] n_sampled_items was specified, but the loss graph is not sample-based\n"
     ]
    },
    {
     "name": "stdout",
     "output_type": "stream",
     "text": [
      "Training content-based filter with item features\n"
     ]
    },
    {
     "name": "stderr",
     "output_type": "stream",
     "text": [
      "C:\\ProgramData\\Anaconda3\\lib\\site-packages\\tensorflow\\python\\ops\\gradients_util.py:93: UserWarning: Converting sparse IndexedSlices to a dense Tensor of unknown shape. This may consume a large amount of memory.\n",
      "  \"Converting sparse IndexedSlices to a dense Tensor of unknown shape. \"\n",
      "C:\\ProgramData\\Anaconda3\\lib\\site-packages\\tensorflow\\python\\ops\\gradients_util.py:93: UserWarning: Converting sparse IndexedSlices to a dense Tensor of unknown shape. This may consume a large amount of memory.\n",
      "  \"Converting sparse IndexedSlices to a dense Tensor of unknown shape. \"\n",
      "C:\\ProgramData\\Anaconda3\\lib\\site-packages\\tensorflow\\python\\ops\\gradients_util.py:93: UserWarning: Converting sparse IndexedSlices to a dense Tensor of unknown shape. This may consume a large amount of memory.\n",
      "  \"Converting sparse IndexedSlices to a dense Tensor of unknown shape. \"\n",
      "C:\\ProgramData\\Anaconda3\\lib\\site-packages\\tensorflow\\python\\ops\\gradients_util.py:93: UserWarning: Converting sparse IndexedSlices to a dense Tensor of unknown shape. This may consume a large amount of memory.\n",
      "  \"Converting sparse IndexedSlices to a dense Tensor of unknown shape. \"\n",
      "C:\\ProgramData\\Anaconda3\\lib\\site-packages\\tensorflow\\python\\ops\\gradients_util.py:93: UserWarning: Converting sparse IndexedSlices to a dense Tensor of unknown shape. This may consume a large amount of memory.\n",
      "  \"Converting sparse IndexedSlices to a dense Tensor of unknown shape. \"\n",
      "C:\\ProgramData\\Anaconda3\\lib\\site-packages\\tensorflow\\python\\ops\\gradients_util.py:93: UserWarning: Converting sparse IndexedSlices to a dense Tensor of unknown shape. This may consume a large amount of memory.\n",
      "  \"Converting sparse IndexedSlices to a dense Tensor of unknown shape. \"\n"
     ]
    }
   ],
   "source": [
    "train_and_save_item_feature()"
   ]
  },
  {
   "cell_type": "code",
   "execution_count": 35,
   "metadata": {},
   "outputs": [],
   "source": [
    "saved_model_item_feature = tensorrec.TensorRec.load_model(\"trained_model_item_feature\")"
   ]
  },
  {
   "cell_type": "code",
   "execution_count": 36,
   "metadata": {},
   "outputs": [
    {
     "name": "stdout",
     "output_type": "stream",
     "text": [
      "Recall at 10: Train: 0.0217 Test: 0.0035\n"
     ]
    }
   ],
   "source": [
    "predicted_ranks_item_feature = saved_model_item_feature.predict_rank(user_features=user_indicator_features,item_features=item_features)\n",
    "check_results(predicted_ranks_item_feature)"
   ]
  },
  {
   "cell_type": "markdown",
   "metadata": {},
   "source": [
    "Not as good as the previous one based on interactions. Probably it's better to combine interactions, item features and user features together. Next step let's include user features first."
   ]
  },
  {
   "cell_type": "code",
   "execution_count": null,
   "metadata": {},
   "outputs": [],
   "source": []
  }
 ],
 "metadata": {
  "kernelspec": {
   "display_name": "Python 3",
   "language": "python",
   "name": "python3"
  },
  "language_info": {
   "codemirror_mode": {
    "name": "ipython",
    "version": 3
   },
   "file_extension": ".py",
   "mimetype": "text/x-python",
   "name": "python",
   "nbconvert_exporter": "python",
   "pygments_lexer": "ipython3",
   "version": "3.7.3"
  }
 },
 "nbformat": 4,
 "nbformat_minor": 2
}
