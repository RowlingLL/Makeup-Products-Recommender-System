{
 "cells": [
  {
   "cell_type": "markdown",
   "metadata": {},
   "source": [
    "# Makeup Products Recommender System"
   ]
  },
  {
   "cell_type": "markdown",
   "metadata": {},
   "source": [
    "## Goals\n",
    "\n",
    "To build several recommender systems for current users and potential users with different approaches: \n",
    "\n",
    "__Demographic filtering:__ based purely on overall ratings of products  \n",
    "\n",
    "__Collaborative filtering:__ based on user-item interaction history\n",
    "\n",
    "__Content based filtering:__ based on product features and user features \n",
    "\n",
    "__Hybrid model:__ based on user feature, item feature, and interaction, potentially recommending products to new users according to user input -- __hybrid model in this file, user input in progress__"
   ]
  },
  {
   "cell_type": "markdown",
   "metadata": {},
   "source": [
    "## Dataset overview\n",
    "\n",
    "This system used a private dataset scrapped from https://www.sephora.com containing product details and user reviews history, including 13K products, 210K users, 325K reviews. I've put them into 2 csv files:\n",
    "\n",
    "> __'all_primary_products.csv':__\n",
    "\n",
    "__product_id:__       product identifier<br>\n",
    "__sku_id:__           identifier for different colors within one product<br>\n",
    "__category:__         category this product belongs to, i.e. eye, face, lip...<br>\n",
    "__name:__ prodcut name<br>\n",
    "__brand:__ product brand<br>\n",
    "__price:__ product price at the time of webcrawling<br>\n",
    "__product_url:__ product url<br>\n",
    "__image_url:__ url of the main product image<br>\n",
    "__rating:__ overall average rating<br>\n",
    "__reviews_count:__ number of reviews on this product<br>\n",
    "__loves_count:__ number of 'love' clicked on this product<br>\n",
    "__color_count:__ color counts of the product, if any. e.g. accessories normally have 0 colors, but foundations could have several different\tcolours<br>\n",
    "__details:__ detailed product discription<br>\n",
    "__sku_group:__ different colors within one product<br>\n",
    "__similar_products:__ similar products defined by merchant<br>\n",
    "__bought_together:__ products that usually bought together<br>\n",
    "__is_listed:__ whether the product is available at the time of webcrawling\n"
   ]
  },
  {
   "cell_type": "markdown",
   "metadata": {},
   "source": [
    "> __'all_users_reviews.csv':__\n",
    "\n",
    "__product_id:__       product identifier<br>\n",
    "__product_name:__ prodcut name<br>\tproduct_url: product url<br>\n",
    "__user_nickname:__ \tuser nickname<br>\n",
    "__author_id:__ user identifier\t<br>\n",
    "__location:__ user location<br>\n",
    "__eye_color:__ user eye color on file\t<br>\n",
    "__hair_color:__ user hair color on file<br>\n",
    "__skin_tone:__ user skin tone on file<br>\n",
    "__skin_type:__ user skin type on file<br>\n",
    "__age_range:__ user age range on file<br>\n",
    "__rating:__ rating this user gave to this product, on scale 1-5<br>\n",
    "__review_title:__ title of user review<br>\n",
    "__review_text:__ text of this review<br>\n",
    "__is_recommended:__ whether this user recommend this product, '1' recommend, '0' not recommend<br>\n",
    "__submission_time:__ time of the review submission<br>\n",
    "__helpful_count:__ number of people who think this review is helpful<br>\n",
    "__not_helpful_count:__ number of people who think this review is not helpful<br>\n",
    "__helpfulness:__ helpful_count/(helpful_count+not_helpful_count)<br>"
   ]
  },
  {
   "cell_type": "markdown",
   "metadata": {},
   "source": [
    "## Data preparation"
   ]
  },
  {
   "cell_type": "markdown",
   "metadata": {},
   "source": [
    "Import all libs we need"
   ]
  },
  {
   "cell_type": "code",
   "execution_count": 94,
   "metadata": {},
   "outputs": [],
   "source": [
    "%matplotlib inline\n",
    "import warnings; warnings.simplefilter('ignore')\n",
    "import numpy as np\n",
    "import pandas as pd\n",
    "import seaborn as sns\n",
    "import matplotlib.pyplot as plt\n",
    "from sklearn.preprocessing import MultiLabelBinarizer\n",
    "sns.set_style(\"darkgrid\")\n",
    "plt.rcParams['figure.figsize'] = [13, 8]"
   ]
  },
  {
   "cell_type": "markdown",
   "metadata": {},
   "source": [
    "First we have a look at the overall ratings of products"
   ]
  },
  {
   "cell_type": "code",
   "execution_count": 95,
   "metadata": {},
   "outputs": [
    {
     "data": {
      "text/html": [
       "<div>\n",
       "<style scoped>\n",
       "    .dataframe tbody tr th:only-of-type {\n",
       "        vertical-align: middle;\n",
       "    }\n",
       "\n",
       "    .dataframe tbody tr th {\n",
       "        vertical-align: top;\n",
       "    }\n",
       "\n",
       "    .dataframe thead th {\n",
       "        text-align: right;\n",
       "    }\n",
       "</style>\n",
       "<table border=\"1\" class=\"dataframe\">\n",
       "  <thead>\n",
       "    <tr style=\"text-align: right;\">\n",
       "      <th></th>\n",
       "      <th>product_id</th>\n",
       "      <th>sku_id</th>\n",
       "      <th>category</th>\n",
       "      <th>name</th>\n",
       "      <th>brand</th>\n",
       "      <th>price</th>\n",
       "      <th>product_url</th>\n",
       "      <th>image_url</th>\n",
       "      <th>rating</th>\n",
       "      <th>reviews_count</th>\n",
       "      <th>loves_count</th>\n",
       "      <th>color_count</th>\n",
       "      <th>details</th>\n",
       "      <th>sku_group</th>\n",
       "      <th>similar_products</th>\n",
       "      <th>bought_together</th>\n",
       "      <th>is_listed</th>\n",
       "    </tr>\n",
       "  </thead>\n",
       "  <tbody>\n",
       "    <tr>\n",
       "      <th>0</th>\n",
       "      <td>P432235</td>\n",
       "      <td>2058733.0</td>\n",
       "      <td>eye</td>\n",
       "      <td>Superhero Liner</td>\n",
       "      <td>IT Cosmetics</td>\n",
       "      <td>32.0</td>\n",
       "      <td>https://www.sephora.com/product/superhero-line...</td>\n",
       "      <td>https://www.sephora.com/productimages/sku/s205...</td>\n",
       "      <td>4.2308</td>\n",
       "      <td>0</td>\n",
       "      <td>0</td>\n",
       "      <td>0</td>\n",
       "      <td>NaN</td>\n",
       "      <td>[]</td>\n",
       "      <td>[]</td>\n",
       "      <td>[]</td>\n",
       "      <td>no</td>\n",
       "    </tr>\n",
       "    <tr>\n",
       "      <th>1</th>\n",
       "      <td>P411833</td>\n",
       "      <td>1875038.0</td>\n",
       "      <td>eye</td>\n",
       "      <td>Blackest Black Eyeshadow Gold Rush</td>\n",
       "      <td>Natasha Denona</td>\n",
       "      <td>37.0</td>\n",
       "      <td>https://www.sephora.com/product/blackest-black...</td>\n",
       "      <td>https://www.sephora.com/productimages/sku/s187...</td>\n",
       "      <td>3.9000</td>\n",
       "      <td>10</td>\n",
       "      <td>2319</td>\n",
       "      <td>1</td>\n",
       "      <td>What it is:\\n A full-coverage, highly pigmente...</td>\n",
       "      <td>['1875038']</td>\n",
       "      <td>['P404832', 'P63087293', 'P424001', 'P309813',...</td>\n",
       "      <td>['P437713', 'P384060', 'P313025', 'P421738', '...</td>\n",
       "      <td>yes</td>\n",
       "    </tr>\n",
       "    <tr>\n",
       "      <th>2</th>\n",
       "      <td>P411302</td>\n",
       "      <td>1865245.0</td>\n",
       "      <td>eye</td>\n",
       "      <td>Precision Felt Eyeliner</td>\n",
       "      <td>Guerlain</td>\n",
       "      <td>49.0</td>\n",
       "      <td>https://www.sephora.com/product/precision-felt...</td>\n",
       "      <td>https://www.sephora.com/productimages/sku/s186...</td>\n",
       "      <td>3.7500</td>\n",
       "      <td>8</td>\n",
       "      <td>795</td>\n",
       "      <td>1</td>\n",
       "      <td>What it is:\\nAn eyeliner with a long felt tip ...</td>\n",
       "      <td>['1865245']</td>\n",
       "      <td>['P403324', 'P230234', 'P253818', 'P245205', '...</td>\n",
       "      <td>['P17876556', 'P429720', 'P313034', 'P416204',...</td>\n",
       "      <td>yes</td>\n",
       "    </tr>\n",
       "    <tr>\n",
       "      <th>3</th>\n",
       "      <td>P406816</td>\n",
       "      <td>1811918.0</td>\n",
       "      <td>eye</td>\n",
       "      <td>X-Rated Mascara</td>\n",
       "      <td>Smashbox</td>\n",
       "      <td>28.0</td>\n",
       "      <td>https://www.sephora.com/product/x-rated-mascar...</td>\n",
       "      <td>https://www.sephora.com/productimages/sku/s181...</td>\n",
       "      <td>3.5732</td>\n",
       "      <td>0</td>\n",
       "      <td>0</td>\n",
       "      <td>0</td>\n",
       "      <td>NaN</td>\n",
       "      <td>[]</td>\n",
       "      <td>[]</td>\n",
       "      <td>[]</td>\n",
       "      <td>no</td>\n",
       "    </tr>\n",
       "    <tr>\n",
       "      <th>4</th>\n",
       "      <td>P433486</td>\n",
       "      <td>2089423.0</td>\n",
       "      <td>eye</td>\n",
       "      <td>MASCARA VOLUME EFFET FAUX CILS Flash Primer</td>\n",
       "      <td>Yves Saint Laurent</td>\n",
       "      <td>41.0</td>\n",
       "      <td>https://www.sephora.com/product/mascara-volume...</td>\n",
       "      <td>https://www.sephora.com/productimages/sku/s208...</td>\n",
       "      <td>5.0000</td>\n",
       "      <td>0</td>\n",
       "      <td>0</td>\n",
       "      <td>0</td>\n",
       "      <td>NaN</td>\n",
       "      <td>[]</td>\n",
       "      <td>[]</td>\n",
       "      <td>[]</td>\n",
       "      <td>no</td>\n",
       "    </tr>\n",
       "  </tbody>\n",
       "</table>\n",
       "</div>"
      ],
      "text/plain": [
       "  product_id     sku_id category                                         name  \\\n",
       "0    P432235  2058733.0      eye                              Superhero Liner   \n",
       "1    P411833  1875038.0      eye           Blackest Black Eyeshadow Gold Rush   \n",
       "2    P411302  1865245.0      eye                      Precision Felt Eyeliner   \n",
       "3    P406816  1811918.0      eye                              X-Rated Mascara   \n",
       "4    P433486  2089423.0      eye  MASCARA VOLUME EFFET FAUX CILS Flash Primer   \n",
       "\n",
       "                brand  price  \\\n",
       "0        IT Cosmetics   32.0   \n",
       "1      Natasha Denona   37.0   \n",
       "2            Guerlain   49.0   \n",
       "3            Smashbox   28.0   \n",
       "4  Yves Saint Laurent   41.0   \n",
       "\n",
       "                                         product_url  \\\n",
       "0  https://www.sephora.com/product/superhero-line...   \n",
       "1  https://www.sephora.com/product/blackest-black...   \n",
       "2  https://www.sephora.com/product/precision-felt...   \n",
       "3  https://www.sephora.com/product/x-rated-mascar...   \n",
       "4  https://www.sephora.com/product/mascara-volume...   \n",
       "\n",
       "                                           image_url  rating  reviews_count  \\\n",
       "0  https://www.sephora.com/productimages/sku/s205...  4.2308              0   \n",
       "1  https://www.sephora.com/productimages/sku/s187...  3.9000             10   \n",
       "2  https://www.sephora.com/productimages/sku/s186...  3.7500              8   \n",
       "3  https://www.sephora.com/productimages/sku/s181...  3.5732              0   \n",
       "4  https://www.sephora.com/productimages/sku/s208...  5.0000              0   \n",
       "\n",
       "   loves_count  color_count  \\\n",
       "0            0            0   \n",
       "1         2319            1   \n",
       "2          795            1   \n",
       "3            0            0   \n",
       "4            0            0   \n",
       "\n",
       "                                             details    sku_group  \\\n",
       "0                                                NaN           []   \n",
       "1  What it is:\\n A full-coverage, highly pigmente...  ['1875038']   \n",
       "2  What it is:\\nAn eyeliner with a long felt tip ...  ['1865245']   \n",
       "3                                                NaN           []   \n",
       "4                                                NaN           []   \n",
       "\n",
       "                                    similar_products  \\\n",
       "0                                                 []   \n",
       "1  ['P404832', 'P63087293', 'P424001', 'P309813',...   \n",
       "2  ['P403324', 'P230234', 'P253818', 'P245205', '...   \n",
       "3                                                 []   \n",
       "4                                                 []   \n",
       "\n",
       "                                     bought_together is_listed  \n",
       "0                                                 []        no  \n",
       "1  ['P437713', 'P384060', 'P313025', 'P421738', '...       yes  \n",
       "2  ['P17876556', 'P429720', 'P313034', 'P416204',...       yes  \n",
       "3                                                 []        no  \n",
       "4                                                 []        no  "
      ]
     },
     "execution_count": 95,
     "metadata": {},
     "output_type": "execute_result"
    }
   ],
   "source": [
    "prod=pd.read_csv('all_primary_products.csv')\n",
    "prod.head()"
   ]
  },
  {
   "cell_type": "code",
   "execution_count": 96,
   "metadata": {},
   "outputs": [
    {
     "data": {
      "text/html": [
       "<div>\n",
       "<style scoped>\n",
       "    .dataframe tbody tr th:only-of-type {\n",
       "        vertical-align: middle;\n",
       "    }\n",
       "\n",
       "    .dataframe tbody tr th {\n",
       "        vertical-align: top;\n",
       "    }\n",
       "\n",
       "    .dataframe thead th {\n",
       "        text-align: right;\n",
       "    }\n",
       "</style>\n",
       "<table border=\"1\" class=\"dataframe\">\n",
       "  <thead>\n",
       "    <tr style=\"text-align: right;\">\n",
       "      <th></th>\n",
       "      <th>count</th>\n",
       "      <th>unique</th>\n",
       "      <th>top</th>\n",
       "      <th>freq</th>\n",
       "      <th>mean</th>\n",
       "      <th>std</th>\n",
       "      <th>min</th>\n",
       "      <th>25%</th>\n",
       "      <th>50%</th>\n",
       "      <th>75%</th>\n",
       "      <th>max</th>\n",
       "    </tr>\n",
       "  </thead>\n",
       "  <tbody>\n",
       "    <tr>\n",
       "      <th>product_id</th>\n",
       "      <td>3925</td>\n",
       "      <td>3387</td>\n",
       "      <td>P427344</td>\n",
       "      <td>4</td>\n",
       "      <td>NaN</td>\n",
       "      <td>NaN</td>\n",
       "      <td>NaN</td>\n",
       "      <td>NaN</td>\n",
       "      <td>NaN</td>\n",
       "      <td>NaN</td>\n",
       "      <td>NaN</td>\n",
       "    </tr>\n",
       "    <tr>\n",
       "      <th>sku_id</th>\n",
       "      <td>3924</td>\n",
       "      <td>NaN</td>\n",
       "      <td>NaN</td>\n",
       "      <td>NaN</td>\n",
       "      <td>1.87534e+06</td>\n",
       "      <td>307214</td>\n",
       "      <td>48041</td>\n",
       "      <td>1.75423e+06</td>\n",
       "      <td>1.95008e+06</td>\n",
       "      <td>2.0938e+06</td>\n",
       "      <td>2.22557e+06</td>\n",
       "    </tr>\n",
       "    <tr>\n",
       "      <th>category</th>\n",
       "      <td>3925</td>\n",
       "      <td>7</td>\n",
       "      <td>eye</td>\n",
       "      <td>1083</td>\n",
       "      <td>NaN</td>\n",
       "      <td>NaN</td>\n",
       "      <td>NaN</td>\n",
       "      <td>NaN</td>\n",
       "      <td>NaN</td>\n",
       "      <td>NaN</td>\n",
       "      <td>NaN</td>\n",
       "    </tr>\n",
       "    <tr>\n",
       "      <th>name</th>\n",
       "      <td>3925</td>\n",
       "      <td>3341</td>\n",
       "      <td>Lipstick</td>\n",
       "      <td>5</td>\n",
       "      <td>NaN</td>\n",
       "      <td>NaN</td>\n",
       "      <td>NaN</td>\n",
       "      <td>NaN</td>\n",
       "      <td>NaN</td>\n",
       "      <td>NaN</td>\n",
       "      <td>NaN</td>\n",
       "    </tr>\n",
       "    <tr>\n",
       "      <th>brand</th>\n",
       "      <td>3925</td>\n",
       "      <td>144</td>\n",
       "      <td>SEPHORA COLLECTION</td>\n",
       "      <td>330</td>\n",
       "      <td>NaN</td>\n",
       "      <td>NaN</td>\n",
       "      <td>NaN</td>\n",
       "      <td>NaN</td>\n",
       "      <td>NaN</td>\n",
       "      <td>NaN</td>\n",
       "      <td>NaN</td>\n",
       "    </tr>\n",
       "    <tr>\n",
       "      <th>price</th>\n",
       "      <td>3925</td>\n",
       "      <td>NaN</td>\n",
       "      <td>NaN</td>\n",
       "      <td>NaN</td>\n",
       "      <td>41.0424</td>\n",
       "      <td>28.6192</td>\n",
       "      <td>2</td>\n",
       "      <td>26</td>\n",
       "      <td>35</td>\n",
       "      <td>49</td>\n",
       "      <td>526</td>\n",
       "    </tr>\n",
       "    <tr>\n",
       "      <th>product_url</th>\n",
       "      <td>3925</td>\n",
       "      <td>3387</td>\n",
       "      <td>https://www.sephora.com/product/prismatic-mult...</td>\n",
       "      <td>4</td>\n",
       "      <td>NaN</td>\n",
       "      <td>NaN</td>\n",
       "      <td>NaN</td>\n",
       "      <td>NaN</td>\n",
       "      <td>NaN</td>\n",
       "      <td>NaN</td>\n",
       "      <td>NaN</td>\n",
       "    </tr>\n",
       "    <tr>\n",
       "      <th>image_url</th>\n",
       "      <td>3925</td>\n",
       "      <td>3377</td>\n",
       "      <td>https://www.sephora.com/productimages/sku/s202...</td>\n",
       "      <td>4</td>\n",
       "      <td>NaN</td>\n",
       "      <td>NaN</td>\n",
       "      <td>NaN</td>\n",
       "      <td>NaN</td>\n",
       "      <td>NaN</td>\n",
       "      <td>NaN</td>\n",
       "      <td>NaN</td>\n",
       "    </tr>\n",
       "    <tr>\n",
       "      <th>rating</th>\n",
       "      <td>3925</td>\n",
       "      <td>NaN</td>\n",
       "      <td>NaN</td>\n",
       "      <td>NaN</td>\n",
       "      <td>4.04721</td>\n",
       "      <td>0.83468</td>\n",
       "      <td>0</td>\n",
       "      <td>3.8776</td>\n",
       "      <td>4.2289</td>\n",
       "      <td>4.5</td>\n",
       "      <td>5</td>\n",
       "    </tr>\n",
       "    <tr>\n",
       "      <th>reviews_count</th>\n",
       "      <td>3925</td>\n",
       "      <td>NaN</td>\n",
       "      <td>NaN</td>\n",
       "      <td>NaN</td>\n",
       "      <td>370.905</td>\n",
       "      <td>1098.22</td>\n",
       "      <td>0</td>\n",
       "      <td>1</td>\n",
       "      <td>42</td>\n",
       "      <td>275</td>\n",
       "      <td>17000</td>\n",
       "    </tr>\n",
       "    <tr>\n",
       "      <th>loves_count</th>\n",
       "      <td>3925</td>\n",
       "      <td>NaN</td>\n",
       "      <td>NaN</td>\n",
       "      <td>NaN</td>\n",
       "      <td>23654</td>\n",
       "      <td>56801.3</td>\n",
       "      <td>0</td>\n",
       "      <td>511</td>\n",
       "      <td>6341</td>\n",
       "      <td>21365</td>\n",
       "      <td>1.17586e+06</td>\n",
       "    </tr>\n",
       "    <tr>\n",
       "      <th>color_count</th>\n",
       "      <td>3925</td>\n",
       "      <td>NaN</td>\n",
       "      <td>NaN</td>\n",
       "      <td>NaN</td>\n",
       "      <td>3.38675</td>\n",
       "      <td>7.8574</td>\n",
       "      <td>0</td>\n",
       "      <td>0</td>\n",
       "      <td>0</td>\n",
       "      <td>3</td>\n",
       "      <td>121</td>\n",
       "    </tr>\n",
       "    <tr>\n",
       "      <th>details</th>\n",
       "      <td>3008</td>\n",
       "      <td>2568</td>\n",
       "      <td>To redeem your set:1. SELECT the Customizable ...</td>\n",
       "      <td>6</td>\n",
       "      <td>NaN</td>\n",
       "      <td>NaN</td>\n",
       "      <td>NaN</td>\n",
       "      <td>NaN</td>\n",
       "      <td>NaN</td>\n",
       "      <td>NaN</td>\n",
       "      <td>NaN</td>\n",
       "    </tr>\n",
       "    <tr>\n",
       "      <th>sku_group</th>\n",
       "      <td>3925</td>\n",
       "      <td>1355</td>\n",
       "      <td>[]</td>\n",
       "      <td>2299</td>\n",
       "      <td>NaN</td>\n",
       "      <td>NaN</td>\n",
       "      <td>NaN</td>\n",
       "      <td>NaN</td>\n",
       "      <td>NaN</td>\n",
       "      <td>NaN</td>\n",
       "      <td>NaN</td>\n",
       "    </tr>\n",
       "    <tr>\n",
       "      <th>similar_products</th>\n",
       "      <td>3925</td>\n",
       "      <td>2543</td>\n",
       "      <td>[]</td>\n",
       "      <td>938</td>\n",
       "      <td>NaN</td>\n",
       "      <td>NaN</td>\n",
       "      <td>NaN</td>\n",
       "      <td>NaN</td>\n",
       "      <td>NaN</td>\n",
       "      <td>NaN</td>\n",
       "      <td>NaN</td>\n",
       "    </tr>\n",
       "    <tr>\n",
       "      <th>bought_together</th>\n",
       "      <td>3925</td>\n",
       "      <td>2524</td>\n",
       "      <td>[]</td>\n",
       "      <td>937</td>\n",
       "      <td>NaN</td>\n",
       "      <td>NaN</td>\n",
       "      <td>NaN</td>\n",
       "      <td>NaN</td>\n",
       "      <td>NaN</td>\n",
       "      <td>NaN</td>\n",
       "      <td>NaN</td>\n",
       "    </tr>\n",
       "    <tr>\n",
       "      <th>is_listed</th>\n",
       "      <td>3925</td>\n",
       "      <td>2</td>\n",
       "      <td>yes</td>\n",
       "      <td>3008</td>\n",
       "      <td>NaN</td>\n",
       "      <td>NaN</td>\n",
       "      <td>NaN</td>\n",
       "      <td>NaN</td>\n",
       "      <td>NaN</td>\n",
       "      <td>NaN</td>\n",
       "      <td>NaN</td>\n",
       "    </tr>\n",
       "  </tbody>\n",
       "</table>\n",
       "</div>"
      ],
      "text/plain": [
       "                 count unique  \\\n",
       "product_id        3925   3387   \n",
       "sku_id            3924    NaN   \n",
       "category          3925      7   \n",
       "name              3925   3341   \n",
       "brand             3925    144   \n",
       "price             3925    NaN   \n",
       "product_url       3925   3387   \n",
       "image_url         3925   3377   \n",
       "rating            3925    NaN   \n",
       "reviews_count     3925    NaN   \n",
       "loves_count       3925    NaN   \n",
       "color_count       3925    NaN   \n",
       "details           3008   2568   \n",
       "sku_group         3925   1355   \n",
       "similar_products  3925   2543   \n",
       "bought_together   3925   2524   \n",
       "is_listed         3925      2   \n",
       "\n",
       "                                                                top  freq  \\\n",
       "product_id                                                  P427344     4   \n",
       "sku_id                                                          NaN   NaN   \n",
       "category                                                        eye  1083   \n",
       "name                                                       Lipstick     5   \n",
       "brand                                            SEPHORA COLLECTION   330   \n",
       "price                                                           NaN   NaN   \n",
       "product_url       https://www.sephora.com/product/prismatic-mult...     4   \n",
       "image_url         https://www.sephora.com/productimages/sku/s202...     4   \n",
       "rating                                                          NaN   NaN   \n",
       "reviews_count                                                   NaN   NaN   \n",
       "loves_count                                                     NaN   NaN   \n",
       "color_count                                                     NaN   NaN   \n",
       "details           To redeem your set:1. SELECT the Customizable ...     6   \n",
       "sku_group                                                        []  2299   \n",
       "similar_products                                                 []   938   \n",
       "bought_together                                                  []   937   \n",
       "is_listed                                                       yes  3008   \n",
       "\n",
       "                         mean      std    min          25%          50%  \\\n",
       "product_id                NaN      NaN    NaN          NaN          NaN   \n",
       "sku_id            1.87534e+06   307214  48041  1.75423e+06  1.95008e+06   \n",
       "category                  NaN      NaN    NaN          NaN          NaN   \n",
       "name                      NaN      NaN    NaN          NaN          NaN   \n",
       "brand                     NaN      NaN    NaN          NaN          NaN   \n",
       "price                 41.0424  28.6192      2           26           35   \n",
       "product_url               NaN      NaN    NaN          NaN          NaN   \n",
       "image_url                 NaN      NaN    NaN          NaN          NaN   \n",
       "rating                4.04721  0.83468      0       3.8776       4.2289   \n",
       "reviews_count         370.905  1098.22      0            1           42   \n",
       "loves_count             23654  56801.3      0          511         6341   \n",
       "color_count           3.38675   7.8574      0            0            0   \n",
       "details                   NaN      NaN    NaN          NaN          NaN   \n",
       "sku_group                 NaN      NaN    NaN          NaN          NaN   \n",
       "similar_products          NaN      NaN    NaN          NaN          NaN   \n",
       "bought_together           NaN      NaN    NaN          NaN          NaN   \n",
       "is_listed                 NaN      NaN    NaN          NaN          NaN   \n",
       "\n",
       "                         75%          max  \n",
       "product_id               NaN          NaN  \n",
       "sku_id            2.0938e+06  2.22557e+06  \n",
       "category                 NaN          NaN  \n",
       "name                     NaN          NaN  \n",
       "brand                    NaN          NaN  \n",
       "price                     49          526  \n",
       "product_url              NaN          NaN  \n",
       "image_url                NaN          NaN  \n",
       "rating                   4.5            5  \n",
       "reviews_count            275        17000  \n",
       "loves_count            21365  1.17586e+06  \n",
       "color_count                3          121  \n",
       "details                  NaN          NaN  \n",
       "sku_group                NaN          NaN  \n",
       "similar_products         NaN          NaN  \n",
       "bought_together          NaN          NaN  \n",
       "is_listed                NaN          NaN  "
      ]
     },
     "execution_count": 96,
     "metadata": {},
     "output_type": "execute_result"
    }
   ],
   "source": [
    "prod.describe(include='all').T"
   ]
  },
  {
   "cell_type": "markdown",
   "metadata": {},
   "source": [
    "Sereval observations on the raw data:\n",
    "\n",
    "1, sku_id indicates different colors within the same product. But since all the ratings/reviews/loves are based on products, this additional infomation will be discarded. \n",
    "\n",
    "2, is_listed=no means the product is discontinued right now, thus should not appear in our recommendation system.\n",
    "\n",
    "3, The product details are useful for a content based filtering system, but are currently beyond the scope. The same applies to sku_group, similar_products and bought_together.\n"
   ]
  },
  {
   "cell_type": "code",
   "execution_count": 97,
   "metadata": {},
   "outputs": [
    {
     "data": {
      "text/html": [
       "<div>\n",
       "<style scoped>\n",
       "    .dataframe tbody tr th:only-of-type {\n",
       "        vertical-align: middle;\n",
       "    }\n",
       "\n",
       "    .dataframe tbody tr th {\n",
       "        vertical-align: top;\n",
       "    }\n",
       "\n",
       "    .dataframe thead th {\n",
       "        text-align: right;\n",
       "    }\n",
       "</style>\n",
       "<table border=\"1\" class=\"dataframe\">\n",
       "  <thead>\n",
       "    <tr style=\"text-align: right;\">\n",
       "      <th></th>\n",
       "      <th>count</th>\n",
       "      <th>unique</th>\n",
       "      <th>top</th>\n",
       "      <th>freq</th>\n",
       "      <th>mean</th>\n",
       "      <th>std</th>\n",
       "      <th>min</th>\n",
       "      <th>25%</th>\n",
       "      <th>50%</th>\n",
       "      <th>75%</th>\n",
       "      <th>max</th>\n",
       "    </tr>\n",
       "  </thead>\n",
       "  <tbody>\n",
       "    <tr>\n",
       "      <th>product_id</th>\n",
       "      <td>2962</td>\n",
       "      <td>2539</td>\n",
       "      <td>P427344</td>\n",
       "      <td>4</td>\n",
       "      <td>NaN</td>\n",
       "      <td>NaN</td>\n",
       "      <td>NaN</td>\n",
       "      <td>NaN</td>\n",
       "      <td>NaN</td>\n",
       "      <td>NaN</td>\n",
       "      <td>NaN</td>\n",
       "    </tr>\n",
       "    <tr>\n",
       "      <th>category</th>\n",
       "      <td>2962</td>\n",
       "      <td>7</td>\n",
       "      <td>eye</td>\n",
       "      <td>816</td>\n",
       "      <td>NaN</td>\n",
       "      <td>NaN</td>\n",
       "      <td>NaN</td>\n",
       "      <td>NaN</td>\n",
       "      <td>NaN</td>\n",
       "      <td>NaN</td>\n",
       "      <td>NaN</td>\n",
       "    </tr>\n",
       "    <tr>\n",
       "      <th>name</th>\n",
       "      <td>2962</td>\n",
       "      <td>2515</td>\n",
       "      <td>Prismatic Pearl Multistick</td>\n",
       "      <td>4</td>\n",
       "      <td>NaN</td>\n",
       "      <td>NaN</td>\n",
       "      <td>NaN</td>\n",
       "      <td>NaN</td>\n",
       "      <td>NaN</td>\n",
       "      <td>NaN</td>\n",
       "      <td>NaN</td>\n",
       "    </tr>\n",
       "    <tr>\n",
       "      <th>brand</th>\n",
       "      <td>2962</td>\n",
       "      <td>124</td>\n",
       "      <td>SEPHORA COLLECTION</td>\n",
       "      <td>302</td>\n",
       "      <td>NaN</td>\n",
       "      <td>NaN</td>\n",
       "      <td>NaN</td>\n",
       "      <td>NaN</td>\n",
       "      <td>NaN</td>\n",
       "      <td>NaN</td>\n",
       "      <td>NaN</td>\n",
       "    </tr>\n",
       "    <tr>\n",
       "      <th>price</th>\n",
       "      <td>2962</td>\n",
       "      <td>NaN</td>\n",
       "      <td>NaN</td>\n",
       "      <td>NaN</td>\n",
       "      <td>40.1456</td>\n",
       "      <td>28.3333</td>\n",
       "      <td>2</td>\n",
       "      <td>25</td>\n",
       "      <td>35</td>\n",
       "      <td>48</td>\n",
       "      <td>526</td>\n",
       "    </tr>\n",
       "    <tr>\n",
       "      <th>product_url</th>\n",
       "      <td>2962</td>\n",
       "      <td>2539</td>\n",
       "      <td>https://www.sephora.com/product/prismatic-mult...</td>\n",
       "      <td>4</td>\n",
       "      <td>NaN</td>\n",
       "      <td>NaN</td>\n",
       "      <td>NaN</td>\n",
       "      <td>NaN</td>\n",
       "      <td>NaN</td>\n",
       "      <td>NaN</td>\n",
       "      <td>NaN</td>\n",
       "    </tr>\n",
       "    <tr>\n",
       "      <th>image_url</th>\n",
       "      <td>2962</td>\n",
       "      <td>2532</td>\n",
       "      <td>https://www.sephora.com/productimages/sku/s202...</td>\n",
       "      <td>4</td>\n",
       "      <td>NaN</td>\n",
       "      <td>NaN</td>\n",
       "      <td>NaN</td>\n",
       "      <td>NaN</td>\n",
       "      <td>NaN</td>\n",
       "      <td>NaN</td>\n",
       "      <td>NaN</td>\n",
       "    </tr>\n",
       "    <tr>\n",
       "      <th>rating</th>\n",
       "      <td>2962</td>\n",
       "      <td>NaN</td>\n",
       "      <td>NaN</td>\n",
       "      <td>NaN</td>\n",
       "      <td>4.17017</td>\n",
       "      <td>0.47743</td>\n",
       "      <td>1</td>\n",
       "      <td>3.93843</td>\n",
       "      <td>4.25</td>\n",
       "      <td>4.5</td>\n",
       "      <td>5</td>\n",
       "    </tr>\n",
       "    <tr>\n",
       "      <th>reviews_count</th>\n",
       "      <td>2962</td>\n",
       "      <td>NaN</td>\n",
       "      <td>NaN</td>\n",
       "      <td>NaN</td>\n",
       "      <td>491.484</td>\n",
       "      <td>1240.58</td>\n",
       "      <td>0</td>\n",
       "      <td>25</td>\n",
       "      <td>107</td>\n",
       "      <td>450.25</td>\n",
       "      <td>17000</td>\n",
       "    </tr>\n",
       "    <tr>\n",
       "      <th>loves_count</th>\n",
       "      <td>2962</td>\n",
       "      <td>NaN</td>\n",
       "      <td>NaN</td>\n",
       "      <td>NaN</td>\n",
       "      <td>31328.4</td>\n",
       "      <td>63525.8</td>\n",
       "      <td>0</td>\n",
       "      <td>4356</td>\n",
       "      <td>11448</td>\n",
       "      <td>30574</td>\n",
       "      <td>1.17586e+06</td>\n",
       "    </tr>\n",
       "  </tbody>\n",
       "</table>\n",
       "</div>"
      ],
      "text/plain": [
       "              count unique                                                top  \\\n",
       "product_id     2962   2539                                            P427344   \n",
       "category       2962      7                                                eye   \n",
       "name           2962   2515                         Prismatic Pearl Multistick   \n",
       "brand          2962    124                                 SEPHORA COLLECTION   \n",
       "price          2962    NaN                                                NaN   \n",
       "product_url    2962   2539  https://www.sephora.com/product/prismatic-mult...   \n",
       "image_url      2962   2532  https://www.sephora.com/productimages/sku/s202...   \n",
       "rating         2962    NaN                                                NaN   \n",
       "reviews_count  2962    NaN                                                NaN   \n",
       "loves_count    2962    NaN                                                NaN   \n",
       "\n",
       "              freq     mean      std  min      25%    50%     75%          max  \n",
       "product_id       4      NaN      NaN  NaN      NaN    NaN     NaN          NaN  \n",
       "category       816      NaN      NaN  NaN      NaN    NaN     NaN          NaN  \n",
       "name             4      NaN      NaN  NaN      NaN    NaN     NaN          NaN  \n",
       "brand          302      NaN      NaN  NaN      NaN    NaN     NaN          NaN  \n",
       "price          NaN  40.1456  28.3333    2       25     35      48          526  \n",
       "product_url      4      NaN      NaN  NaN      NaN    NaN     NaN          NaN  \n",
       "image_url        4      NaN      NaN  NaN      NaN    NaN     NaN          NaN  \n",
       "rating         NaN  4.17017  0.47743    1  3.93843   4.25     4.5            5  \n",
       "reviews_count  NaN  491.484  1240.58    0       25    107  450.25        17000  \n",
       "loves_count    NaN  31328.4  63525.8    0     4356  11448   30574  1.17586e+06  "
      ]
     },
     "execution_count": 97,
     "metadata": {},
     "output_type": "execute_result"
    }
   ],
   "source": [
    "prod=prod[prod['is_listed']=='yes']\n",
    "prod=prod[prod['rating']!=0]\n",
    "columns_to_drop=['sku_group','similar_products','bought_together','details','sku_id','color_count','is_listed']\n",
    "prod=prod.drop(columns_to_drop, axis=1)\n",
    "prod.describe(include='all').T"
   ]
  },
  {
   "cell_type": "code",
   "execution_count": 98,
   "metadata": {},
   "outputs": [
    {
     "data": {
      "image/png": "[encoded data removed]",
      "text/plain": [
       "<Figure size 936x576 with 1 Axes>"
      ]
     },
     "metadata": {},
     "output_type": "display_data"
    }
   ],
   "source": [
    "rc=sns.distplot(prod['reviews_count']);"
   ]
  },
  {
   "cell_type": "code",
   "execution_count": 99,
   "metadata": {},
   "outputs": [
    {
     "data": {
      "image/png": "[encoded data removed]",
      "text/plain": [
       "<Figure size 936x576 with 1 Axes>"
      ]
     },
     "metadata": {},
     "output_type": "display_data"
    }
   ],
   "source": [
    "plt.figure()\n",
    "scoreplot=sns.distplot(prod['rating']);"
   ]
  },
  {
   "cell_type": "code",
   "execution_count": 100,
   "metadata": {},
   "outputs": [
    {
     "data": {
      "image/png": "[encoded data removed]",
      "text/plain": [
       "<Figure size 576x576 with 20 Axes>"
      ]
     },
     "metadata": {},
     "output_type": "display_data"
    }
   ],
   "source": [
    "sns.pairplot(prod,height=2,kind='reg');"
   ]
  },
  {
   "cell_type": "markdown",
   "metadata": {},
   "source": [
    "## Demographic Filtering - based purely on overall ratings"
   ]
  },
  {
   "attachments": {
    "image.png": {
     "image/png": "[encoded data removed]"
    }
   },
   "cell_type": "markdown",
   "metadata": {},
   "source": [
    "We want to first build a simple recommender purely based on ratings, without product-user interaction. \n",
    "\n",
    "We see from abover figures that the numbers of reviews given to products vary greatly. Reviews_count and loves_count highly corelate with each other thus can not be used as independent features. And the rating is only meaningful when the number of users giving rating/review is higher than a certain cutoff. \n",
    "\n",
    "\n",
    "Here I'm using a modified 'weighted rating' by IMDB:![image.png](attachment:image.png)\n",
    "\n",
    "__v__ is the number of votes for the movie, here I use review_counts which reflects more serious ratings than rate_counts;\n",
    "\n",
    "__m__ is the minimum votes required to be listed in the chart, here I use the 10 percentile of review_counts, meaning one product have to gain more votes than at least 10% of all products;\n",
    "\n",
    "__R__ is the average rating of the movie, here it's just rating;\n",
    "\n",
    "__C__ is the mean vote across the whole report, here is the average of ratings."
   ]
  },
  {
   "cell_type": "code",
   "execution_count": 101,
   "metadata": {},
   "outputs": [
    {
     "data": {
      "text/plain": [
       "(4.17016910871033, 9.0)"
      ]
     },
     "execution_count": 101,
     "metadata": {},
     "output_type": "execute_result"
    }
   ],
   "source": [
    "C=prod['rating'].mean()\n",
    "m=prod['reviews_count'].quantile(0.1)\n",
    "C,m"
   ]
  },
  {
   "cell_type": "markdown",
   "metadata": {},
   "source": [
    "Here we created a sub dataset that only contains the products with more reviews than m"
   ]
  },
  {
   "cell_type": "code",
   "execution_count": 102,
   "metadata": {},
   "outputs": [
    {
     "data": {
      "text/plain": [
       "(2673, 10)"
      ]
     },
     "execution_count": 102,
     "metadata": {},
     "output_type": "execute_result"
    }
   ],
   "source": [
    "q_prod = prod.copy().loc[prod['reviews_count'] >= m]\n",
    "q_prod.shape"
   ]
  },
  {
   "cell_type": "markdown",
   "metadata": {},
   "source": [
    "Here we define a function to get weighted rating for each product"
   ]
  },
  {
   "cell_type": "code",
   "execution_count": 103,
   "metadata": {},
   "outputs": [],
   "source": [
    "def weighted_rating(x, m=m, C=C):\n",
    "    R=x['rating']\n",
    "    v=x['reviews_count']\n",
    "    return (v/(v+m) * R) + (m/(m+v) * C)\n"
   ]
  },
  {
   "cell_type": "code",
   "execution_count": 104,
   "metadata": {},
   "outputs": [
    {
     "data": {
      "text/plain": [
       "(2673, 11)"
      ]
     },
     "execution_count": 104,
     "metadata": {},
     "output_type": "execute_result"
    }
   ],
   "source": [
    "q_prod['score'] = q_prod.apply(weighted_rating, axis=1)\n",
    "q_prod.shape"
   ]
  },
  {
   "cell_type": "code",
   "execution_count": 105,
   "metadata": {},
   "outputs": [
    {
     "data": {
      "image/png": "[encoded data removed]",
      "text/plain": [
       "<Figure size 936x576 with 1 Axes>"
      ]
     },
     "metadata": {},
     "output_type": "display_data"
    }
   ],
   "source": [
    "plt.figure()\n",
    "scoreplot=sns.distplot(q_prod['score']);"
   ]
  },
  {
   "cell_type": "markdown",
   "metadata": {},
   "source": [
    "This distribution looks much more reasonable than the original rating."
   ]
  },
  {
   "cell_type": "markdown",
   "metadata": {},
   "source": [
    "Now if I want to make a recommendation list purely based on the score, not personal at all, I'm done already. Here is a list of top 5 products in each category based purely on weighted rating:"
   ]
  },
  {
   "cell_type": "code",
   "execution_count": 106,
   "metadata": {},
   "outputs": [
    {
     "data": {
      "text/html": [
       "<div>\n",
       "<style scoped>\n",
       "    .dataframe tbody tr th:only-of-type {\n",
       "        vertical-align: middle;\n",
       "    }\n",
       "\n",
       "    .dataframe tbody tr th {\n",
       "        vertical-align: top;\n",
       "    }\n",
       "\n",
       "    .dataframe thead th {\n",
       "        text-align: right;\n",
       "    }\n",
       "</style>\n",
       "<table border=\"1\" class=\"dataframe\">\n",
       "  <thead>\n",
       "    <tr style=\"text-align: right;\">\n",
       "      <th></th>\n",
       "      <th></th>\n",
       "      <th>product_id</th>\n",
       "      <th>name</th>\n",
       "      <th>brand</th>\n",
       "      <th>price</th>\n",
       "      <th>product_url</th>\n",
       "      <th>score</th>\n",
       "    </tr>\n",
       "    <tr>\n",
       "      <th>category</th>\n",
       "      <th></th>\n",
       "      <th></th>\n",
       "      <th></th>\n",
       "      <th></th>\n",
       "      <th></th>\n",
       "      <th></th>\n",
       "      <th></th>\n",
       "    </tr>\n",
       "  </thead>\n",
       "  <tbody>\n",
       "    <tr>\n",
       "      <th rowspan=\"5\" valign=\"top\">accessory</th>\n",
       "      <th>789</th>\n",
       "      <td>P428809</td>\n",
       "      <td>Pack It All Organizer</td>\n",
       "      <td>SEPHORA COLLECTION</td>\n",
       "      <td>56.0</td>\n",
       "      <td>https://www.sephora.com/product/pack-it-all-or...</td>\n",
       "      <td>4.856185</td>\n",
       "    </tr>\n",
       "    <tr>\n",
       "      <th>890</th>\n",
       "      <td>P394560</td>\n",
       "      <td>Breakups To Makeup Bag</td>\n",
       "      <td>SEPHORA COLLECTION</td>\n",
       "      <td>30.0</td>\n",
       "      <td>https://www.sephora.com/product/breakups-to-ma...</td>\n",
       "      <td>4.770367</td>\n",
       "    </tr>\n",
       "    <tr>\n",
       "      <th>787</th>\n",
       "      <td>P384059</td>\n",
       "      <td>Brush #12</td>\n",
       "      <td>Anastasia Beverly Hills</td>\n",
       "      <td>23.0</td>\n",
       "      <td>https://www.sephora.com/product/brush-12-P384059</td>\n",
       "      <td>4.740864</td>\n",
       "    </tr>\n",
       "    <tr>\n",
       "      <th>804</th>\n",
       "      <td>P414661</td>\n",
       "      <td>Prep-N-Glow™ Cloths</td>\n",
       "      <td>NuFACE</td>\n",
       "      <td>12.0</td>\n",
       "      <td>https://www.sephora.com/product/prep-n-glow-cl...</td>\n",
       "      <td>4.716974</td>\n",
       "    </tr>\n",
       "    <tr>\n",
       "      <th>802</th>\n",
       "      <td>P382357</td>\n",
       "      <td>Aburatorigami Japanese Blotting Papers</td>\n",
       "      <td>Tatcha</td>\n",
       "      <td>15.0</td>\n",
       "      <td>https://www.sephora.com/product/aburatorigami-...</td>\n",
       "      <td>4.686132</td>\n",
       "    </tr>\n",
       "    <tr>\n",
       "      <th rowspan=\"5\" valign=\"top\">applicator</th>\n",
       "      <th>2067</th>\n",
       "      <td>P430239</td>\n",
       "      <td>Veil™ Powder Brush</td>\n",
       "      <td>Hourglass</td>\n",
       "      <td>78.0</td>\n",
       "      <td>https://www.sephora.com/product/veil-powder-br...</td>\n",
       "      <td>4.857843</td>\n",
       "    </tr>\n",
       "    <tr>\n",
       "      <th>2062</th>\n",
       "      <td>P405525</td>\n",
       "      <td>PRO Featherweight Powder Brush #91</td>\n",
       "      <td>SEPHORA COLLECTION</td>\n",
       "      <td>50.0</td>\n",
       "      <td>https://www.sephora.com/product/pro-featherwei...</td>\n",
       "      <td>4.824363</td>\n",
       "    </tr>\n",
       "    <tr>\n",
       "      <th>2073</th>\n",
       "      <td>P384066</td>\n",
       "      <td>Kabuki Brush</td>\n",
       "      <td>Too Faced</td>\n",
       "      <td>40.0</td>\n",
       "      <td>https://www.sephora.com/product/kabuki-brush-P...</td>\n",
       "      <td>4.819580</td>\n",
       "    </tr>\n",
       "    <tr>\n",
       "      <th>2087</th>\n",
       "      <td>P313020</td>\n",
       "      <td>PRO Airbrush Detail Brush #57</td>\n",
       "      <td>SEPHORA COLLECTION</td>\n",
       "      <td>30.0</td>\n",
       "      <td>https://www.sephora.com/product/pro-airbrush-c...</td>\n",
       "      <td>4.810225</td>\n",
       "    </tr>\n",
       "    <tr>\n",
       "      <th>2064</th>\n",
       "      <td>P389120</td>\n",
       "      <td>Solid Clean: Solid Brush Cleaner</td>\n",
       "      <td>SEPHORA COLLECTION</td>\n",
       "      <td>10.0</td>\n",
       "      <td>https://www.sephora.com/product/solid-clean-so...</td>\n",
       "      <td>4.795472</td>\n",
       "    </tr>\n",
       "    <tr>\n",
       "      <th rowspan=\"5\" valign=\"top\">cheek</th>\n",
       "      <th>502</th>\n",
       "      <td>P427643</td>\n",
       "      <td>Bomb Baby Mini Lip and Face Set</td>\n",
       "      <td>FENTY BEAUTY by Rihanna</td>\n",
       "      <td>28.0</td>\n",
       "      <td>https://www.sephora.com/product/bomb-baby-mini...</td>\n",
       "      <td>4.806572</td>\n",
       "    </tr>\n",
       "    <tr>\n",
       "      <th>734</th>\n",
       "      <td>P419627</td>\n",
       "      <td>Duo Glow</td>\n",
       "      <td>Natasha Denona</td>\n",
       "      <td>49.0</td>\n",
       "      <td>https://www.sephora.com/product/duo-glow-P419627</td>\n",
       "      <td>4.804805</td>\n",
       "    </tr>\n",
       "    <tr>\n",
       "      <th>3768</th>\n",
       "      <td>P420728</td>\n",
       "      <td>Dual Finish Multi-tasking Illuminating Highlig...</td>\n",
       "      <td>Lancôme</td>\n",
       "      <td>53.0</td>\n",
       "      <td>https://www.sephora.com/product/dual-finish-mu...</td>\n",
       "      <td>4.773297</td>\n",
       "    </tr>\n",
       "    <tr>\n",
       "      <th>528</th>\n",
       "      <td>P434021</td>\n",
       "      <td>Blush Bouquet Dual Blush Palette</td>\n",
       "      <td>Jouer Cosmetics</td>\n",
       "      <td>38.0</td>\n",
       "      <td>https://www.sephora.com/product/powder-blush-d...</td>\n",
       "      <td>4.765406</td>\n",
       "    </tr>\n",
       "    <tr>\n",
       "      <th>543</th>\n",
       "      <td>P440021</td>\n",
       "      <td>Wanderlust Primer-Infused Blush</td>\n",
       "      <td>Buxom</td>\n",
       "      <td>27.0</td>\n",
       "      <td>https://www.sephora.com/product/wanderlust-pri...</td>\n",
       "      <td>4.764826</td>\n",
       "    </tr>\n",
       "    <tr>\n",
       "      <th rowspan=\"5\" valign=\"top\">eye</th>\n",
       "      <th>2581</th>\n",
       "      <td>P409118</td>\n",
       "      <td>Modern Renaissance Eye Shadow Palette</td>\n",
       "      <td>Anastasia Beverly Hills</td>\n",
       "      <td>55.0</td>\n",
       "      <td>https://www.sephora.com/product/modern-renaiss...</td>\n",
       "      <td>4.800791</td>\n",
       "    </tr>\n",
       "    <tr>\n",
       "      <th>1417</th>\n",
       "      <td>P426848</td>\n",
       "      <td>Chocolate Gold Eyeshadow Palette</td>\n",
       "      <td>Too Faced</td>\n",
       "      <td>59.0</td>\n",
       "      <td>https://www.sephora.com/product/chocolate-gold...</td>\n",
       "      <td>4.795283</td>\n",
       "    </tr>\n",
       "    <tr>\n",
       "      <th>1467</th>\n",
       "      <td>P277300</td>\n",
       "      <td>Shadow Insurance Glitter Glue Glitter Bonding ...</td>\n",
       "      <td>Too Faced</td>\n",
       "      <td>24.0</td>\n",
       "      <td>https://www.sephora.com/product/shadow-insuran...</td>\n",
       "      <td>4.745963</td>\n",
       "    </tr>\n",
       "    <tr>\n",
       "      <th>2509</th>\n",
       "      <td>P58930227</td>\n",
       "      <td>Soft Glam Eyeshadow Palette</td>\n",
       "      <td>Anastasia Beverly Hills</td>\n",
       "      <td>55.0</td>\n",
       "      <td>https://www.sephora.com/product/soft-glam-eyes...</td>\n",
       "      <td>4.745511</td>\n",
       "    </tr>\n",
       "    <tr>\n",
       "      <th>2720</th>\n",
       "      <td>P413457</td>\n",
       "      <td>Shade + Light Eye Contour Palette</td>\n",
       "      <td>Kat Von D</td>\n",
       "      <td>62.0</td>\n",
       "      <td>https://www.sephora.com/product/shade-light-ey...</td>\n",
       "      <td>4.738941</td>\n",
       "    </tr>\n",
       "    <tr>\n",
       "      <th rowspan=\"5\" valign=\"top\">face</th>\n",
       "      <th>991</th>\n",
       "      <td>P427643</td>\n",
       "      <td>Bomb Baby Mini Lip and Face Set</td>\n",
       "      <td>FENTY BEAUTY by Rihanna</td>\n",
       "      <td>28.0</td>\n",
       "      <td>https://www.sephora.com/product/bomb-baby-mini...</td>\n",
       "      <td>4.806572</td>\n",
       "    </tr>\n",
       "    <tr>\n",
       "      <th>3130</th>\n",
       "      <td>P419627</td>\n",
       "      <td>Duo Glow</td>\n",
       "      <td>Natasha Denona</td>\n",
       "      <td>49.0</td>\n",
       "      <td>https://www.sephora.com/product/duo-glow-P419627</td>\n",
       "      <td>4.804805</td>\n",
       "    </tr>\n",
       "    <tr>\n",
       "      <th>3281</th>\n",
       "      <td>P420728</td>\n",
       "      <td>Dual Finish Multi-tasking Illuminating Highlig...</td>\n",
       "      <td>Lancôme</td>\n",
       "      <td>53.0</td>\n",
       "      <td>https://www.sephora.com/product/dual-finish-mu...</td>\n",
       "      <td>4.773297</td>\n",
       "    </tr>\n",
       "    <tr>\n",
       "      <th>3332</th>\n",
       "      <td>P409989</td>\n",
       "      <td>Lock-It Setting Powder Brush</td>\n",
       "      <td>Kat Von D</td>\n",
       "      <td>47.0</td>\n",
       "      <td>https://www.sephora.com/product/lock-it-settin...</td>\n",
       "      <td>4.759992</td>\n",
       "    </tr>\n",
       "    <tr>\n",
       "      <th>2868</th>\n",
       "      <td>P37544587</td>\n",
       "      <td>Fairy Bomb Shimmer Powder</td>\n",
       "      <td>FENTY BEAUTY by Rihanna</td>\n",
       "      <td>35.0</td>\n",
       "      <td>https://www.sephora.com/product/fairy-bomb-shi...</td>\n",
       "      <td>4.728595</td>\n",
       "    </tr>\n",
       "    <tr>\n",
       "      <th rowspan=\"5\" valign=\"top\">lip</th>\n",
       "      <th>225</th>\n",
       "      <td>P427643</td>\n",
       "      <td>Bomb Baby Mini Lip and Face Set</td>\n",
       "      <td>FENTY BEAUTY by Rihanna</td>\n",
       "      <td>28.0</td>\n",
       "      <td>https://www.sephora.com/product/bomb-baby-mini...</td>\n",
       "      <td>4.806572</td>\n",
       "    </tr>\n",
       "    <tr>\n",
       "      <th>438</th>\n",
       "      <td>P43578337</td>\n",
       "      <td>Summer Daze &amp; Summer Nights Iridescent Lip Lum...</td>\n",
       "      <td>FENTY BEAUTY by Rihanna</td>\n",
       "      <td>40.0</td>\n",
       "      <td>https://www.sephora.com/product/summer-nights-...</td>\n",
       "      <td>4.774076</td>\n",
       "    </tr>\n",
       "    <tr>\n",
       "      <th>217</th>\n",
       "      <td>P442530</td>\n",
       "      <td>Orgasm Oil-Infused Lip Tint</td>\n",
       "      <td>NARS</td>\n",
       "      <td>34.0</td>\n",
       "      <td>https://www.sephora.com/product/orgasm-oil-inf...</td>\n",
       "      <td>4.766610</td>\n",
       "    </tr>\n",
       "    <tr>\n",
       "      <th>288</th>\n",
       "      <td>P440022</td>\n",
       "      <td>Wanderlust Plumping Lip Cream</td>\n",
       "      <td>Buxom</td>\n",
       "      <td>26.0</td>\n",
       "      <td>https://www.sephora.com/product/wanderlust-plu...</td>\n",
       "      <td>4.723390</td>\n",
       "    </tr>\n",
       "    <tr>\n",
       "      <th>236</th>\n",
       "      <td>P441883</td>\n",
       "      <td>Weightless Lip Color Lipstick</td>\n",
       "      <td>KOSAS</td>\n",
       "      <td>37.0</td>\n",
       "      <td>https://www.sephora.com/product/weightless-lip...</td>\n",
       "      <td>4.715783</td>\n",
       "    </tr>\n",
       "    <tr>\n",
       "      <th rowspan=\"5\" valign=\"top\">nail</th>\n",
       "      <th>1230</th>\n",
       "      <td>P387853</td>\n",
       "      <td>Cut to the Point Cuticle Nipper</td>\n",
       "      <td>SEPHORA COLLECTION</td>\n",
       "      <td>30.0</td>\n",
       "      <td>https://www.sephora.com/product/cut-to-point-c...</td>\n",
       "      <td>4.763711</td>\n",
       "    </tr>\n",
       "    <tr>\n",
       "      <th>1222</th>\n",
       "      <td>P265501</td>\n",
       "      <td>Diamond Foot Buffer #11</td>\n",
       "      <td>Diamancel</td>\n",
       "      <td>59.0</td>\n",
       "      <td>https://www.sephora.com/product/diamond-foot-b...</td>\n",
       "      <td>4.693068</td>\n",
       "    </tr>\n",
       "    <tr>\n",
       "      <th>1239</th>\n",
       "      <td>P388682</td>\n",
       "      <td>NAILKALE - Illuminator</td>\n",
       "      <td>NAILS INC.</td>\n",
       "      <td>19.0</td>\n",
       "      <td>https://www.sephora.com/product/nailkale-illum...</td>\n",
       "      <td>4.581525</td>\n",
       "    </tr>\n",
       "    <tr>\n",
       "      <th>1235</th>\n",
       "      <td>P406743</td>\n",
       "      <td>Overnight Detox Nail Mask</td>\n",
       "      <td>NAILS INC.</td>\n",
       "      <td>19.0</td>\n",
       "      <td>https://www.sephora.com/product/overnight-deto...</td>\n",
       "      <td>4.571033</td>\n",
       "    </tr>\n",
       "    <tr>\n",
       "      <th>1225</th>\n",
       "      <td>P408299</td>\n",
       "      <td>Superfood Nail and Cuticle Repair Oil</td>\n",
       "      <td>NAILS INC.</td>\n",
       "      <td>19.0</td>\n",
       "      <td>https://www.sephora.com/product/superfood-nail...</td>\n",
       "      <td>4.560117</td>\n",
       "    </tr>\n",
       "  </tbody>\n",
       "</table>\n",
       "</div>"
      ],
      "text/plain": [
       "                product_id                                               name  \\\n",
       "category                                                                        \n",
       "accessory  789     P428809                              Pack It All Organizer   \n",
       "           890     P394560                             Breakups To Makeup Bag   \n",
       "           787     P384059                                          Brush #12   \n",
       "           804     P414661                                Prep-N-Glow™ Cloths   \n",
       "           802     P382357             Aburatorigami Japanese Blotting Papers   \n",
       "applicator 2067    P430239                                 Veil™ Powder Brush   \n",
       "           2062    P405525                 PRO Featherweight Powder Brush #91   \n",
       "           2073    P384066                                       Kabuki Brush   \n",
       "           2087    P313020                      PRO Airbrush Detail Brush #57   \n",
       "           2064    P389120                   Solid Clean: Solid Brush Cleaner   \n",
       "cheek      502     P427643                    Bomb Baby Mini Lip and Face Set   \n",
       "           734     P419627                                           Duo Glow   \n",
       "           3768    P420728  Dual Finish Multi-tasking Illuminating Highlig...   \n",
       "           528     P434021                   Blush Bouquet Dual Blush Palette   \n",
       "           543     P440021                    Wanderlust Primer-Infused Blush   \n",
       "eye        2581    P409118              Modern Renaissance Eye Shadow Palette   \n",
       "           1417    P426848                   Chocolate Gold Eyeshadow Palette   \n",
       "           1467    P277300  Shadow Insurance Glitter Glue Glitter Bonding ...   \n",
       "           2509  P58930227                        Soft Glam Eyeshadow Palette   \n",
       "           2720    P413457                  Shade + Light Eye Contour Palette   \n",
       "face       991     P427643                    Bomb Baby Mini Lip and Face Set   \n",
       "           3130    P419627                                           Duo Glow   \n",
       "           3281    P420728  Dual Finish Multi-tasking Illuminating Highlig...   \n",
       "           3332    P409989                       Lock-It Setting Powder Brush   \n",
       "           2868  P37544587                          Fairy Bomb Shimmer Powder   \n",
       "lip        225     P427643                    Bomb Baby Mini Lip and Face Set   \n",
       "           438   P43578337  Summer Daze & Summer Nights Iridescent Lip Lum...   \n",
       "           217     P442530                        Orgasm Oil-Infused Lip Tint   \n",
       "           288     P440022                      Wanderlust Plumping Lip Cream   \n",
       "           236     P441883                      Weightless Lip Color Lipstick   \n",
       "nail       1230    P387853                    Cut to the Point Cuticle Nipper   \n",
       "           1222    P265501                            Diamond Foot Buffer #11   \n",
       "           1239    P388682                             NAILKALE - Illuminator   \n",
       "           1235    P406743                          Overnight Detox Nail Mask   \n",
       "           1225    P408299              Superfood Nail and Cuticle Repair Oil   \n",
       "\n",
       "                                   brand  price  \\\n",
       "category                                          \n",
       "accessory  789        SEPHORA COLLECTION   56.0   \n",
       "           890        SEPHORA COLLECTION   30.0   \n",
       "           787   Anastasia Beverly Hills   23.0   \n",
       "           804                    NuFACE   12.0   \n",
       "           802                    Tatcha   15.0   \n",
       "applicator 2067                Hourglass   78.0   \n",
       "           2062       SEPHORA COLLECTION   50.0   \n",
       "           2073                Too Faced   40.0   \n",
       "           2087       SEPHORA COLLECTION   30.0   \n",
       "           2064       SEPHORA COLLECTION   10.0   \n",
       "cheek      502   FENTY BEAUTY by Rihanna   28.0   \n",
       "           734            Natasha Denona   49.0   \n",
       "           3768                  Lancôme   53.0   \n",
       "           528           Jouer Cosmetics   38.0   \n",
       "           543                     Buxom   27.0   \n",
       "eye        2581  Anastasia Beverly Hills   55.0   \n",
       "           1417                Too Faced   59.0   \n",
       "           1467                Too Faced   24.0   \n",
       "           2509  Anastasia Beverly Hills   55.0   \n",
       "           2720                Kat Von D   62.0   \n",
       "face       991   FENTY BEAUTY by Rihanna   28.0   \n",
       "           3130           Natasha Denona   49.0   \n",
       "           3281                  Lancôme   53.0   \n",
       "           3332                Kat Von D   47.0   \n",
       "           2868  FENTY BEAUTY by Rihanna   35.0   \n",
       "lip        225   FENTY BEAUTY by Rihanna   28.0   \n",
       "           438   FENTY BEAUTY by Rihanna   40.0   \n",
       "           217                      NARS   34.0   \n",
       "           288                     Buxom   26.0   \n",
       "           236                     KOSAS   37.0   \n",
       "nail       1230       SEPHORA COLLECTION   30.0   \n",
       "           1222                Diamancel   59.0   \n",
       "           1239               NAILS INC.   19.0   \n",
       "           1235               NAILS INC.   19.0   \n",
       "           1225               NAILS INC.   19.0   \n",
       "\n",
       "                                                       product_url     score  \n",
       "category                                                                      \n",
       "accessory  789   https://www.sephora.com/product/pack-it-all-or...  4.856185  \n",
       "           890   https://www.sephora.com/product/breakups-to-ma...  4.770367  \n",
       "           787    https://www.sephora.com/product/brush-12-P384059  4.740864  \n",
       "           804   https://www.sephora.com/product/prep-n-glow-cl...  4.716974  \n",
       "           802   https://www.sephora.com/product/aburatorigami-...  4.686132  \n",
       "applicator 2067  https://www.sephora.com/product/veil-powder-br...  4.857843  \n",
       "           2062  https://www.sephora.com/product/pro-featherwei...  4.824363  \n",
       "           2073  https://www.sephora.com/product/kabuki-brush-P...  4.819580  \n",
       "           2087  https://www.sephora.com/product/pro-airbrush-c...  4.810225  \n",
       "           2064  https://www.sephora.com/product/solid-clean-so...  4.795472  \n",
       "cheek      502   https://www.sephora.com/product/bomb-baby-mini...  4.806572  \n",
       "           734    https://www.sephora.com/product/duo-glow-P419627  4.804805  \n",
       "           3768  https://www.sephora.com/product/dual-finish-mu...  4.773297  \n",
       "           528   https://www.sephora.com/product/powder-blush-d...  4.765406  \n",
       "           543   https://www.sephora.com/product/wanderlust-pri...  4.764826  \n",
       "eye        2581  https://www.sephora.com/product/modern-renaiss...  4.800791  \n",
       "           1417  https://www.sephora.com/product/chocolate-gold...  4.795283  \n",
       "           1467  https://www.sephora.com/product/shadow-insuran...  4.745963  \n",
       "           2509  https://www.sephora.com/product/soft-glam-eyes...  4.745511  \n",
       "           2720  https://www.sephora.com/product/shade-light-ey...  4.738941  \n",
       "face       991   https://www.sephora.com/product/bomb-baby-mini...  4.806572  \n",
       "           3130   https://www.sephora.com/product/duo-glow-P419627  4.804805  \n",
       "           3281  https://www.sephora.com/product/dual-finish-mu...  4.773297  \n",
       "           3332  https://www.sephora.com/product/lock-it-settin...  4.759992  \n",
       "           2868  https://www.sephora.com/product/fairy-bomb-shi...  4.728595  \n",
       "lip        225   https://www.sephora.com/product/bomb-baby-mini...  4.806572  \n",
       "           438   https://www.sephora.com/product/summer-nights-...  4.774076  \n",
       "           217   https://www.sephora.com/product/orgasm-oil-inf...  4.766610  \n",
       "           288   https://www.sephora.com/product/wanderlust-plu...  4.723390  \n",
       "           236   https://www.sephora.com/product/weightless-lip...  4.715783  \n",
       "nail       1230  https://www.sephora.com/product/cut-to-point-c...  4.763711  \n",
       "           1222  https://www.sephora.com/product/diamond-foot-b...  4.693068  \n",
       "           1239  https://www.sephora.com/product/nailkale-illum...  4.581525  \n",
       "           1235  https://www.sephora.com/product/overnight-deto...  4.571033  \n",
       "           1225  https://www.sephora.com/product/superfood-nail...  4.560117  "
      ]
     },
     "execution_count": 106,
     "metadata": {},
     "output_type": "execute_result"
    }
   ],
   "source": [
    "q_prod.groupby('category').apply(pd.DataFrame.nlargest, n=5, columns='score').drop(columns=['category','image_url','rating','reviews_count','loves_count'])"
   ]
  },
  {
   "cell_type": "markdown",
   "metadata": {},
   "source": [
    "## Collaborative filtering"
   ]
  },
  {
   "cell_type": "markdown",
   "metadata": {},
   "source": [
    "Let's take a look at next data file, with product-user interaction."
   ]
  },
  {
   "cell_type": "code",
   "execution_count": 107,
   "metadata": {},
   "outputs": [],
   "source": [
    "ratings=pd.read_csv('all_users_reviews.csv')"
   ]
  },
  {
   "cell_type": "code",
   "execution_count": 108,
   "metadata": {},
   "outputs": [],
   "source": [
    "prod=prod[prod['product_id'].isin(ratings['product_id'])]\n",
    "ratings=ratings[ratings['product_id'].isin(prod['product_id'])]"
   ]
  },
  {
   "cell_type": "code",
   "execution_count": 109,
   "metadata": {},
   "outputs": [
    {
     "name": "stdout",
     "output_type": "stream",
     "text": [
      "<class 'pandas.core.frame.DataFrame'>\n",
      "Int64Index: 323957 entries, 0 to 324110\n",
      "Data columns (total 19 columns):\n",
      "product_id           323957 non-null object\n",
      "product_name         323957 non-null object\n",
      "product_url          323894 non-null object\n",
      "user_nickname        321985 non-null object\n",
      "author_id            323957 non-null object\n",
      "location             48530 non-null object\n",
      "eye_color            262973 non-null object\n",
      "hair_color           223266 non-null object\n",
      "skin_tone            239441 non-null object\n",
      "skin_type            239441 non-null object\n",
      "age_range            78746 non-null object\n",
      "rating               323957 non-null int64\n",
      "review_title         236168 non-null object\n",
      "review_text          323957 non-null object\n",
      "is_recommended       323957 non-null int64\n",
      "submission_time      323957 non-null object\n",
      "helpful_count        323957 non-null int64\n",
      "not_helpful_count    323957 non-null int64\n",
      "helpfulness          151748 non-null float64\n",
      "dtypes: float64(1), int64(4), object(14)\n",
      "memory usage: 49.4+ MB\n"
     ]
    }
   ],
   "source": [
    "ratings.info()"
   ]
  },
  {
   "cell_type": "code",
   "execution_count": 110,
   "metadata": {},
   "outputs": [
    {
     "data": {
      "text/plain": [
       "(209895, 2410)"
      ]
     },
     "execution_count": 110,
     "metadata": {},
     "output_type": "execute_result"
    }
   ],
   "source": [
    "n_users=len(ratings['author_id'].unique())\n",
    "n_items=len(ratings['product_id'].unique())\n",
    "n_users, n_items"
   ]
  },
  {
   "cell_type": "code",
   "execution_count": 111,
   "metadata": {},
   "outputs": [
    {
     "data": {
      "text/plain": [
       "2410"
      ]
     },
     "execution_count": 111,
     "metadata": {},
     "output_type": "execute_result"
    }
   ],
   "source": [
    "len(prod['product_id'].unique())"
   ]
  },
  {
   "cell_type": "markdown",
   "metadata": {},
   "source": [
    "### Matrix factorization with Singular Value decomposition provided by surprise library."
   ]
  },
  {
   "cell_type": "code",
   "execution_count": 112,
   "metadata": {},
   "outputs": [],
   "source": [
    "from surprise import Reader, Dataset, SVD, evaluate\n",
    "\n",
    "reader = Reader(rating_scale=(1, 5))\n",
    "data = Dataset.load_from_df(ratings[[ 'author_id','product_id', 'rating']],reader)\n",
    "data.split(n_folds=5)"
   ]
  },
  {
   "cell_type": "code",
   "execution_count": 113,
   "metadata": {},
   "outputs": [],
   "source": [
    "#svd = SVD()\n",
    "#evaluate(svd, data, measures=['RMSE', 'MAE'])"
   ]
  },
  {
   "cell_type": "markdown",
   "metadata": {},
   "source": [
    "These scores look OK to me. Now let's fit our real model with the whole dataset."
   ]
  },
  {
   "cell_type": "code",
   "execution_count": 114,
   "metadata": {},
   "outputs": [],
   "source": [
    "#trainset = data.build_full_trainset()\n",
    "#svd.fit(trainset)"
   ]
  },
  {
   "cell_type": "markdown",
   "metadata": {},
   "source": [
    "Randomly pick one user-product combination to see how the prediction model works."
   ]
  },
  {
   "cell_type": "code",
   "execution_count": 115,
   "metadata": {},
   "outputs": [
    {
     "data": {
      "text/plain": [
       "\"sampler=ratings.sample(n=1)\\npid=sampler.iloc[0]['product_id']\\nuid=sampler.iloc[0]['author_id']\\nr_pu=sampler.iloc[0]['rating']\""
      ]
     },
     "execution_count": 115,
     "metadata": {},
     "output_type": "execute_result"
    }
   ],
   "source": [
    "'''sampler=ratings.sample(n=1)\n",
    "pid=sampler.iloc[0]['product_id']\n",
    "uid=sampler.iloc[0]['author_id']\n",
    "r_pu=sampler.iloc[0]['rating']'''"
   ]
  },
  {
   "cell_type": "code",
   "execution_count": 116,
   "metadata": {},
   "outputs": [],
   "source": [
    "#rating_pred=svd.predict(uid,pid,r_pu)"
   ]
  },
  {
   "cell_type": "code",
   "execution_count": 117,
   "metadata": {},
   "outputs": [],
   "source": [
    "#rating_pred"
   ]
  },
  {
   "cell_type": "markdown",
   "metadata": {},
   "source": [
    "Seems it works! Yeah!"
   ]
  },
  {
   "cell_type": "markdown",
   "metadata": {},
   "source": [
    "### Matrix factorization using TensorRec"
   ]
  },
  {
   "cell_type": "markdown",
   "metadata": {},
   "source": [
    "Now let's try another Matrix factorization method: TensorRec.\n",
    "\n",
    "TensorRec is a Python package for building recommender systems. A TensorRec recommender system consumes three pieces of input data: user features, item features, and interactions. Based on the user/item features, the system will predict which items to recommend. The interactions are used when fitting the model: predictions are compared to the interactions and a loss/penalty is calculated, which the system learns to decrease."
   ]
  },
  {
   "cell_type": "code",
   "execution_count": 118,
   "metadata": {},
   "outputs": [],
   "source": [
    "import tensorrec"
   ]
  },
  {
   "cell_type": "code",
   "execution_count": 119,
   "metadata": {},
   "outputs": [],
   "source": [
    "#Create internal index in order to create sparse matrices\n",
    "user_id_internal=range(n_users)\n",
    "prod_id_internal=range(n_items)\n",
    "user_id_dict=dict(zip(ratings['author_id'].unique().tolist(),user_id_internal))\n",
    "prod_id_dict=dict(zip(ratings['product_id'].unique().tolist(),prod_id_internal))"
   ]
  },
  {
   "cell_type": "code",
   "execution_count": 120,
   "metadata": {},
   "outputs": [],
   "source": [
    "ratings['user_id']=ratings['author_id'].map(user_id_dict)"
   ]
  },
  {
   "cell_type": "code",
   "execution_count": 121,
   "metadata": {},
   "outputs": [],
   "source": [
    "ratings['item_id']=ratings['product_id'].map(prod_id_dict)"
   ]
  },
  {
   "cell_type": "code",
   "execution_count": 122,
   "metadata": {},
   "outputs": [],
   "source": [
    "ratings.sample(frac=1).reset_index(drop=True)  # Shuffles the rows in-place\n",
    "cutoff = int(0.8 * len(ratings))\n",
    "train_ratings = ratings[:cutoff]\n",
    "test_ratings = ratings[cutoff:]"
   ]
  },
  {
   "cell_type": "code",
   "execution_count": 123,
   "metadata": {},
   "outputs": [],
   "source": [
    "from scipy import sparse\n",
    "def interactions_to_sparse_matrix(interactions):\n",
    "    return sparse.coo_matrix((interactions['rating'].values, (interactions['user_id'].values, interactions['item_id'].values)),\n",
    "                             shape=(n_users, n_items))\n",
    "\n",
    "# Create sparse matrices of interaction data\n",
    "sparse_train_ratings = interactions_to_sparse_matrix(train_ratings)\n",
    "sparse_test_ratings = interactions_to_sparse_matrix(test_ratings)"
   ]
  },
  {
   "cell_type": "code",
   "execution_count": 124,
   "metadata": {},
   "outputs": [],
   "source": [
    "# Create sets of train/test interactions that are only ratings 4 or 5\n",
    "sparse_train_ratings_4plus = sparse_train_ratings.multiply(sparse_train_ratings >= 4.0)\n",
    "sparse_test_ratings_4plus = sparse_test_ratings.multiply(sparse_test_ratings >= 4.0)"
   ]
  },
  {
   "cell_type": "markdown",
   "metadata": {},
   "source": [
    "Fit the model with a loss function: WMRB "
   ]
  },
  {
   "cell_type": "code",
   "execution_count": 125,
   "metadata": {},
   "outputs": [],
   "source": [
    "user_indicator_features = sparse.identity(n_users)\n",
    "item_indicator_features = sparse.identity(n_items)"
   ]
  },
  {
   "cell_type": "code",
   "execution_count": 126,
   "metadata": {
    "scrolled": true
   },
   "outputs": [],
   "source": [
    "def train_and_save_collaborative():\n",
    "    print(\"Training collaborative filter\")\n",
    "\n",
    "    ranking_cf_model = tensorrec.TensorRec(n_components=5)\n",
    "    ranking_cf_model.fit(interactions=sparse_train_ratings_4plus,\n",
    "                     user_features=user_indicator_features,\n",
    "                     item_features=item_indicator_features,\n",
    "                     n_sampled_items=int(n_items * .01))\n",
    "    # Save the trained model to disk\n",
    "    ranking_cf_model.save_model(\"trained_model_interaction\")\n",
    "    "
   ]
  },
  {
   "cell_type": "code",
   "execution_count": 127,
   "metadata": {},
   "outputs": [],
   "source": [
    "#train_and_save_collaborative()"
   ]
  },
  {
   "cell_type": "code",
   "execution_count": 128,
   "metadata": {},
   "outputs": [],
   "source": [
    "# Load trained model from disk\n",
    "#saved_model_interaction = tensorrec.TensorRec.load_model(\"trained_model_interaction\")"
   ]
  },
  {
   "cell_type": "markdown",
   "metadata": {},
   "source": [
    "Let's check the result using a metric called “recall at K.” Recall@K says, for the average user, what percentage of their test items made it in to the top K in the predicted rankings. In other words, if we get a recall@10 value of .06, then there is a 6% chance that a particular product I should like will make it in to my top 10 recommendations."
   ]
  },
  {
   "cell_type": "code",
   "execution_count": 129,
   "metadata": {},
   "outputs": [],
   "source": [
    "# This method consumes item ranks for each user and prints out recall@10 train/test metrics\n",
    "def check_results(ranks):\n",
    "    train_recall_at_10 = tensorrec.eval.recall_at_k(\n",
    "        test_interactions=sparse_train_ratings_4plus,\n",
    "        predicted_ranks=ranks,\n",
    "        k=10\n",
    "    ).mean()\n",
    "    test_recall_at_10 = tensorrec.eval.recall_at_k(\n",
    "        test_interactions=sparse_test_ratings_4plus,\n",
    "        predicted_ranks=ranks,\n",
    "        k=10\n",
    "    ).mean()\n",
    "    print(\"Recall at 10: Train: {:.4f} Test: {:.4f}\".format(train_recall_at_10,\n",
    "                                                            test_recall_at_10))"
   ]
  },
  {
   "cell_type": "code",
   "execution_count": 130,
   "metadata": {},
   "outputs": [],
   "source": [
    "#predicted_ranks_interaction = saved_model_interaction.predict_rank(user_features=user_indicator_features,item_features=item_indicator_features)\n",
    "#check_results(predicted_ranks_interaction)"
   ]
  },
  {
   "cell_type": "markdown",
   "metadata": {},
   "source": [
    "Looks pretty good! This means given any product that I would like, there's a 10% chance it will show up on my screen if the website suggests 7 products. Given the total number of products, I think this is not bad."
   ]
  },
  {
   "cell_type": "markdown",
   "metadata": {},
   "source": [
    "## Content based filtering\n",
    "\n",
    "One difference between the nature of a makeup product recommender on a shopping website and a movie recommender is that a lot of users only bought/rated a very small number of products, so the interaction history may not be very useful for generalization. Additionally, movie websites face frequent users, while a shopping website for makeup products could have a lot of new users as potential customers. To attract these users by providing matching recommendations based on minimal user input is key for business. \n",
    "\n",
    "Thus I will now try to make a new model intergrating detailed product features and user features, then build a final hybrid model combining collaborative and content based approaches."
   ]
  },
  {
   "cell_type": "markdown",
   "metadata": {},
   "source": [
    "First let's look at the metadata we have:"
   ]
  },
  {
   "cell_type": "code",
   "execution_count": 131,
   "metadata": {},
   "outputs": [
    {
     "data": {
      "text/html": [
       "<div>\n",
       "<style scoped>\n",
       "    .dataframe tbody tr th:only-of-type {\n",
       "        vertical-align: middle;\n",
       "    }\n",
       "\n",
       "    .dataframe tbody tr th {\n",
       "        vertical-align: top;\n",
       "    }\n",
       "\n",
       "    .dataframe thead th {\n",
       "        text-align: right;\n",
       "    }\n",
       "</style>\n",
       "<table border=\"1\" class=\"dataframe\">\n",
       "  <thead>\n",
       "    <tr style=\"text-align: right;\">\n",
       "      <th></th>\n",
       "      <th>product_id</th>\n",
       "      <th>category</th>\n",
       "      <th>name</th>\n",
       "      <th>brand</th>\n",
       "      <th>price</th>\n",
       "      <th>product_url</th>\n",
       "      <th>image_url</th>\n",
       "      <th>rating</th>\n",
       "      <th>reviews_count</th>\n",
       "      <th>loves_count</th>\n",
       "    </tr>\n",
       "  </thead>\n",
       "  <tbody>\n",
       "    <tr>\n",
       "      <th>1</th>\n",
       "      <td>P411833</td>\n",
       "      <td>eye</td>\n",
       "      <td>Blackest Black Eyeshadow Gold Rush</td>\n",
       "      <td>Natasha Denona</td>\n",
       "      <td>37.0</td>\n",
       "      <td>https://www.sephora.com/product/blackest-black...</td>\n",
       "      <td>https://www.sephora.com/productimages/sku/s187...</td>\n",
       "      <td>3.900</td>\n",
       "      <td>10</td>\n",
       "      <td>2319</td>\n",
       "    </tr>\n",
       "    <tr>\n",
       "      <th>2</th>\n",
       "      <td>P411302</td>\n",
       "      <td>eye</td>\n",
       "      <td>Precision Felt Eyeliner</td>\n",
       "      <td>Guerlain</td>\n",
       "      <td>49.0</td>\n",
       "      <td>https://www.sephora.com/product/precision-felt...</td>\n",
       "      <td>https://www.sephora.com/productimages/sku/s186...</td>\n",
       "      <td>3.750</td>\n",
       "      <td>8</td>\n",
       "      <td>795</td>\n",
       "    </tr>\n",
       "    <tr>\n",
       "      <th>13</th>\n",
       "      <td>P422622</td>\n",
       "      <td>eye</td>\n",
       "      <td>Essential Shadow Palette Luna</td>\n",
       "      <td>ILIA</td>\n",
       "      <td>53.0</td>\n",
       "      <td>https://www.sephora.com/product/essential-shad...</td>\n",
       "      <td>https://www.sephora.com/productimages/sku/s197...</td>\n",
       "      <td>4.500</td>\n",
       "      <td>4</td>\n",
       "      <td>1219</td>\n",
       "    </tr>\n",
       "    <tr>\n",
       "      <th>15</th>\n",
       "      <td>P393946</td>\n",
       "      <td>eye</td>\n",
       "      <td>Double Lines Eyeliner</td>\n",
       "      <td>Ciaté London</td>\n",
       "      <td>24.0</td>\n",
       "      <td>https://www.sephora.com/product/double-lines-P...</td>\n",
       "      <td>https://www.sephora.com/productimages/sku/s166...</td>\n",
       "      <td>2.975</td>\n",
       "      <td>40</td>\n",
       "      <td>1666</td>\n",
       "    </tr>\n",
       "    <tr>\n",
       "      <th>17</th>\n",
       "      <td>P419279</td>\n",
       "      <td>eye</td>\n",
       "      <td>High Standards Eyebrow Brush</td>\n",
       "      <td>Pretty Vulgar</td>\n",
       "      <td>24.5</td>\n",
       "      <td>https://www.sephora.com/product/high-standards...</td>\n",
       "      <td>https://www.sephora.com/productimages/sku/s194...</td>\n",
       "      <td>4.500</td>\n",
       "      <td>12</td>\n",
       "      <td>3383</td>\n",
       "    </tr>\n",
       "  </tbody>\n",
       "</table>\n",
       "</div>"
      ],
      "text/plain": [
       "   product_id category                                name           brand  \\\n",
       "1     P411833      eye  Blackest Black Eyeshadow Gold Rush  Natasha Denona   \n",
       "2     P411302      eye             Precision Felt Eyeliner        Guerlain   \n",
       "13    P422622      eye       Essential Shadow Palette Luna            ILIA   \n",
       "15    P393946      eye               Double Lines Eyeliner    Ciaté London   \n",
       "17    P419279      eye        High Standards Eyebrow Brush   Pretty Vulgar   \n",
       "\n",
       "    price                                        product_url  \\\n",
       "1    37.0  https://www.sephora.com/product/blackest-black...   \n",
       "2    49.0  https://www.sephora.com/product/precision-felt...   \n",
       "13   53.0  https://www.sephora.com/product/essential-shad...   \n",
       "15   24.0  https://www.sephora.com/product/double-lines-P...   \n",
       "17   24.5  https://www.sephora.com/product/high-standards...   \n",
       "\n",
       "                                            image_url  rating  reviews_count  \\\n",
       "1   https://www.sephora.com/productimages/sku/s187...   3.900             10   \n",
       "2   https://www.sephora.com/productimages/sku/s186...   3.750              8   \n",
       "13  https://www.sephora.com/productimages/sku/s197...   4.500              4   \n",
       "15  https://www.sephora.com/productimages/sku/s166...   2.975             40   \n",
       "17  https://www.sephora.com/productimages/sku/s194...   4.500             12   \n",
       "\n",
       "    loves_count  \n",
       "1          2319  \n",
       "2           795  \n",
       "13         1219  \n",
       "15         1666  \n",
       "17         3383  "
      ]
     },
     "execution_count": 131,
     "metadata": {},
     "output_type": "execute_result"
    }
   ],
   "source": [
    "prod.head()"
   ]
  },
  {
   "cell_type": "markdown",
   "metadata": {},
   "source": [
    "Brand, price and overall weighted score could serve as product features."
   ]
  },
  {
   "cell_type": "code",
   "execution_count": 132,
   "metadata": {},
   "outputs": [],
   "source": [
    "#map product feature to internal item id\n",
    "prod['item_id']=prod['product_id'].map(prod_id_dict)"
   ]
  },
  {
   "cell_type": "markdown",
   "metadata": {},
   "source": [
    "Now put brand feature to matrix"
   ]
  },
  {
   "cell_type": "code",
   "execution_count": 182,
   "metadata": {},
   "outputs": [],
   "source": [
    "# Transfer users features to sparse binary matrix\n",
    "def features_to_binary_matrix(input_values, index, ids):\n",
    "    value_by_id = pd.Series(input_values, index=index).to_dict()\n",
    "    values = [{value_by_id[id]} for id in ids]\n",
    "    mlb = MultiLabelBinarizer()\n",
    "    features = mlb.fit_transform(values)\n",
    "    print(mlb.classes_)\n",
    "    matrix = sparse.coo_matrix(features)\n",
    "    return matrix"
   ]
  },
  {
   "cell_type": "code",
   "execution_count": null,
   "metadata": {},
   "outputs": [],
   "source": [
    "print(\"Product brand classes: \")\n",
    "product_brand_features = features_to_binary_matrix(prod.brand.values,prod.item_id,prod_id_internal)"
   ]
  },
  {
   "cell_type": "markdown",
   "metadata": {},
   "source": [
    "Price feature is a little different, it makes more sense to price in bins and binarize them than use price as floats."
   ]
  },
  {
   "cell_type": "code",
   "execution_count": 136,
   "metadata": {},
   "outputs": [
    {
     "data": {
      "text/plain": [
       "2.0"
      ]
     },
     "execution_count": 136,
     "metadata": {},
     "output_type": "execute_result"
    }
   ],
   "source": [
    "minprice=min(prod['price'])\n",
    "minprice"
   ]
  },
  {
   "cell_type": "code",
   "execution_count": 137,
   "metadata": {},
   "outputs": [
    {
     "data": {
      "text/plain": [
       "526.0"
      ]
     },
     "execution_count": 137,
     "metadata": {},
     "output_type": "execute_result"
    }
   ],
   "source": [
    "maxprice=max(prod['price'])\n",
    "maxprice"
   ]
  },
  {
   "cell_type": "code",
   "execution_count": 138,
   "metadata": {},
   "outputs": [
    {
     "data": {
      "text/plain": [
       "<matplotlib.axes._subplots.AxesSubplot at 0x1f1b8b637b8>"
      ]
     },
     "execution_count": 138,
     "metadata": {},
     "output_type": "execute_result"
    },
    {
     "data": {
      "image/png": "[encoded data removed]",
      "text/plain": [
       "<Figure size 936x576 with 1 Axes>"
      ]
     },
     "metadata": {},
     "output_type": "display_data"
    }
   ],
   "source": [
    "sns.distplot(prod['price'])"
   ]
  },
  {
   "cell_type": "code",
   "execution_count": 139,
   "metadata": {},
   "outputs": [],
   "source": [
    "bins = [0, 10, 20, 30,50,75,100,150,200,300,400,550]\n",
    "labels = ['bin0-10','bin10-20','bin20-30','bin30-40','bin50-75','bin75-100','bin100-150','bin150-200','bin200-300','bin300-400','bin400-550']\n",
    "prod['binned_price'] = pd.cut(prod['price'], bins=bins, labels=labels)"
   ]
  },
  {
   "cell_type": "code",
   "execution_count": 140,
   "metadata": {},
   "outputs": [],
   "source": [
    "print(\"Product price bins classes: \")\n",
    "product_price_features = features_to_binary_matrix(prod.binned_price.values,prod.item_id,prod_id_internal)"
   ]
  },
  {
   "cell_type": "code",
   "execution_count": 141,
   "metadata": {},
   "outputs": [],
   "source": [
    "item_features=sparse.hstack([product_brand_features, product_price_features])"
   ]
  },
  {
   "cell_type": "code",
   "execution_count": 142,
   "metadata": {},
   "outputs": [],
   "source": [
    "def train_and_save_item_feature():\n",
    "    print(\"Training content-based filter with item features with WMRB loss\")\n",
    "\n",
    "    ranking_cf_model_item_feature = tensorrec.TensorRec(n_components=11,\n",
    "                                       loss_graph=tensorrec.loss_graphs.WMRBLossGraph())\n",
    "    ranking_cf_model_item_feature.fit(interactions=sparse_train_ratings_4plus,\n",
    "                     user_features=user_indicator_features,\n",
    "                     item_features=item_features,\n",
    "                     n_sampled_items=int(n_items * .01))\n",
    "    ranking_cf_model_item_feature.save_model(\"trained_model_item_feature\")"
   ]
  },
  {
   "cell_type": "code",
   "execution_count": 143,
   "metadata": {},
   "outputs": [],
   "source": [
    "#train_and_save_item_feature()"
   ]
  },
  {
   "cell_type": "code",
   "execution_count": 144,
   "metadata": {},
   "outputs": [],
   "source": [
    "#saved_model_item_feature = tensorrec.TensorRec.load_model(\"trained_model_item_feature\")"
   ]
  },
  {
   "cell_type": "code",
   "execution_count": 145,
   "metadata": {},
   "outputs": [],
   "source": [
    "#predicted_ranks_item_feature = saved_model_item_feature.predict_rank(user_features=user_indicator_features,item_features=item_features)\n",
    "#check_results(predicted_ranks_item_feature)"
   ]
  },
  {
   "cell_type": "markdown",
   "metadata": {},
   "source": [
    "Not as good as the previous one based on interactions. Probably it's better to combine interactions, item features and user features together. Now let's include user features first."
   ]
  },
  {
   "cell_type": "markdown",
   "metadata": {},
   "source": [
    "Let's have a look at the user features."
   ]
  },
  {
   "cell_type": "code",
   "execution_count": 146,
   "metadata": {},
   "outputs": [
    {
     "data": {
      "text/html": [
       "<div>\n",
       "<style scoped>\n",
       "    .dataframe tbody tr th:only-of-type {\n",
       "        vertical-align: middle;\n",
       "    }\n",
       "\n",
       "    .dataframe tbody tr th {\n",
       "        vertical-align: top;\n",
       "    }\n",
       "\n",
       "    .dataframe thead th {\n",
       "        text-align: right;\n",
       "    }\n",
       "</style>\n",
       "<table border=\"1\" class=\"dataframe\">\n",
       "  <thead>\n",
       "    <tr style=\"text-align: right;\">\n",
       "      <th></th>\n",
       "      <th>count</th>\n",
       "      <th>unique</th>\n",
       "      <th>top</th>\n",
       "      <th>freq</th>\n",
       "      <th>mean</th>\n",
       "      <th>std</th>\n",
       "      <th>min</th>\n",
       "      <th>25%</th>\n",
       "      <th>50%</th>\n",
       "      <th>75%</th>\n",
       "      <th>max</th>\n",
       "    </tr>\n",
       "  </thead>\n",
       "  <tbody>\n",
       "    <tr>\n",
       "      <th>product_id</th>\n",
       "      <td>323957</td>\n",
       "      <td>2410</td>\n",
       "      <td>P87985432</td>\n",
       "      <td>3878</td>\n",
       "      <td>NaN</td>\n",
       "      <td>NaN</td>\n",
       "      <td>NaN</td>\n",
       "      <td>NaN</td>\n",
       "      <td>NaN</td>\n",
       "      <td>NaN</td>\n",
       "      <td>NaN</td>\n",
       "    </tr>\n",
       "    <tr>\n",
       "      <th>product_name</th>\n",
       "      <td>323957</td>\n",
       "      <td>11461</td>\n",
       "      <td>Lip Gloss</td>\n",
       "      <td>300</td>\n",
       "      <td>NaN</td>\n",
       "      <td>NaN</td>\n",
       "      <td>NaN</td>\n",
       "      <td>NaN</td>\n",
       "      <td>NaN</td>\n",
       "      <td>NaN</td>\n",
       "      <td>NaN</td>\n",
       "    </tr>\n",
       "    <tr>\n",
       "      <th>product_url</th>\n",
       "      <td>323894</td>\n",
       "      <td>2447</td>\n",
       "      <td>https://www.sephora.com/product/pro-filtr-soft...</td>\n",
       "      <td>3878</td>\n",
       "      <td>NaN</td>\n",
       "      <td>NaN</td>\n",
       "      <td>NaN</td>\n",
       "      <td>NaN</td>\n",
       "      <td>NaN</td>\n",
       "      <td>NaN</td>\n",
       "      <td>NaN</td>\n",
       "    </tr>\n",
       "    <tr>\n",
       "      <th>user_nickname</th>\n",
       "      <td>321985</td>\n",
       "      <td>208534</td>\n",
       "      <td>Mochapj</td>\n",
       "      <td>108</td>\n",
       "      <td>NaN</td>\n",
       "      <td>NaN</td>\n",
       "      <td>NaN</td>\n",
       "      <td>NaN</td>\n",
       "      <td>NaN</td>\n",
       "      <td>NaN</td>\n",
       "      <td>NaN</td>\n",
       "    </tr>\n",
       "    <tr>\n",
       "      <th>author_id</th>\n",
       "      <td>323957</td>\n",
       "      <td>209895</td>\n",
       "      <td>1103792395</td>\n",
       "      <td>108</td>\n",
       "      <td>NaN</td>\n",
       "      <td>NaN</td>\n",
       "      <td>NaN</td>\n",
       "      <td>NaN</td>\n",
       "      <td>NaN</td>\n",
       "      <td>NaN</td>\n",
       "      <td>NaN</td>\n",
       "    </tr>\n",
       "    <tr>\n",
       "      <th>location</th>\n",
       "      <td>48530</td>\n",
       "      <td>10268</td>\n",
       "      <td>New York, NY</td>\n",
       "      <td>1501</td>\n",
       "      <td>NaN</td>\n",
       "      <td>NaN</td>\n",
       "      <td>NaN</td>\n",
       "      <td>NaN</td>\n",
       "      <td>NaN</td>\n",
       "      <td>NaN</td>\n",
       "      <td>NaN</td>\n",
       "    </tr>\n",
       "    <tr>\n",
       "      <th>eye_color</th>\n",
       "      <td>262973</td>\n",
       "      <td>5</td>\n",
       "      <td>Brown</td>\n",
       "      <td>139453</td>\n",
       "      <td>NaN</td>\n",
       "      <td>NaN</td>\n",
       "      <td>NaN</td>\n",
       "      <td>NaN</td>\n",
       "      <td>NaN</td>\n",
       "      <td>NaN</td>\n",
       "      <td>NaN</td>\n",
       "    </tr>\n",
       "    <tr>\n",
       "      <th>hair_color</th>\n",
       "      <td>223266</td>\n",
       "      <td>6</td>\n",
       "      <td>Brunette</td>\n",
       "      <td>107439</td>\n",
       "      <td>NaN</td>\n",
       "      <td>NaN</td>\n",
       "      <td>NaN</td>\n",
       "      <td>NaN</td>\n",
       "      <td>NaN</td>\n",
       "      <td>NaN</td>\n",
       "      <td>NaN</td>\n",
       "    </tr>\n",
       "    <tr>\n",
       "      <th>skin_tone</th>\n",
       "      <td>239441</td>\n",
       "      <td>4</td>\n",
       "      <td>Combination</td>\n",
       "      <td>124793</td>\n",
       "      <td>NaN</td>\n",
       "      <td>NaN</td>\n",
       "      <td>NaN</td>\n",
       "      <td>NaN</td>\n",
       "      <td>NaN</td>\n",
       "      <td>NaN</td>\n",
       "      <td>NaN</td>\n",
       "    </tr>\n",
       "    <tr>\n",
       "      <th>skin_type</th>\n",
       "      <td>239441</td>\n",
       "      <td>4</td>\n",
       "      <td>Combination</td>\n",
       "      <td>124793</td>\n",
       "      <td>NaN</td>\n",
       "      <td>NaN</td>\n",
       "      <td>NaN</td>\n",
       "      <td>NaN</td>\n",
       "      <td>NaN</td>\n",
       "      <td>NaN</td>\n",
       "      <td>NaN</td>\n",
       "    </tr>\n",
       "    <tr>\n",
       "      <th>age_range</th>\n",
       "      <td>78746</td>\n",
       "      <td>6</td>\n",
       "      <td>25-34</td>\n",
       "      <td>27710</td>\n",
       "      <td>NaN</td>\n",
       "      <td>NaN</td>\n",
       "      <td>NaN</td>\n",
       "      <td>NaN</td>\n",
       "      <td>NaN</td>\n",
       "      <td>NaN</td>\n",
       "      <td>NaN</td>\n",
       "    </tr>\n",
       "    <tr>\n",
       "      <th>rating</th>\n",
       "      <td>323957</td>\n",
       "      <td>NaN</td>\n",
       "      <td>NaN</td>\n",
       "      <td>NaN</td>\n",
       "      <td>4.18074</td>\n",
       "      <td>1.24519</td>\n",
       "      <td>1</td>\n",
       "      <td>4</td>\n",
       "      <td>5</td>\n",
       "      <td>5</td>\n",
       "      <td>5</td>\n",
       "    </tr>\n",
       "    <tr>\n",
       "      <th>review_title</th>\n",
       "      <td>236168</td>\n",
       "      <td>142323</td>\n",
       "      <td>Love it!</td>\n",
       "      <td>1654</td>\n",
       "      <td>NaN</td>\n",
       "      <td>NaN</td>\n",
       "      <td>NaN</td>\n",
       "      <td>NaN</td>\n",
       "      <td>NaN</td>\n",
       "      <td>NaN</td>\n",
       "      <td>NaN</td>\n",
       "    </tr>\n",
       "    <tr>\n",
       "      <th>review_text</th>\n",
       "      <td>323957</td>\n",
       "      <td>311266</td>\n",
       "      <td>#NAME?</td>\n",
       "      <td>27</td>\n",
       "      <td>NaN</td>\n",
       "      <td>NaN</td>\n",
       "      <td>NaN</td>\n",
       "      <td>NaN</td>\n",
       "      <td>NaN</td>\n",
       "      <td>NaN</td>\n",
       "      <td>NaN</td>\n",
       "    </tr>\n",
       "    <tr>\n",
       "      <th>is_recommended</th>\n",
       "      <td>323957</td>\n",
       "      <td>NaN</td>\n",
       "      <td>NaN</td>\n",
       "      <td>NaN</td>\n",
       "      <td>0.580762</td>\n",
       "      <td>0.493435</td>\n",
       "      <td>0</td>\n",
       "      <td>0</td>\n",
       "      <td>1</td>\n",
       "      <td>1</td>\n",
       "      <td>1</td>\n",
       "    </tr>\n",
       "    <tr>\n",
       "      <th>submission_time</th>\n",
       "      <td>323957</td>\n",
       "      <td>257788</td>\n",
       "      <td>2/11/2019 19:21</td>\n",
       "      <td>28</td>\n",
       "      <td>NaN</td>\n",
       "      <td>NaN</td>\n",
       "      <td>NaN</td>\n",
       "      <td>NaN</td>\n",
       "      <td>NaN</td>\n",
       "      <td>NaN</td>\n",
       "      <td>NaN</td>\n",
       "    </tr>\n",
       "    <tr>\n",
       "      <th>helpful_count</th>\n",
       "      <td>323957</td>\n",
       "      <td>NaN</td>\n",
       "      <td>NaN</td>\n",
       "      <td>NaN</td>\n",
       "      <td>3.54013</td>\n",
       "      <td>14.7294</td>\n",
       "      <td>0</td>\n",
       "      <td>0</td>\n",
       "      <td>0</td>\n",
       "      <td>3</td>\n",
       "      <td>3751</td>\n",
       "    </tr>\n",
       "    <tr>\n",
       "      <th>not_helpful_count</th>\n",
       "      <td>323957</td>\n",
       "      <td>NaN</td>\n",
       "      <td>NaN</td>\n",
       "      <td>NaN</td>\n",
       "      <td>0.496958</td>\n",
       "      <td>3.15793</td>\n",
       "      <td>0</td>\n",
       "      <td>0</td>\n",
       "      <td>0</td>\n",
       "      <td>0</td>\n",
       "      <td>750</td>\n",
       "    </tr>\n",
       "    <tr>\n",
       "      <th>helpfulness</th>\n",
       "      <td>151748</td>\n",
       "      <td>NaN</td>\n",
       "      <td>NaN</td>\n",
       "      <td>NaN</td>\n",
       "      <td>0.855159</td>\n",
       "      <td>0.269287</td>\n",
       "      <td>0</td>\n",
       "      <td>0.833333</td>\n",
       "      <td>1</td>\n",
       "      <td>1</td>\n",
       "      <td>1</td>\n",
       "    </tr>\n",
       "    <tr>\n",
       "      <th>user_id</th>\n",
       "      <td>323957</td>\n",
       "      <td>NaN</td>\n",
       "      <td>NaN</td>\n",
       "      <td>NaN</td>\n",
       "      <td>86937.1</td>\n",
       "      <td>61088.8</td>\n",
       "      <td>0</td>\n",
       "      <td>32228</td>\n",
       "      <td>78460</td>\n",
       "      <td>136894</td>\n",
       "      <td>209894</td>\n",
       "    </tr>\n",
       "    <tr>\n",
       "      <th>item_id</th>\n",
       "      <td>323957</td>\n",
       "      <td>NaN</td>\n",
       "      <td>NaN</td>\n",
       "      <td>NaN</td>\n",
       "      <td>779.713</td>\n",
       "      <td>666.849</td>\n",
       "      <td>0</td>\n",
       "      <td>242</td>\n",
       "      <td>548</td>\n",
       "      <td>1227</td>\n",
       "      <td>2409</td>\n",
       "    </tr>\n",
       "  </tbody>\n",
       "</table>\n",
       "</div>"
      ],
      "text/plain": [
       "                    count  unique  \\\n",
       "product_id         323957    2410   \n",
       "product_name       323957   11461   \n",
       "product_url        323894    2447   \n",
       "user_nickname      321985  208534   \n",
       "author_id          323957  209895   \n",
       "location            48530   10268   \n",
       "eye_color          262973       5   \n",
       "hair_color         223266       6   \n",
       "skin_tone          239441       4   \n",
       "skin_type          239441       4   \n",
       "age_range           78746       6   \n",
       "rating             323957     NaN   \n",
       "review_title       236168  142323   \n",
       "review_text        323957  311266   \n",
       "is_recommended     323957     NaN   \n",
       "submission_time    323957  257788   \n",
       "helpful_count      323957     NaN   \n",
       "not_helpful_count  323957     NaN   \n",
       "helpfulness        151748     NaN   \n",
       "user_id            323957     NaN   \n",
       "item_id            323957     NaN   \n",
       "\n",
       "                                                                 top    freq  \\\n",
       "product_id                                                 P87985432    3878   \n",
       "product_name                                               Lip Gloss     300   \n",
       "product_url        https://www.sephora.com/product/pro-filtr-soft...    3878   \n",
       "user_nickname                                                Mochapj     108   \n",
       "author_id                                                 1103792395     108   \n",
       "location                                                New York, NY    1501   \n",
       "eye_color                                                      Brown  139453   \n",
       "hair_color                                                  Brunette  107439   \n",
       "skin_tone                                                Combination  124793   \n",
       "skin_type                                                Combination  124793   \n",
       "age_range                                                      25-34   27710   \n",
       "rating                                                           NaN     NaN   \n",
       "review_title                                                Love it!    1654   \n",
       "review_text                                                   #NAME?      27   \n",
       "is_recommended                                                   NaN     NaN   \n",
       "submission_time                                      2/11/2019 19:21      28   \n",
       "helpful_count                                                    NaN     NaN   \n",
       "not_helpful_count                                                NaN     NaN   \n",
       "helpfulness                                                      NaN     NaN   \n",
       "user_id                                                          NaN     NaN   \n",
       "item_id                                                          NaN     NaN   \n",
       "\n",
       "                       mean       std  min       25%    50%     75%     max  \n",
       "product_id              NaN       NaN  NaN       NaN    NaN     NaN     NaN  \n",
       "product_name            NaN       NaN  NaN       NaN    NaN     NaN     NaN  \n",
       "product_url             NaN       NaN  NaN       NaN    NaN     NaN     NaN  \n",
       "user_nickname           NaN       NaN  NaN       NaN    NaN     NaN     NaN  \n",
       "author_id               NaN       NaN  NaN       NaN    NaN     NaN     NaN  \n",
       "location                NaN       NaN  NaN       NaN    NaN     NaN     NaN  \n",
       "eye_color               NaN       NaN  NaN       NaN    NaN     NaN     NaN  \n",
       "hair_color              NaN       NaN  NaN       NaN    NaN     NaN     NaN  \n",
       "skin_tone               NaN       NaN  NaN       NaN    NaN     NaN     NaN  \n",
       "skin_type               NaN       NaN  NaN       NaN    NaN     NaN     NaN  \n",
       "age_range               NaN       NaN  NaN       NaN    NaN     NaN     NaN  \n",
       "rating              4.18074   1.24519    1         4      5       5       5  \n",
       "review_title            NaN       NaN  NaN       NaN    NaN     NaN     NaN  \n",
       "review_text             NaN       NaN  NaN       NaN    NaN     NaN     NaN  \n",
       "is_recommended     0.580762  0.493435    0         0      1       1       1  \n",
       "submission_time         NaN       NaN  NaN       NaN    NaN     NaN     NaN  \n",
       "helpful_count       3.54013   14.7294    0         0      0       3    3751  \n",
       "not_helpful_count  0.496958   3.15793    0         0      0       0     750  \n",
       "helpfulness        0.855159  0.269287    0  0.833333      1       1       1  \n",
       "user_id             86937.1   61088.8    0     32228  78460  136894  209894  \n",
       "item_id             779.713   666.849    0       242    548    1227    2409  "
      ]
     },
     "execution_count": 146,
     "metadata": {},
     "output_type": "execute_result"
    }
   ],
   "source": [
    "ratings.describe(include='all').T"
   ]
  },
  {
   "cell_type": "code",
   "execution_count": 147,
   "metadata": {},
   "outputs": [
    {
     "name": "stdout",
     "output_type": "stream",
     "text": [
      "<class 'pandas.core.frame.DataFrame'>\n",
      "Int64Index: 323957 entries, 0 to 324110\n",
      "Data columns (total 21 columns):\n",
      "product_id           323957 non-null object\n",
      "product_name         323957 non-null object\n",
      "product_url          323894 non-null object\n",
      "user_nickname        321985 non-null object\n",
      "author_id            323957 non-null object\n",
      "location             48530 non-null object\n",
      "eye_color            262973 non-null object\n",
      "hair_color           223266 non-null object\n",
      "skin_tone            239441 non-null object\n",
      "skin_type            239441 non-null object\n",
      "age_range            78746 non-null object\n",
      "rating               323957 non-null int64\n",
      "review_title         236168 non-null object\n",
      "review_text          323957 non-null object\n",
      "is_recommended       323957 non-null int64\n",
      "submission_time      323957 non-null object\n",
      "helpful_count        323957 non-null int64\n",
      "not_helpful_count    323957 non-null int64\n",
      "helpfulness          151748 non-null float64\n",
      "user_id              323957 non-null int64\n",
      "item_id              323957 non-null int64\n",
      "dtypes: float64(1), int64(6), object(14)\n",
      "memory usage: 54.4+ MB\n"
     ]
    }
   ],
   "source": [
    "ratings.info()"
   ]
  },
  {
   "cell_type": "code",
   "execution_count": 148,
   "metadata": {},
   "outputs": [],
   "source": [
    "ratings=ratings.fillna('missing')"
   ]
  },
  {
   "cell_type": "markdown",
   "metadata": {},
   "source": [
    "We have five columns of user features: eye_color, hair_color, skin_tone, skin_type and age_range. Let's put them all in matrix. "
   ]
  },
  {
   "cell_type": "code",
   "execution_count": 183,
   "metadata": {},
   "outputs": [
    {
     "name": "stdout",
     "output_type": "stream",
     "text": [
      "Eye color matrix classes:\n",
      "['Blue' 'Brown' 'Gray' 'Green' 'Hazel' 'missing']\n"
     ]
    }
   ],
   "source": [
    "print(\"Eye color matrix classes:\")\n",
    "user_eyecolor_features = features_to_binary_matrix(ratings.eye_color.values, ratings.user_id, user_id_internal)"
   ]
  },
  {
   "cell_type": "code",
   "execution_count": 57,
   "metadata": {},
   "outputs": [],
   "source": [
    "print(\"Hair color matrix classes:\")\n",
    "user_haircolor_features = features_to_binary_matrix(ratings.hair_color.values, ratings.user_id, user_id_internal)"
   ]
  },
  {
   "cell_type": "code",
   "execution_count": 58,
   "metadata": {},
   "outputs": [],
   "source": [
    "print(\"Skin tone matrix classes:\")\n",
    "user_skintone_features = features_to_binary_matrix(ratings.skin_tone.values, ratings.user_id, user_id_internal)"
   ]
  },
  {
   "cell_type": "code",
   "execution_count": 59,
   "metadata": {},
   "outputs": [],
   "source": [
    "print(\"Skin type matrix classes:\")\n",
    "user_skintype_features = features_to_binary_matrix(ratings.skin_type.values, ratings.user_id, user_id_internal)"
   ]
  },
  {
   "cell_type": "code",
   "execution_count": 60,
   "metadata": {},
   "outputs": [],
   "source": [
    "print(\"Age range matrix classes:\")\n",
    "user_agerange_features = features_to_binary_matrix(ratings.age_range.values, ratings.user_id, user_id_internal)"
   ]
  },
  {
   "cell_type": "code",
   "execution_count": 61,
   "metadata": {},
   "outputs": [
    {
     "name": "stdout",
     "output_type": "stream",
     "text": [
      "User features combined\n"
     ]
    }
   ],
   "source": [
    "user_features=sparse.hstack([user_eyecolor_features, user_haircolor_features,user_skintone_features,user_skintype_features,user_agerange_features])\n",
    "print('User features combined')"
   ]
  },
  {
   "cell_type": "code",
   "execution_count": 62,
   "metadata": {},
   "outputs": [],
   "source": [
    "def train_and_save_item_and_user_feature():\n",
    "    print(\"Training content-based filter with item features\")\n",
    "\n",
    "    ranking_cf_model_item_and_user_feature = tensorrec.TensorRec(n_components=5)\n",
    "    ranking_cf_model_item_and_user_feature.fit(interactions=sparse_train_ratings_4plus,\n",
    "                     user_features=user_features,\n",
    "                     item_features=item_features,\n",
    "                     n_sampled_items=int(n_items * .01))\n",
    "    print('Fitting completed')\n",
    "    ranking_cf_model_item_and_user_feature.save_model(\"trained_model_item_and_user_feature\")"
   ]
  },
  {
   "cell_type": "code",
   "execution_count": 63,
   "metadata": {},
   "outputs": [],
   "source": [
    "#train_and_save_item_and_user_feature()"
   ]
  },
  {
   "cell_type": "code",
   "execution_count": 64,
   "metadata": {},
   "outputs": [],
   "source": [
    "#saved_model_item_and_user_feature = tensorrec.TensorRec.load_model(\"trained_model_item_and_user_feature\")"
   ]
  },
  {
   "cell_type": "code",
   "execution_count": 65,
   "metadata": {},
   "outputs": [],
   "source": [
    "#print('Predicting results for test set...')\n",
    "#predicted_ranks_item_and_user_feature = saved_model_item_and_user_feature.predict_rank(user_features=user_features,item_features=item_features)\n",
    "#check_results(predicted_ranks_item_and_user_feature)"
   ]
  },
  {
   "cell_type": "markdown",
   "metadata": {},
   "source": [
    "## Hybrid model combining user features, item features and interactions"
   ]
  },
  {
   "cell_type": "code",
   "execution_count": 66,
   "metadata": {},
   "outputs": [],
   "source": [
    "full_item_features = sparse.hstack([item_indicator_features, item_features])\n",
    "full_user_features = sparse.hstack([user_indicator_features, user_features])"
   ]
  },
  {
   "cell_type": "code",
   "execution_count": 67,
   "metadata": {},
   "outputs": [],
   "source": [
    "def train_and_save_hybrid():\n",
    "    print(\"Training hybrid model\")\n",
    "\n",
    "    ranking_cf_model_hybrid = tensorrec.TensorRec(n_components=5)\n",
    "    ranking_cf_model_hybrid.fit(interactions=sparse_train_ratings_4plus,\n",
    "                     user_features=full_user_features,\n",
    "                     item_features=full_item_features,\n",
    "                     n_sampled_items=int(n_items * .01))\n",
    "    print('Fitting completed')\n",
    "    ranking_cf_model_hybrid.save_model(\"trained_model_hybrid\")"
   ]
  },
  {
   "cell_type": "code",
   "execution_count": 68,
   "metadata": {},
   "outputs": [],
   "source": [
    "#train_and_save_hybrid()"
   ]
  },
  {
   "cell_type": "code",
   "execution_count": 72,
   "metadata": {},
   "outputs": [],
   "source": [
    "saved_model_hybrid= tensorrec.TensorRec.load_model(\"trained_model_hybrid\")"
   ]
  },
  {
   "cell_type": "code",
   "execution_count": 70,
   "metadata": {},
   "outputs": [
    {
     "name": "stdout",
     "output_type": "stream",
     "text": [
      "Predicting results for test set...\n"
     ]
    }
   ],
   "source": [
    "print('Predicting results for test set...')\n",
    "#predicted_ranks_hybrid = saved_model_hybrid.predict_rank(user_features=full_user_features,item_features=full_item_features)\n",
    "#check_results(predicted_ranks_hybrid)"
   ]
  },
  {
   "cell_type": "markdown",
   "metadata": {},
   "source": [
    "This looks better than just content based, and similar to just collaborative filtering, indicating that in this specific dataset or scenario, interaction is a better predictor or the user/item feature are not sufficient to make accurate recommendations. Maybe it will be better if I incorporate product details and overall rating scores? \n",
    "Such result does discourage me from making a recommender for potential customers based on user feature input, because the prediction relies on user/item interaction history too much. But I'll try."
   ]
  },
  {
   "cell_type": "markdown",
   "metadata": {},
   "source": [
    "## Make recommendations to an existing user"
   ]
  },
  {
   "cell_type": "markdown",
   "metadata": {},
   "source": [
    "Now let's pick a random customer and recommend 10 products to her(or him)."
   ]
  },
  {
   "cell_type": "code",
   "execution_count": 93,
   "metadata": {
    "scrolled": true
   },
   "outputs": [],
   "source": [
    "tester=ratings.sample(n=1)\n",
    "t_id=tester['user_id']\n",
    "tester_features = sparse.csr_matrix(full_user_features)[t_id]\n",
    "tester_rankings = saved_model_hybrid.predict_rank(user_features=tester_features,\n",
    "                                          item_features=full_item_features)[0]\n",
    "\n",
    "tester_top_ten_recs = np.where(tester_rankings <= 10)[0]"
   ]
  },
  {
   "cell_type": "code",
   "execution_count": 85,
   "metadata": {},
   "outputs": [
    {
     "ename": "KeyError",
     "evalue": "'item_id'",
     "output_type": "error",
     "traceback": [
      "\u001b[1;31m---------------------------------------------------------------------------\u001b[0m",
      "\u001b[1;31mKeyError\u001b[0m                                  Traceback (most recent call last)",
      "\u001b[1;32mC:\\ProgramData\\Anaconda3\\lib\\site-packages\\pandas\\core\\indexes\\base.py\u001b[0m in \u001b[0;36mget_loc\u001b[1;34m(self, key, method, tolerance)\u001b[0m\n\u001b[0;32m   2656\u001b[0m             \u001b[1;32mtry\u001b[0m\u001b[1;33m:\u001b[0m\u001b[1;33m\u001b[0m\u001b[1;33m\u001b[0m\u001b[0m\n\u001b[1;32m-> 2657\u001b[1;33m                 \u001b[1;32mreturn\u001b[0m \u001b[0mself\u001b[0m\u001b[1;33m.\u001b[0m\u001b[0m_engine\u001b[0m\u001b[1;33m.\u001b[0m\u001b[0mget_loc\u001b[0m\u001b[1;33m(\u001b[0m\u001b[0mkey\u001b[0m\u001b[1;33m)\u001b[0m\u001b[1;33m\u001b[0m\u001b[1;33m\u001b[0m\u001b[0m\n\u001b[0m\u001b[0;32m   2658\u001b[0m             \u001b[1;32mexcept\u001b[0m \u001b[0mKeyError\u001b[0m\u001b[1;33m:\u001b[0m\u001b[1;33m\u001b[0m\u001b[1;33m\u001b[0m\u001b[0m\n",
      "\u001b[1;32mpandas/_libs/index.pyx\u001b[0m in \u001b[0;36mpandas._libs.index.IndexEngine.get_loc\u001b[1;34m()\u001b[0m\n",
      "\u001b[1;32mpandas/_libs/index.pyx\u001b[0m in \u001b[0;36mpandas._libs.index.IndexEngine.get_loc\u001b[1;34m()\u001b[0m\n",
      "\u001b[1;32mpandas/_libs/hashtable_class_helper.pxi\u001b[0m in \u001b[0;36mpandas._libs.hashtable.PyObjectHashTable.get_item\u001b[1;34m()\u001b[0m\n",
      "\u001b[1;32mpandas/_libs/hashtable_class_helper.pxi\u001b[0m in \u001b[0;36mpandas._libs.hashtable.PyObjectHashTable.get_item\u001b[1;34m()\u001b[0m\n",
      "\u001b[1;31mKeyError\u001b[0m: 'item_id'",
      "\nDuring handling of the above exception, another exception occurred:\n",
      "\u001b[1;31mKeyError\u001b[0m                                  Traceback (most recent call last)",
      "\u001b[1;32m<ipython-input-85-6357d88769ed>\u001b[0m in \u001b[0;36m<module>\u001b[1;34m\u001b[0m\n\u001b[1;32m----> 1\u001b[1;33m \u001b[0mprod\u001b[0m\u001b[1;33m=\u001b[0m\u001b[0mprod\u001b[0m\u001b[1;33m.\u001b[0m\u001b[0mset_index\u001b[0m\u001b[1;33m(\u001b[0m\u001b[1;34m'item_id'\u001b[0m\u001b[1;33m)\u001b[0m\u001b[1;33m\u001b[0m\u001b[1;33m\u001b[0m\u001b[0m\n\u001b[0m",
      "\u001b[1;32mC:\\ProgramData\\Anaconda3\\lib\\site-packages\\pandas\\core\\frame.py\u001b[0m in \u001b[0;36mset_index\u001b[1;34m(self, keys, drop, append, inplace, verify_integrity)\u001b[0m\n\u001b[0;32m   4176\u001b[0m                 \u001b[0mnames\u001b[0m\u001b[1;33m.\u001b[0m\u001b[0mappend\u001b[0m\u001b[1;33m(\u001b[0m\u001b[1;32mNone\u001b[0m\u001b[1;33m)\u001b[0m\u001b[1;33m\u001b[0m\u001b[1;33m\u001b[0m\u001b[0m\n\u001b[0;32m   4177\u001b[0m             \u001b[1;32melse\u001b[0m\u001b[1;33m:\u001b[0m\u001b[1;33m\u001b[0m\u001b[1;33m\u001b[0m\u001b[0m\n\u001b[1;32m-> 4178\u001b[1;33m                 \u001b[0mlevel\u001b[0m \u001b[1;33m=\u001b[0m \u001b[0mframe\u001b[0m\u001b[1;33m[\u001b[0m\u001b[0mcol\u001b[0m\u001b[1;33m]\u001b[0m\u001b[1;33m.\u001b[0m\u001b[0m_values\u001b[0m\u001b[1;33m\u001b[0m\u001b[1;33m\u001b[0m\u001b[0m\n\u001b[0m\u001b[0;32m   4179\u001b[0m                 \u001b[0mnames\u001b[0m\u001b[1;33m.\u001b[0m\u001b[0mappend\u001b[0m\u001b[1;33m(\u001b[0m\u001b[0mcol\u001b[0m\u001b[1;33m)\u001b[0m\u001b[1;33m\u001b[0m\u001b[1;33m\u001b[0m\u001b[0m\n\u001b[0;32m   4180\u001b[0m                 \u001b[1;32mif\u001b[0m \u001b[0mdrop\u001b[0m\u001b[1;33m:\u001b[0m\u001b[1;33m\u001b[0m\u001b[1;33m\u001b[0m\u001b[0m\n",
      "\u001b[1;32mC:\\ProgramData\\Anaconda3\\lib\\site-packages\\pandas\\core\\frame.py\u001b[0m in \u001b[0;36m__getitem__\u001b[1;34m(self, key)\u001b[0m\n\u001b[0;32m   2925\u001b[0m             \u001b[1;32mif\u001b[0m \u001b[0mself\u001b[0m\u001b[1;33m.\u001b[0m\u001b[0mcolumns\u001b[0m\u001b[1;33m.\u001b[0m\u001b[0mnlevels\u001b[0m \u001b[1;33m>\u001b[0m \u001b[1;36m1\u001b[0m\u001b[1;33m:\u001b[0m\u001b[1;33m\u001b[0m\u001b[1;33m\u001b[0m\u001b[0m\n\u001b[0;32m   2926\u001b[0m                 \u001b[1;32mreturn\u001b[0m \u001b[0mself\u001b[0m\u001b[1;33m.\u001b[0m\u001b[0m_getitem_multilevel\u001b[0m\u001b[1;33m(\u001b[0m\u001b[0mkey\u001b[0m\u001b[1;33m)\u001b[0m\u001b[1;33m\u001b[0m\u001b[1;33m\u001b[0m\u001b[0m\n\u001b[1;32m-> 2927\u001b[1;33m             \u001b[0mindexer\u001b[0m \u001b[1;33m=\u001b[0m \u001b[0mself\u001b[0m\u001b[1;33m.\u001b[0m\u001b[0mcolumns\u001b[0m\u001b[1;33m.\u001b[0m\u001b[0mget_loc\u001b[0m\u001b[1;33m(\u001b[0m\u001b[0mkey\u001b[0m\u001b[1;33m)\u001b[0m\u001b[1;33m\u001b[0m\u001b[1;33m\u001b[0m\u001b[0m\n\u001b[0m\u001b[0;32m   2928\u001b[0m             \u001b[1;32mif\u001b[0m \u001b[0mis_integer\u001b[0m\u001b[1;33m(\u001b[0m\u001b[0mindexer\u001b[0m\u001b[1;33m)\u001b[0m\u001b[1;33m:\u001b[0m\u001b[1;33m\u001b[0m\u001b[1;33m\u001b[0m\u001b[0m\n\u001b[0;32m   2929\u001b[0m                 \u001b[0mindexer\u001b[0m \u001b[1;33m=\u001b[0m \u001b[1;33m[\u001b[0m\u001b[0mindexer\u001b[0m\u001b[1;33m]\u001b[0m\u001b[1;33m\u001b[0m\u001b[1;33m\u001b[0m\u001b[0m\n",
      "\u001b[1;32mC:\\ProgramData\\Anaconda3\\lib\\site-packages\\pandas\\core\\indexes\\base.py\u001b[0m in \u001b[0;36mget_loc\u001b[1;34m(self, key, method, tolerance)\u001b[0m\n\u001b[0;32m   2657\u001b[0m                 \u001b[1;32mreturn\u001b[0m \u001b[0mself\u001b[0m\u001b[1;33m.\u001b[0m\u001b[0m_engine\u001b[0m\u001b[1;33m.\u001b[0m\u001b[0mget_loc\u001b[0m\u001b[1;33m(\u001b[0m\u001b[0mkey\u001b[0m\u001b[1;33m)\u001b[0m\u001b[1;33m\u001b[0m\u001b[1;33m\u001b[0m\u001b[0m\n\u001b[0;32m   2658\u001b[0m             \u001b[1;32mexcept\u001b[0m \u001b[0mKeyError\u001b[0m\u001b[1;33m:\u001b[0m\u001b[1;33m\u001b[0m\u001b[1;33m\u001b[0m\u001b[0m\n\u001b[1;32m-> 2659\u001b[1;33m                 \u001b[1;32mreturn\u001b[0m \u001b[0mself\u001b[0m\u001b[1;33m.\u001b[0m\u001b[0m_engine\u001b[0m\u001b[1;33m.\u001b[0m\u001b[0mget_loc\u001b[0m\u001b[1;33m(\u001b[0m\u001b[0mself\u001b[0m\u001b[1;33m.\u001b[0m\u001b[0m_maybe_cast_indexer\u001b[0m\u001b[1;33m(\u001b[0m\u001b[0mkey\u001b[0m\u001b[1;33m)\u001b[0m\u001b[1;33m)\u001b[0m\u001b[1;33m\u001b[0m\u001b[1;33m\u001b[0m\u001b[0m\n\u001b[0m\u001b[0;32m   2660\u001b[0m         \u001b[0mindexer\u001b[0m \u001b[1;33m=\u001b[0m \u001b[0mself\u001b[0m\u001b[1;33m.\u001b[0m\u001b[0mget_indexer\u001b[0m\u001b[1;33m(\u001b[0m\u001b[1;33m[\u001b[0m\u001b[0mkey\u001b[0m\u001b[1;33m]\u001b[0m\u001b[1;33m,\u001b[0m \u001b[0mmethod\u001b[0m\u001b[1;33m=\u001b[0m\u001b[0mmethod\u001b[0m\u001b[1;33m,\u001b[0m \u001b[0mtolerance\u001b[0m\u001b[1;33m=\u001b[0m\u001b[0mtolerance\u001b[0m\u001b[1;33m)\u001b[0m\u001b[1;33m\u001b[0m\u001b[1;33m\u001b[0m\u001b[0m\n\u001b[0;32m   2661\u001b[0m         \u001b[1;32mif\u001b[0m \u001b[0mindexer\u001b[0m\u001b[1;33m.\u001b[0m\u001b[0mndim\u001b[0m \u001b[1;33m>\u001b[0m \u001b[1;36m1\u001b[0m \u001b[1;32mor\u001b[0m \u001b[0mindexer\u001b[0m\u001b[1;33m.\u001b[0m\u001b[0msize\u001b[0m \u001b[1;33m>\u001b[0m \u001b[1;36m1\u001b[0m\u001b[1;33m:\u001b[0m\u001b[1;33m\u001b[0m\u001b[1;33m\u001b[0m\u001b[0m\n",
      "\u001b[1;32mpandas/_libs/index.pyx\u001b[0m in \u001b[0;36mpandas._libs.index.IndexEngine.get_loc\u001b[1;34m()\u001b[0m\n",
      "\u001b[1;32mpandas/_libs/index.pyx\u001b[0m in \u001b[0;36mpandas._libs.index.IndexEngine.get_loc\u001b[1;34m()\u001b[0m\n",
      "\u001b[1;32mpandas/_libs/hashtable_class_helper.pxi\u001b[0m in \u001b[0;36mpandas._libs.hashtable.PyObjectHashTable.get_item\u001b[1;34m()\u001b[0m\n",
      "\u001b[1;32mpandas/_libs/hashtable_class_helper.pxi\u001b[0m in \u001b[0;36mpandas._libs.hashtable.PyObjectHashTable.get_item\u001b[1;34m()\u001b[0m\n",
      "\u001b[1;31mKeyError\u001b[0m: 'item_id'"
     ]
    }
   ],
   "source": [
    "prod=prod.set_index('item_id')"
   ]
  },
  {
   "cell_type": "code",
   "execution_count": 86,
   "metadata": {
    "scrolled": false
   },
   "outputs": [
    {
     "name": "stdout",
     "output_type": "stream",
     "text": [
      "Tester recommendations:\n",
      "Brand:  Yves Saint Laurent | Name:  Rouge Pur Couture The Slim Matte Lipstick | Price: $ 45.0\n",
      "Product URL:  https://www.sephora.com/product/rouge-pur-couture-matte-slim-lipstick-P436506\n"
     ]
    },
    {
     "data": {
      "text/html": [
       "<img src=\"https://www.sephora.com/productimages/sku/s2129922-main-grid.jpg\"/>"
      ],
      "text/plain": [
       "<IPython.core.display.Image object>"
      ]
     },
     "metadata": {},
     "output_type": "display_data"
    },
    {
     "name": "stdout",
     "output_type": "stream",
     "text": [
      "Brand:  Buxom | Name:  Full-On™ Plumping Lip Polish Gloss | Price: $ 24.0\n",
      "Product URL:  https://www.sephora.com/product/buxom-full-on-lip-polish-P174213\n"
     ]
    },
    {
     "data": {
      "text/html": [
       "<img src=\"https://www.sephora.com/productimages/sku/s980995-main-grid.jpg\"/>"
      ],
      "text/plain": [
       "<IPython.core.display.Image object>"
      ]
     },
     "metadata": {},
     "output_type": "display_data"
    },
    {
     "name": "stdout",
     "output_type": "stream",
     "text": [
      "Brand:  Bite Beauty | Name:  Matte Crème Lip Crayon | Price: $ 17.0\n",
      "Product URL:  https://www.sephora.com/product/matte-creme-lip-crayon-P387705\n"
     ]
    },
    {
     "data": {
      "text/html": [
       "<img src=\"https://www.sephora.com/productimages/sku/s1778794-main-grid.jpg\"/>"
      ],
      "text/plain": [
       "<IPython.core.display.Image object>"
      ]
     },
     "metadata": {},
     "output_type": "display_data"
    },
    {
     "name": "stdout",
     "output_type": "stream",
     "text": [
      "Brand:  Lancôme | Name:  L'Absolu Lacquer | Price: $ 34.0\n",
      "Product URL:  https://www.sephora.com/product/l-absolu-lacquer-P431511\n"
     ]
    },
    {
     "data": {
      "text/html": [
       "<img src=\"https://www.sephora.com/productimages/sku/s2067544-main-grid.jpg\"/>"
      ],
      "text/plain": [
       "<IPython.core.display.Image object>"
      ]
     },
     "metadata": {},
     "output_type": "display_data"
    },
    {
     "name": "stdout",
     "output_type": "stream",
     "text": [
      "Brand:  Buxom | Name:  Wanderlust Primer-Infused Blush | Price: $ 27.0\n",
      "Product URL:  https://www.sephora.com/product/wanderlust-primer-infused-blush-P440021\n"
     ]
    },
    {
     "data": {
      "text/html": [
       "<img src=\"https://www.sephora.com/productimages/sku/s2177160-main-grid.jpg\"/>"
      ],
      "text/plain": [
       "<IPython.core.display.Image object>"
      ]
     },
     "metadata": {},
     "output_type": "display_data"
    },
    {
     "name": "stdout",
     "output_type": "stream",
     "text": [
      "Brand:  Natasha Denona | Name:  Mini Diamond & Glow Cheek Duo | Price: $ 23.0\n",
      "Product URL:  https://www.sephora.com/product/mini-diamond-glow-P440314\n"
     ]
    },
    {
     "data": {
      "text/html": [
       "<img src=\"https://www.sephora.com/productimages/sku/s2180982-main-grid.jpg\"/>"
      ],
      "text/plain": [
       "<IPython.core.display.Image object>"
      ]
     },
     "metadata": {},
     "output_type": "display_data"
    },
    {
     "name": "stdout",
     "output_type": "stream",
     "text": [
      "Brand:  CLINIQUE | Name:  Take The Day Off Cleansing Balm | Price: $ 15.0\n",
      "Product URL:  https://www.sephora.com/product/take-the-day-off-cleansing-balm-P126301\n"
     ]
    },
    {
     "data": {
      "text/html": [
       "<img src=\"https://www.sephora.com/productimages/sku/s886267-main-grid.jpg\"/>"
      ],
      "text/plain": [
       "<IPython.core.display.Image object>"
      ]
     },
     "metadata": {},
     "output_type": "display_data"
    },
    {
     "name": "stdout",
     "output_type": "stream",
     "text": [
      "Brand:  COVER FX | Name:  Power Play Concealer | Price: $ 36.0\n",
      "Product URL:  https://www.sephora.com/product/power-play-concealer-P433833\n"
     ]
    },
    {
     "data": {
      "text/html": [
       "<img src=\"https://www.sephora.com/productimages/sku/s2103596-main-grid.jpg\"/>"
      ],
      "text/plain": [
       "<IPython.core.display.Image object>"
      ]
     },
     "metadata": {},
     "output_type": "display_data"
    },
    {
     "name": "stdout",
     "output_type": "stream",
     "text": [
      "Brand:  Benefit Cosmetics | Name:  Boi-ing Hydrating Concealer | Price: $ 30.0\n",
      "Product URL:  https://www.sephora.com/product/boi-ing-hydrating-concealer-P419715\n"
     ]
    },
    {
     "data": {
      "text/html": [
       "<img src=\"https://www.sephora.com/productimages/sku/s2086809-main-grid.jpg\"/>"
      ],
      "text/plain": [
       "<IPython.core.display.Image object>"
      ]
     },
     "metadata": {},
     "output_type": "display_data"
    },
    {
     "name": "stdout",
     "output_type": "stream",
     "text": [
      "Brand:  NAILS INC. | Name:  Gel-less Gel Nail Polish Remover Kit | Price: $ 21.0\n",
      "Product URL:  https://www.sephora.com/product/gel-less-gel-nail-polish-remover-P423310\n"
     ]
    },
    {
     "data": {
      "text/html": [
       "<img src=\"https://www.sephora.com/productimages/sku/s1978618-main-grid.jpg\"/>"
      ],
      "text/plain": [
       "<IPython.core.display.Image object>"
      ]
     },
     "metadata": {},
     "output_type": "display_data"
    }
   ],
   "source": [
    "from IPython.display import Image\n",
    "\n",
    "print(\"Tester recommendations:\")\n",
    "for m in tester_top_ten_recs:\n",
    "    product = prod.iloc[m]\n",
    "    print(\"Brand: \", product['brand'], \"| Name: \", product['name'], \"| Price: $\", product['price'])\n",
    "    print(\"Product URL: \", product['product_url'])\n",
    "    display(Image(url =product['image_url']))"
   ]
  },
  {
   "cell_type": "markdown",
   "metadata": {},
   "source": [
    "## Make recommendation to new user"
   ]
  },
  {
   "cell_type": "markdown",
   "metadata": {},
   "source": [
    "Define a new user with arbitrary features for eye_color, hair_color, skin_tone, skin_type and age_range."
   ]
  },
  {
   "cell_type": "code",
   "execution_count": 79,
   "metadata": {},
   "outputs": [
    {
     "data": {
      "text/plain": [
       "array(['Brown', 'Blue', 'Green', 'Hazel', 'missing', 'Gray'], dtype=object)"
      ]
     },
     "execution_count": 79,
     "metadata": {},
     "output_type": "execute_result"
    }
   ],
   "source": [
    "eye_color_uniques=ratings['eye_color'].unique()\n",
    "eye_color_uniques"
   ]
  },
  {
   "cell_type": "code",
   "execution_count": 80,
   "metadata": {},
   "outputs": [
    {
     "data": {
      "text/plain": [
       "array(['Black', 'Blonde', 'Brunette', 'Auburn', 'missing', 'Red', 'Gray'],\n",
       "      dtype=object)"
      ]
     },
     "execution_count": 80,
     "metadata": {},
     "output_type": "execute_result"
    }
   ],
   "source": [
    "hair_color_uniques=ratings['hair_color'].unique()\n",
    "hair_color_uniques"
   ]
  },
  {
   "cell_type": "code",
   "execution_count": 81,
   "metadata": {},
   "outputs": [
    {
     "data": {
      "text/plain": [
       "array(['Normal', 'Oily', 'Combination', 'missing', 'Dry'], dtype=object)"
      ]
     },
     "execution_count": 81,
     "metadata": {},
     "output_type": "execute_result"
    }
   ],
   "source": [
    "skin_tone_uniques=ratings['skin_tone'].unique()\n",
    "skin_tone_uniques"
   ]
  },
  {
   "cell_type": "code",
   "execution_count": 82,
   "metadata": {},
   "outputs": [
    {
     "data": {
      "text/plain": [
       "array(['Normal', 'Oily', 'Combination', 'missing', 'Dry'], dtype=object)"
      ]
     },
     "execution_count": 82,
     "metadata": {},
     "output_type": "execute_result"
    }
   ],
   "source": [
    "skin_type_uniques=ratings['skin_type'].unique()\n",
    "skin_type_uniques"
   ]
  },
  {
   "cell_type": "code",
   "execution_count": 83,
   "metadata": {},
   "outputs": [
    {
     "data": {
      "text/plain": [
       "array(['missing', '25-34', 'over 54', '18-24', '45-54', '13-17', '35-44'],\n",
       "      dtype=object)"
      ]
     },
     "execution_count": 83,
     "metadata": {},
     "output_type": "execute_result"
    }
   ],
   "source": [
    "age_range_uniques=ratings['age_range'].unique()\n",
    "age_range_uniques"
   ]
  },
  {
   "cell_type": "code",
   "execution_count": 87,
   "metadata": {},
   "outputs": [],
   "source": [
    "new_user={'eye_color':'Hazel',\n",
    "         'hair_color':'Auburn',\n",
    "         'skin_tone':'Oily',\n",
    "         'skin_type':'Oily',\n",
    "         'age_range':'25-34'}"
   ]
  },
  {
   "cell_type": "code",
   "execution_count": 92,
   "metadata": {},
   "outputs": [
    {
     "ename": "IndexError",
     "evalue": "index (324110) out of range",
     "output_type": "error",
     "traceback": [
      "\u001b[1;31m---------------------------------------------------------------------------\u001b[0m",
      "\u001b[1;31mIndexError\u001b[0m                                Traceback (most recent call last)",
      "\u001b[1;32m<ipython-input-92-2bd3a7b3a7df>\u001b[0m in \u001b[0;36m<module>\u001b[1;34m\u001b[0m\n\u001b[1;32m----> 1\u001b[1;33m \u001b[0mnew_user_features\u001b[0m \u001b[1;33m=\u001b[0m \u001b[0msparse\u001b[0m\u001b[1;33m.\u001b[0m\u001b[0mcsr_matrix\u001b[0m\u001b[1;33m(\u001b[0m\u001b[0mfull_user_features\u001b[0m\u001b[1;33m)\u001b[0m\u001b[1;33m[\u001b[0m\u001b[0mnew_user_id\u001b[0m\u001b[1;33m]\u001b[0m\u001b[1;33m\u001b[0m\u001b[1;33m\u001b[0m\u001b[0m\n\u001b[0m\u001b[0;32m      2\u001b[0m \u001b[1;31m#tester_rankings = saved_model_hybrid.predict_rank(user_features=new_user_features,item_features=full_item_features)[0]\u001b[0m\u001b[1;33m\u001b[0m\u001b[1;33m\u001b[0m\u001b[1;33m\u001b[0m\u001b[0m\n\u001b[0;32m      3\u001b[0m \u001b[1;33m\u001b[0m\u001b[0m\n\u001b[0;32m      4\u001b[0m \u001b[1;31m#tester_top_ten_recs = np.where(tester_rankings <= 10)[0]\u001b[0m\u001b[1;33m\u001b[0m\u001b[1;33m\u001b[0m\u001b[1;33m\u001b[0m\u001b[0m\n",
      "\u001b[1;32mC:\\ProgramData\\Anaconda3\\lib\\site-packages\\scipy\\sparse\\csr.py\u001b[0m in \u001b[0;36m__getitem__\u001b[1;34m(self, key)\u001b[0m\n\u001b[0;32m    290\u001b[0m             \u001b[1;31m# [i, 1:2]\u001b[0m\u001b[1;33m\u001b[0m\u001b[1;33m\u001b[0m\u001b[1;33m\u001b[0m\u001b[0m\n\u001b[0;32m    291\u001b[0m             \u001b[1;32melif\u001b[0m \u001b[0misinstance\u001b[0m\u001b[1;33m(\u001b[0m\u001b[0mcol\u001b[0m\u001b[1;33m,\u001b[0m \u001b[0mslice\u001b[0m\u001b[1;33m)\u001b[0m\u001b[1;33m:\u001b[0m\u001b[1;33m\u001b[0m\u001b[1;33m\u001b[0m\u001b[0m\n\u001b[1;32m--> 292\u001b[1;33m                 \u001b[1;32mreturn\u001b[0m \u001b[0mself\u001b[0m\u001b[1;33m.\u001b[0m\u001b[0m_get_row_slice\u001b[0m\u001b[1;33m(\u001b[0m\u001b[0mrow\u001b[0m\u001b[1;33m,\u001b[0m \u001b[0mcol\u001b[0m\u001b[1;33m)\u001b[0m\u001b[1;33m\u001b[0m\u001b[1;33m\u001b[0m\u001b[0m\n\u001b[0m\u001b[0;32m    293\u001b[0m             \u001b[1;31m# [i, [1, 2]]\u001b[0m\u001b[1;33m\u001b[0m\u001b[1;33m\u001b[0m\u001b[1;33m\u001b[0m\u001b[0m\n\u001b[0;32m    294\u001b[0m             \u001b[1;32melif\u001b[0m \u001b[0missequence\u001b[0m\u001b[1;33m(\u001b[0m\u001b[0mcol\u001b[0m\u001b[1;33m)\u001b[0m\u001b[1;33m:\u001b[0m\u001b[1;33m\u001b[0m\u001b[1;33m\u001b[0m\u001b[0m\n",
      "\u001b[1;32mC:\\ProgramData\\Anaconda3\\lib\\site-packages\\scipy\\sparse\\csr.py\u001b[0m in \u001b[0;36m_get_row_slice\u001b[1;34m(self, i, cslice)\u001b[0m\n\u001b[0;32m    397\u001b[0m \u001b[1;33m\u001b[0m\u001b[0m\n\u001b[0;32m    398\u001b[0m         \u001b[1;32mif\u001b[0m \u001b[0mi\u001b[0m \u001b[1;33m<\u001b[0m \u001b[1;36m0\u001b[0m \u001b[1;32mor\u001b[0m \u001b[0mi\u001b[0m \u001b[1;33m>=\u001b[0m \u001b[0mM\u001b[0m\u001b[1;33m:\u001b[0m\u001b[1;33m\u001b[0m\u001b[1;33m\u001b[0m\u001b[0m\n\u001b[1;32m--> 399\u001b[1;33m             \u001b[1;32mraise\u001b[0m \u001b[0mIndexError\u001b[0m\u001b[1;33m(\u001b[0m\u001b[1;34m'index (%d) out of range'\u001b[0m \u001b[1;33m%\u001b[0m \u001b[0mi\u001b[0m\u001b[1;33m)\u001b[0m\u001b[1;33m\u001b[0m\u001b[1;33m\u001b[0m\u001b[0m\n\u001b[0m\u001b[0;32m    400\u001b[0m \u001b[1;33m\u001b[0m\u001b[0m\n\u001b[0;32m    401\u001b[0m         \u001b[0mstart\u001b[0m\u001b[1;33m,\u001b[0m \u001b[0mstop\u001b[0m\u001b[1;33m,\u001b[0m \u001b[0mstride\u001b[0m \u001b[1;33m=\u001b[0m \u001b[0mcslice\u001b[0m\u001b[1;33m.\u001b[0m\u001b[0mindices\u001b[0m\u001b[1;33m(\u001b[0m\u001b[0mN\u001b[0m\u001b[1;33m)\u001b[0m\u001b[1;33m\u001b[0m\u001b[1;33m\u001b[0m\u001b[0m\n",
      "\u001b[1;31mIndexError\u001b[0m: index (324110) out of range"
     ]
    }
   ],
   "source": [
    "new_user_features = sparse.csr_matrix(full_user_features)[new_user_id]\n",
    "tester_rankings = saved_model_hybrid.predict_rank(user_features=new_user_features,item_features=full_item_features)[0]\n",
    "\n",
    "tester_top_ten_recs = np.where(tester_rankings <= 10)[0]"
   ]
  },
  {
   "cell_type": "code",
   "execution_count": null,
   "metadata": {},
   "outputs": [],
   "source": []
  }
 ],
 "metadata": {
  "kernelspec": {
   "display_name": "Python 3",
   "language": "python",
   "name": "python3"
  },
  "language_info": {
   "codemirror_mode": {
    "name": "ipython",
    "version": 3
   },
   "file_extension": ".py",
   "mimetype": "text/x-python",
   "name": "python",
   "nbconvert_exporter": "python",
   "pygments_lexer": "ipython3",
   "version": "3.7.3"
  }
 },
 "nbformat": 4,
 "nbformat_minor": 2
}
